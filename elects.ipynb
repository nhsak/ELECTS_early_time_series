{
 "cells": [
  {
   "cell_type": "markdown",
   "id": "b7579b90",
   "metadata": {},
   "source": [
    "# End-to-end Learning for Early Classification of Time Series (ELECTS)\n",
    "\n",
    "## Train and predict with an RNN trained with ELECTS\n",
    "\n",
    "Early predictions with the RNN model.\n",
    "\n",
    "Please run `python train.py` first to generate `snapshots/model.pth`"
   ]
  },
  {
   "cell_type": "code",
   "execution_count": 1,
   "id": "220317b5-ca11-4dc9-b9b8-28bb8ff7963f",
   "metadata": {
    "execution": {
     "iopub.execute_input": "2025-01-23T08:00:09.239424Z",
     "iopub.status.busy": "2025-01-23T08:00:09.238961Z",
     "iopub.status.idle": "2025-01-23T08:00:18.985343Z",
     "shell.execute_reply": "2025-01-23T08:00:18.984884Z",
     "shell.execute_reply.started": "2025-01-23T08:00:09.239403Z"
    }
   },
   "outputs": [
    {
     "name": "stdout",
     "output_type": "stream",
     "text": [
      "Collecting numpy\n",
      "  Downloading numpy-2.2.2-cp310-cp310-manylinux_2_17_x86_64.manylinux2014_x86_64.whl (16.4 MB)\n",
      "\u001b[2K     \u001b[90m━━━━━━━━━━━━━━━━━━━━━━━━━━━━━━━━━━━━━━━━\u001b[0m \u001b[32m16.4/16.4 MB\u001b[0m \u001b[31m12.7 MB/s\u001b[0m eta \u001b[36m0:00:00\u001b[0m00:01\u001b[0m00:01\u001b[0m\n",
      "\u001b[?25hCollecting torch\n",
      "  Downloading torch-2.5.1-cp310-cp310-manylinux1_x86_64.whl (906.4 MB)\n",
      "\u001b[2K     \u001b[90m━━━━━━━━━━━━━━━━━━━━━━━━━━━━━━━━━━━━━━━\u001b[0m \u001b[32m906.4/906.4 MB\u001b[0m \u001b[31m2.6 MB/s\u001b[0m eta \u001b[36m0:00:00\u001b[0m00:01\u001b[0m00:01\u001b[0m\n",
      "\u001b[?25hCollecting pandas\n",
      "  Downloading pandas-2.2.3-cp310-cp310-manylinux_2_17_x86_64.manylinux2014_x86_64.whl (13.1 MB)\n",
      "\u001b[2K     \u001b[90m━━━━━━━━━━━━━━━━━━━━━━━━━━━━━━━━━━━━━━━━\u001b[0m \u001b[32m13.1/13.1 MB\u001b[0m \u001b[31m32.2 MB/s\u001b[0m eta \u001b[36m0:00:00\u001b[0m00:01\u001b[0m00:01\u001b[0m\n",
      "\u001b[?25hCollecting seaborn\n",
      "  Downloading seaborn-0.13.2-py3-none-any.whl (294 kB)\n",
      "\u001b[2K     \u001b[90m━━━━━━━━━━━━━━━━━━━━━━━━━━━━━━━━━━━━━━\u001b[0m \u001b[32m294.9/294.9 KB\u001b[0m \u001b[31m77.8 MB/s\u001b[0m eta \u001b[36m0:00:00\u001b[0m\n",
      "\u001b[?25hCollecting matplotlib\n",
      "  Downloading matplotlib-3.10.0-cp310-cp310-manylinux_2_17_x86_64.manylinux2014_x86_64.whl (8.6 MB)\n",
      "\u001b[2K     \u001b[90m━━━━━━━━━━━━━━━━━━━━━━━━━━━━━━━━━━━━━━━━\u001b[0m \u001b[32m8.6/8.6 MB\u001b[0m \u001b[31m79.0 MB/s\u001b[0m eta \u001b[36m0:00:00\u001b[0m:00:01\u001b[0m00:01\u001b[0m\n",
      "\u001b[?25hCollecting requests\n",
      "  Downloading requests-2.32.3-py3-none-any.whl (64 kB)\n",
      "\u001b[2K     \u001b[90m━━━━━━━━━━━━━━━━━━━━━━━━━━━━━━━━━━━━━━━━\u001b[0m \u001b[32m64.9/64.9 KB\u001b[0m \u001b[31m25.0 MB/s\u001b[0m eta \u001b[36m0:00:00\u001b[0m\n",
      "\u001b[?25hCollecting visdom\n",
      "  Downloading visdom-0.2.4.tar.gz (1.4 MB)\n",
      "\u001b[2K     \u001b[90m━━━━━━━━━━━━━━━━━━━━━━━━━━━━━━━━━━━━━━━━\u001b[0m \u001b[32m1.4/1.4 MB\u001b[0m \u001b[31m77.5 MB/s\u001b[0m eta \u001b[36m0:00:00\u001b[0m\n",
      "\u001b[?25h  Preparing metadata (setup.py) ... \u001b[?25ldone\n",
      "\u001b[?25hCollecting tqdm\n",
      "  Downloading tqdm-4.67.1-py3-none-any.whl (78 kB)\n",
      "\u001b[2K     \u001b[90m━━━━━━━━━━━━━━━━━━━━━━━━━━━━━━━━━━━━━━━━\u001b[0m \u001b[32m78.5/78.5 KB\u001b[0m \u001b[31m29.9 MB/s\u001b[0m eta \u001b[36m0:00:00\u001b[0m\n",
      "\u001b[?25hCollecting scikit-learn\n",
      "  Downloading scikit_learn-1.6.1-cp310-cp310-manylinux_2_17_x86_64.manylinux2014_x86_64.whl (13.5 MB)\n",
      "\u001b[2K     \u001b[90m━━━━━━━━━━━━━━━━━━━━━━━━━━━━━━━━━━━━━━━━\u001b[0m \u001b[32m13.5/13.5 MB\u001b[0m \u001b[31m66.8 MB/s\u001b[0m eta \u001b[36m0:00:00\u001b[0m00:01\u001b[0m00:01\u001b[0m\n",
      "\u001b[?25hCollecting jupyter\n",
      "  Downloading jupyter-1.1.1-py2.py3-none-any.whl (2.7 kB)\n",
      "Collecting breizhcrops\n",
      "  Downloading breizhcrops-0.0.4.1-py3-none-any.whl (33 kB)\n",
      "Collecting netCDF4\n",
      "  Downloading netCDF4-1.7.2-cp310-cp310-manylinux_2_17_x86_64.manylinux2014_x86_64.whl (9.1 MB)\n",
      "\u001b[2K     \u001b[90m━━━━━━━━━━━━━━━━━━━━━━━━━━━━━━━━━━━━━━━━\u001b[0m \u001b[32m9.1/9.1 MB\u001b[0m \u001b[31m82.1 MB/s\u001b[0m eta \u001b[36m0:00:00\u001b[0m:00:01\u001b[0m00:01\u001b[0m\n",
      "\u001b[?25hCollecting torchvision\n",
      "  Downloading torchvision-0.20.1-cp310-cp310-manylinux1_x86_64.whl (7.2 MB)\n",
      "\u001b[2K     \u001b[90m━━━━━━━━━━━━━━━━━━━━━━━━━━━━━━━━━━━━━━━━\u001b[0m \u001b[32m7.2/7.2 MB\u001b[0m \u001b[31m68.8 MB/s\u001b[0m eta \u001b[36m0:00:00\u001b[0m:00:01\u001b[0m00:01\u001b[0m\n",
      "\u001b[?25hCollecting nvidia-nccl-cu12==2.21.5\n",
      "  Downloading nvidia_nccl_cu12-2.21.5-py3-none-manylinux2014_x86_64.whl (188.7 MB)\n",
      "\u001b[2K     \u001b[90m━━━━━━━━━━━━━━━━━━━━━━━━━━━━━━━━━━━━━━\u001b[0m \u001b[32m188.7/188.7 MB\u001b[0m \u001b[31m12.0 MB/s\u001b[0m eta \u001b[36m0:00:00\u001b[0m00:01\u001b[0m00:01\u001b[0m\n",
      "\u001b[?25hCollecting nvidia-nvjitlink-cu12==12.4.127\n",
      "  Downloading nvidia_nvjitlink_cu12-12.4.127-py3-none-manylinux2014_x86_64.whl (21.1 MB)\n",
      "\u001b[2K     \u001b[90m━━━━━━━━━━━━━━━━━━━━━━━━━━━━━━━━━━━━━━━━\u001b[0m \u001b[32m21.1/21.1 MB\u001b[0m \u001b[31m67.5 MB/s\u001b[0m eta \u001b[36m0:00:00\u001b[0m00:01\u001b[0m00:01\u001b[0m\n",
      "\u001b[?25hCollecting triton==3.1.0\n",
      "  Downloading triton-3.1.0-cp310-cp310-manylinux_2_17_x86_64.manylinux2014_x86_64.whl (209.5 MB)\n",
      "\u001b[2K     \u001b[90m━━━━━━━━━━━━━━━━━━━━━━━━━━━━━━━━━━━━━━━\u001b[0m \u001b[32m209.5/209.5 MB\u001b[0m \u001b[31m9.4 MB/s\u001b[0m eta \u001b[36m0:00:00\u001b[0m00:01\u001b[0m00:01\u001b[0m\n",
      "\u001b[?25hCollecting nvidia-curand-cu12==10.3.5.147\n",
      "  Downloading nvidia_curand_cu12-10.3.5.147-py3-none-manylinux2014_x86_64.whl (56.3 MB)\n",
      "\u001b[2K     \u001b[90m━━━━━━━━━━━━━━━━━━━━━━━━━━━━━━━━━━━━━━━━\u001b[0m \u001b[32m56.3/56.3 MB\u001b[0m \u001b[31m23.7 MB/s\u001b[0m eta \u001b[36m0:00:00\u001b[0m00:01\u001b[0m00:01\u001b[0m\n",
      "\u001b[?25hCollecting nvidia-cudnn-cu12==9.1.0.70\n",
      "  Downloading nvidia_cudnn_cu12-9.1.0.70-py3-none-manylinux2014_x86_64.whl (664.8 MB)\n",
      "\u001b[2K     \u001b[90m━━━━━━━━━━━━━━━━━━━━━━━━━━━━━━━━━━━━━━━\u001b[0m \u001b[32m664.8/664.8 MB\u001b[0m \u001b[31m3.7 MB/s\u001b[0m eta \u001b[36m0:00:00\u001b[0m00:01\u001b[0m00:01\u001b[0m\n",
      "\u001b[?25hCollecting nvidia-cublas-cu12==12.4.5.8\n",
      "  Downloading nvidia_cublas_cu12-12.4.5.8-py3-none-manylinux2014_x86_64.whl (363.4 MB)\n",
      "\u001b[2K     \u001b[90m━━━━━━━━━━━━━━━━━━━━━━━━━━━━━━━━━━━━━━━\u001b[0m \u001b[32m363.4/363.4 MB\u001b[0m \u001b[31m6.3 MB/s\u001b[0m eta \u001b[36m0:00:00\u001b[0m00:01\u001b[0m00:01\u001b[0m\n",
      "\u001b[?25hCollecting nvidia-cuda-cupti-cu12==12.4.127\n",
      "  Downloading nvidia_cuda_cupti_cu12-12.4.127-py3-none-manylinux2014_x86_64.whl (13.8 MB)\n",
      "\u001b[2K     \u001b[90m━━━━━━━━━━━━━━━━━━━━━━━━━━━━━━━━━━━━━━━━\u001b[0m \u001b[32m13.8/13.8 MB\u001b[0m \u001b[31m64.7 MB/s\u001b[0m eta \u001b[36m0:00:00\u001b[0m00:01\u001b[0m00:01\u001b[0m\n",
      "\u001b[?25hCollecting fsspec\n",
      "  Downloading fsspec-2024.12.0-py3-none-any.whl (183 kB)\n",
      "\u001b[2K     \u001b[90m━━━━━━━━━━━━━━━━━━━━━━━━━━━━━━━━━━━━━━\u001b[0m \u001b[32m183.9/183.9 KB\u001b[0m \u001b[31m46.4 MB/s\u001b[0m eta \u001b[36m0:00:00\u001b[0m\n",
      "\u001b[?25hRequirement already satisfied: typing-extensions>=4.8.0 in /data/home/go98kef/.virtualenvs/venv/lib/python3.10/site-packages (from torch->-r requirements.txt (line 2)) (4.12.2)\n",
      "Collecting nvidia-cufft-cu12==11.2.1.3\n",
      "  Downloading nvidia_cufft_cu12-11.2.1.3-py3-none-manylinux2014_x86_64.whl (211.5 MB)\n",
      "\u001b[2K     \u001b[90m━━━━━━━━━━━━━━━━━━━━━━━━━━━━━━━━━━━━━━\u001b[0m \u001b[32m211.5/211.5 MB\u001b[0m \u001b[31m11.0 MB/s\u001b[0m eta \u001b[36m0:00:00\u001b[0m00:01\u001b[0m00:01\u001b[0m\n",
      "\u001b[?25hCollecting nvidia-cusolver-cu12==11.6.1.9\n",
      "  Downloading nvidia_cusolver_cu12-11.6.1.9-py3-none-manylinux2014_x86_64.whl (127.9 MB)\n",
      "\u001b[2K     \u001b[90m━━━━━━━━━━━━━━━━━━━━━━━━━━━━━━━━━━━━━━\u001b[0m \u001b[32m127.9/127.9 MB\u001b[0m \u001b[31m15.2 MB/s\u001b[0m eta \u001b[36m0:00:00\u001b[0m00:01\u001b[0m00:01\u001b[0m\n",
      "\u001b[?25hCollecting sympy==1.13.1\n",
      "  Downloading sympy-1.13.1-py3-none-any.whl (6.2 MB)\n",
      "\u001b[2K     \u001b[90m━━━━━━━━━━━━━━━━━━━━━━━━━━━━━━━━━━━━━━━━\u001b[0m \u001b[32m6.2/6.2 MB\u001b[0m \u001b[31m55.0 MB/s\u001b[0m eta \u001b[36m0:00:00\u001b[0m00:01\u001b[0m00:01\u001b[0m\n",
      "\u001b[?25hCollecting jinja2\n",
      "  Downloading jinja2-3.1.5-py3-none-any.whl (134 kB)\n",
      "\u001b[2K     \u001b[90m━━━━━━━━━━━━━━━━━━━━━━━━━━━━━━━━━━━━━━\u001b[0m \u001b[32m134.6/134.6 KB\u001b[0m \u001b[31m51.9 MB/s\u001b[0m eta \u001b[36m0:00:00\u001b[0m\n",
      "\u001b[?25hCollecting nvidia-cuda-nvrtc-cu12==12.4.127\n",
      "  Downloading nvidia_cuda_nvrtc_cu12-12.4.127-py3-none-manylinux2014_x86_64.whl (24.6 MB)\n",
      "\u001b[2K     \u001b[90m━━━━━━━━━━━━━━━━━━━━━━━━━━━━━━━━━━━━━━━━\u001b[0m \u001b[32m24.6/24.6 MB\u001b[0m \u001b[31m43.0 MB/s\u001b[0m eta \u001b[36m0:00:00\u001b[0m00:01\u001b[0m00:01\u001b[0m\n",
      "\u001b[?25hCollecting filelock\n",
      "  Downloading filelock-3.17.0-py3-none-any.whl (16 kB)\n",
      "Collecting nvidia-nvtx-cu12==12.4.127\n",
      "  Downloading nvidia_nvtx_cu12-12.4.127-py3-none-manylinux2014_x86_64.whl (99 kB)\n",
      "\u001b[2K     \u001b[90m━━━━━━━━━━━━━━━━━━━━━━━━━━━━━━━━━━━━━━━━\u001b[0m \u001b[32m99.1/99.1 KB\u001b[0m \u001b[31m43.9 MB/s\u001b[0m eta \u001b[36m0:00:00\u001b[0m\n",
      "\u001b[?25hCollecting nvidia-cusparse-cu12==12.3.1.170\n",
      "  Downloading nvidia_cusparse_cu12-12.3.1.170-py3-none-manylinux2014_x86_64.whl (207.5 MB)\n",
      "\u001b[2K     \u001b[90m━━━━━━━━━━━━━━━━━━━━━━━━━━━━━━━━━━━━━━━\u001b[0m \u001b[32m207.5/207.5 MB\u001b[0m \u001b[31m7.9 MB/s\u001b[0m eta \u001b[36m0:00:00\u001b[0m00:01\u001b[0m00:01\u001b[0m\n",
      "\u001b[?25hCollecting networkx\n",
      "  Downloading networkx-3.4.2-py3-none-any.whl (1.7 MB)\n",
      "\u001b[2K     \u001b[90m━━━━━━━━━━━━━━━━━━━━━━━━━━━━━━━━━━━━━━━━\u001b[0m \u001b[32m1.7/1.7 MB\u001b[0m \u001b[31m55.0 MB/s\u001b[0m eta \u001b[36m0:00:00\u001b[0m\n",
      "\u001b[?25hCollecting nvidia-cuda-runtime-cu12==12.4.127\n",
      "  Downloading nvidia_cuda_runtime_cu12-12.4.127-py3-none-manylinux2014_x86_64.whl (883 kB)\n",
      "\u001b[2K     \u001b[90m━━━━━━━━━━━━━━━━━━━━━━━━━━━━━━━━━━━━━━\u001b[0m \u001b[32m883.7/883.7 KB\u001b[0m \u001b[31m48.0 MB/s\u001b[0m eta \u001b[36m0:00:00\u001b[0m\n",
      "\u001b[?25hCollecting mpmath<1.4,>=1.1.0\n",
      "  Downloading mpmath-1.3.0-py3-none-any.whl (536 kB)\n",
      "\u001b[2K     \u001b[90m━━━━━━━━━━━━━━━━━━━━━━━━━━━━━━━━━━━━━━\u001b[0m \u001b[32m536.2/536.2 KB\u001b[0m \u001b[31m81.9 MB/s\u001b[0m eta \u001b[36m0:00:00\u001b[0m\n",
      "\u001b[?25hCollecting pytz>=2020.1\n",
      "  Downloading pytz-2024.2-py2.py3-none-any.whl (508 kB)\n",
      "\u001b[2K     \u001b[90m━━━━━━━━━━━━━━━━━━━━━━━━━━━━━━━━━━━━━━\u001b[0m \u001b[32m508.0/508.0 KB\u001b[0m \u001b[31m79.0 MB/s\u001b[0m eta \u001b[36m0:00:00\u001b[0m\n",
      "\u001b[?25hCollecting tzdata>=2022.7\n",
      "  Downloading tzdata-2025.1-py2.py3-none-any.whl (346 kB)\n",
      "\u001b[2K     \u001b[90m━━━━━━━━━━━━━━━━━━━━━━━━━━━━━━━━━━━━━━\u001b[0m \u001b[32m346.8/346.8 KB\u001b[0m \u001b[31m76.4 MB/s\u001b[0m eta \u001b[36m0:00:00\u001b[0m\n",
      "\u001b[?25hRequirement already satisfied: python-dateutil>=2.8.2 in /data/home/go98kef/.virtualenvs/venv/lib/python3.10/site-packages (from pandas->-r requirements.txt (line 3)) (2.9.0.post0)\n",
      "Collecting kiwisolver>=1.3.1\n",
      "  Downloading kiwisolver-1.4.8-cp310-cp310-manylinux_2_12_x86_64.manylinux2010_x86_64.whl (1.6 MB)\n",
      "\u001b[2K     \u001b[90m━━━━━━━━━━━━━━━━━━━━━━━━━━━━━━━━━━━━━━━━\u001b[0m \u001b[32m1.6/1.6 MB\u001b[0m \u001b[31m49.3 MB/s\u001b[0m eta \u001b[36m0:00:00\u001b[0m\n",
      "\u001b[?25hRequirement already satisfied: packaging>=20.0 in /data/home/go98kef/.virtualenvs/venv/lib/python3.10/site-packages (from matplotlib->-r requirements.txt (line 5)) (24.2)\n",
      "Collecting pillow>=8\n",
      "  Downloading pillow-11.1.0-cp310-cp310-manylinux_2_28_x86_64.whl (4.5 MB)\n",
      "\u001b[2K     \u001b[90m━━━━━━━━━━━━━━━━━━━━━━━━━━━━━━━━━━━━━━━━\u001b[0m \u001b[32m4.5/4.5 MB\u001b[0m \u001b[31m45.2 MB/s\u001b[0m eta \u001b[36m0:00:00\u001b[0ma \u001b[36m0:00:01\u001b[0m\n",
      "\u001b[?25hCollecting fonttools>=4.22.0\n",
      "  Downloading fonttools-4.55.4-cp310-cp310-manylinux_2_17_x86_64.manylinux2014_x86_64.whl (4.6 MB)\n",
      "\u001b[2K     \u001b[90m━━━━━━━━━━━━━━━━━━━━━━━━━━━━━━━━━━━━━━━━\u001b[0m \u001b[32m4.6/4.6 MB\u001b[0m \u001b[31m49.4 MB/s\u001b[0m eta \u001b[36m0:00:00\u001b[0ma \u001b[36m0:00:01\u001b[0m\n",
      "\u001b[?25hCollecting cycler>=0.10\n",
      "  Downloading cycler-0.12.1-py3-none-any.whl (8.3 kB)\n",
      "Collecting contourpy>=1.0.1\n",
      "  Downloading contourpy-1.3.1-cp310-cp310-manylinux_2_17_x86_64.manylinux2014_x86_64.whl (324 kB)\n",
      "\u001b[2K     \u001b[90m━━━━━━━━━━━━━━━━━━━━━━━━━━━━━━━━━━━━━━\u001b[0m \u001b[32m325.0/325.0 KB\u001b[0m \u001b[31m68.3 MB/s\u001b[0m eta \u001b[36m0:00:00\u001b[0m\n",
      "\u001b[?25hCollecting pyparsing>=2.3.1\n",
      "  Downloading pyparsing-3.2.1-py3-none-any.whl (107 kB)\n",
      "\u001b[2K     \u001b[90m━━━━━━━━━━━━━━━━━━━━━━━━━━━━━━━━━━━━━━\u001b[0m \u001b[32m107.7/107.7 KB\u001b[0m \u001b[31m29.7 MB/s\u001b[0m eta \u001b[36m0:00:00\u001b[0m\n",
      "\u001b[?25hCollecting certifi>=2017.4.17\n",
      "  Downloading certifi-2024.12.14-py3-none-any.whl (164 kB)\n",
      "\u001b[2K     \u001b[90m━━━━━━━━━━━━━━━━━━━━━━━━━━━━━━━━━━━━━━\u001b[0m \u001b[32m164.9/164.9 KB\u001b[0m \u001b[31m46.6 MB/s\u001b[0m eta \u001b[36m0:00:00\u001b[0m\n",
      "\u001b[?25hCollecting charset-normalizer<4,>=2\n",
      "  Downloading charset_normalizer-3.4.1-cp310-cp310-manylinux_2_17_x86_64.manylinux2014_x86_64.whl (146 kB)\n",
      "\u001b[2K     \u001b[90m━━━━━━━━━━━━━━━━━━━━━━━━━━━━━━━━━━━━━━\u001b[0m \u001b[32m146.1/146.1 KB\u001b[0m \u001b[31m51.9 MB/s\u001b[0m eta \u001b[36m0:00:00\u001b[0m\n",
      "\u001b[?25hCollecting urllib3<3,>=1.21.1\n",
      "  Downloading urllib3-2.3.0-py3-none-any.whl (128 kB)\n",
      "\u001b[2K     \u001b[90m━━━━━━━━━━━━━━━━━━━━━━━━━━━━━━━━━━━━━━\u001b[0m \u001b[32m128.4/128.4 KB\u001b[0m \u001b[31m54.3 MB/s\u001b[0m eta \u001b[36m0:00:00\u001b[0m\n",
      "\u001b[?25hCollecting idna<4,>=2.5\n",
      "  Downloading idna-3.10-py3-none-any.whl (70 kB)\n",
      "\u001b[2K     \u001b[90m━━━━━━━━━━━━━━━━━━━━━━━━━━━━━━━━━━━━━━━━\u001b[0m \u001b[32m70.4/70.4 KB\u001b[0m \u001b[31m24.3 MB/s\u001b[0m eta \u001b[36m0:00:00\u001b[0m\n",
      "\u001b[?25hCollecting jsonpatch\n",
      "  Downloading jsonpatch-1.33-py2.py3-none-any.whl (12 kB)\n",
      "Collecting scipy\n",
      "  Downloading scipy-1.15.1-cp310-cp310-manylinux_2_17_x86_64.manylinux2014_x86_64.whl (40.6 MB)\n",
      "\u001b[2K     \u001b[90m━━━━━━━━━━━━━━━━━━━━━━━━━━━━━━━━━━━━━━━━\u001b[0m \u001b[32m40.6/40.6 MB\u001b[0m \u001b[31m28.4 MB/s\u001b[0m eta \u001b[36m0:00:00\u001b[0m00:01\u001b[0m00:01\u001b[0m\n",
      "\u001b[?25hRequirement already satisfied: six in /data/home/go98kef/.virtualenvs/venv/lib/python3.10/site-packages (from visdom->-r requirements.txt (line 7)) (1.17.0)\n",
      "Requirement already satisfied: tornado in /data/home/go98kef/.virtualenvs/venv/lib/python3.10/site-packages (from visdom->-r requirements.txt (line 7)) (6.4.2)\n",
      "Collecting websocket-client\n",
      "  Downloading websocket_client-1.8.0-py3-none-any.whl (58 kB)\n",
      "\u001b[2K     \u001b[90m━━━━━━━━━━━━━━━━━━━━━━━━━━━━━━━━━━━━━━━━\u001b[0m \u001b[32m58.8/58.8 KB\u001b[0m \u001b[31m29.0 MB/s\u001b[0m eta \u001b[36m0:00:00\u001b[0m\n",
      "\u001b[?25hCollecting threadpoolctl>=3.1.0\n",
      "  Downloading threadpoolctl-3.5.0-py3-none-any.whl (18 kB)\n",
      "Collecting joblib>=1.2.0\n",
      "  Downloading joblib-1.4.2-py3-none-any.whl (301 kB)\n",
      "\u001b[2K     \u001b[90m━━━━━━━━━━━━━━━━━━━━━━━━━━━━━━━━━━━━━━━\u001b[0m \u001b[32m301.8/301.8 KB\u001b[0m \u001b[31m1.9 MB/s\u001b[0m eta \u001b[36m0:00:00\u001b[0m00:01\u001b[0m\n",
      "\u001b[?25hCollecting notebook\n",
      "  Downloading notebook-7.3.2-py3-none-any.whl (13.2 MB)\n",
      "\u001b[2K     \u001b[90m━━━━━━━━━━━━━━━━━━━━━━━━━━━━━━━━━━━━━━━━\u001b[0m \u001b[32m13.2/13.2 MB\u001b[0m \u001b[31m27.8 MB/s\u001b[0m eta \u001b[36m0:00:00\u001b[0m00:01\u001b[0m00:01\u001b[0m\n",
      "\u001b[?25hCollecting jupyter-console\n",
      "  Downloading jupyter_console-6.6.3-py3-none-any.whl (24 kB)\n",
      "Requirement already satisfied: ipykernel in /data/home/go98kef/.virtualenvs/venv/lib/python3.10/site-packages (from jupyter->-r requirements.txt (line 10)) (6.29.5)\n",
      "Collecting jupyterlab\n",
      "  Downloading jupyterlab-4.3.4-py3-none-any.whl (11.7 MB)\n",
      "\u001b[2K     \u001b[90m━━━━━━━━━━━━━━━━━━━━━━━━━━━━━━━━━━━━━━━━\u001b[0m \u001b[32m11.7/11.7 MB\u001b[0m \u001b[31m52.7 MB/s\u001b[0m eta \u001b[36m0:00:00\u001b[0m00:01\u001b[0m0:01\u001b[0m\n",
      "\u001b[?25hCollecting nbconvert\n",
      "  Downloading nbconvert-7.16.5-py3-none-any.whl (258 kB)\n",
      "\u001b[2K     \u001b[90m━━━━━━━━━━━━━━━━━━━━━━━━━━━━━━━━━━━━━━\u001b[0m \u001b[32m258.1/258.1 KB\u001b[0m \u001b[31m69.2 MB/s\u001b[0m eta \u001b[36m0:00:00\u001b[0m\n",
      "\u001b[?25hCollecting ipywidgets\n",
      "  Downloading ipywidgets-8.1.5-py3-none-any.whl (139 kB)\n",
      "\u001b[2K     \u001b[90m━━━━━━━━━━━━━━━━━━━━━━━━━━━━━━━━━━━━━━\u001b[0m \u001b[32m139.8/139.8 KB\u001b[0m \u001b[31m49.9 MB/s\u001b[0m eta \u001b[36m0:00:00\u001b[0m\n",
      "\u001b[?25hCollecting pytest\n",
      "  Downloading pytest-8.3.4-py3-none-any.whl (343 kB)\n",
      "\u001b[2K     \u001b[90m━━━━━━━━━━━━━━━━━━━━━━━━━━━━━━━━━━━━━━\u001b[0m \u001b[32m343.1/343.1 KB\u001b[0m \u001b[31m82.9 MB/s\u001b[0m eta \u001b[36m0:00:00\u001b[0m\n",
      "\u001b[?25hCollecting geojson>=2.4.1\n",
      "  Downloading geojson-3.2.0-py3-none-any.whl (15 kB)\n",
      "Collecting geopandas>=0.5.0\n",
      "  Downloading geopandas-1.0.1-py3-none-any.whl (323 kB)\n",
      "\u001b[2K     \u001b[90m━━━━━━━━━━━━━━━━━━━━━━━━━━━━━━━━━━━━━━\u001b[0m \u001b[32m323.6/323.6 KB\u001b[0m \u001b[31m57.2 MB/s\u001b[0m eta \u001b[36m0:00:00\u001b[0m\n",
      "\u001b[?25hCollecting h5py\n",
      "  Downloading h5py-3.12.1-cp310-cp310-manylinux_2_17_x86_64.manylinux2014_x86_64.whl (5.3 MB)\n",
      "\u001b[2K     \u001b[90m━━━━━━━━━━━━━━━━━━━━━━━━━━━━━━━━━━━━━━━━\u001b[0m \u001b[32m5.3/5.3 MB\u001b[0m \u001b[31m47.6 MB/s\u001b[0m eta \u001b[36m0:00:00\u001b[0m00:01\u001b[0m00:01\u001b[0m\n",
      "\u001b[?25hCollecting cftime\n",
      "  Downloading cftime-1.6.4.post1-cp310-cp310-manylinux_2_17_x86_64.manylinux2014_x86_64.whl (1.3 MB)\n",
      "\u001b[2K     \u001b[90m━━━━━━━━━━━━━━━━━━━━━━━━━━━━━━━━━━━━━━━━\u001b[0m \u001b[32m1.3/1.3 MB\u001b[0m \u001b[31m60.8 MB/s\u001b[0m eta \u001b[36m0:00:00\u001b[0m\n",
      "\u001b[?25hCollecting pyproj>=3.3.0\n",
      "  Downloading pyproj-3.7.0-cp310-cp310-manylinux_2_17_x86_64.manylinux2014_x86_64.whl (9.2 MB)\n",
      "\u001b[2K     \u001b[90m━━━━━━━━━━━━━━━━━━━━━━━━━━━━━━━━━━━━━━━━\u001b[0m \u001b[32m9.2/9.2 MB\u001b[0m \u001b[31m53.2 MB/s\u001b[0m eta \u001b[36m0:00:00\u001b[0m00:01\u001b[0m00:01\u001b[0m\n",
      "\u001b[?25hCollecting pyogrio>=0.7.2\n",
      "  Downloading pyogrio-0.10.0-cp310-cp310-manylinux_2_28_x86_64.whl (23.9 MB)\n",
      "\u001b[2K     \u001b[90m━━━━━━━━━━━━━━━━━━━━━━━━━━━━━━━━━━━━━━━━\u001b[0m \u001b[32m23.9/23.9 MB\u001b[0m \u001b[31m34.2 MB/s\u001b[0m eta \u001b[36m0:00:00\u001b[0m00:01\u001b[0m00:01\u001b[0m\n",
      "\u001b[?25hCollecting shapely>=2.0.0\n",
      "  Downloading shapely-2.0.6-cp310-cp310-manylinux_2_17_x86_64.manylinux2014_x86_64.whl (2.5 MB)\n",
      "\u001b[2K     \u001b[90m━━━━━━━━━━━━━━━━━━━━━━━━━━━━━━━━━━━━━━━━\u001b[0m \u001b[32m2.5/2.5 MB\u001b[0m \u001b[31m42.0 MB/s\u001b[0m eta \u001b[36m0:00:00\u001b[0ma \u001b[36m0:00:01\u001b[0m\n",
      "\u001b[?25hRequirement already satisfied: pyzmq>=24 in /data/home/go98kef/.virtualenvs/venv/lib/python3.10/site-packages (from ipykernel->jupyter->-r requirements.txt (line 10)) (26.2.0)\n",
      "Requirement already satisfied: traitlets>=5.4.0 in /data/home/go98kef/.virtualenvs/venv/lib/python3.10/site-packages (from ipykernel->jupyter->-r requirements.txt (line 10)) (5.14.3)\n",
      "Requirement already satisfied: jupyter-client>=6.1.12 in /data/home/go98kef/.virtualenvs/venv/lib/python3.10/site-packages (from ipykernel->jupyter->-r requirements.txt (line 10)) (8.6.3)\n",
      "Requirement already satisfied: matplotlib-inline>=0.1 in /data/home/go98kef/.virtualenvs/venv/lib/python3.10/site-packages (from ipykernel->jupyter->-r requirements.txt (line 10)) (0.1.7)\n",
      "Requirement already satisfied: psutil in /data/home/go98kef/.virtualenvs/venv/lib/python3.10/site-packages (from ipykernel->jupyter->-r requirements.txt (line 10)) (6.1.1)\n",
      "Requirement already satisfied: debugpy>=1.6.5 in /data/home/go98kef/.virtualenvs/venv/lib/python3.10/site-packages (from ipykernel->jupyter->-r requirements.txt (line 10)) (1.8.12)\n",
      "Requirement already satisfied: nest-asyncio in /data/home/go98kef/.virtualenvs/venv/lib/python3.10/site-packages (from ipykernel->jupyter->-r requirements.txt (line 10)) (1.6.0)\n",
      "Requirement already satisfied: jupyter-core!=5.0.*,>=4.12 in /data/home/go98kef/.virtualenvs/venv/lib/python3.10/site-packages (from ipykernel->jupyter->-r requirements.txt (line 10)) (5.7.2)\n",
      "Requirement already satisfied: comm>=0.1.1 in /data/home/go98kef/.virtualenvs/venv/lib/python3.10/site-packages (from ipykernel->jupyter->-r requirements.txt (line 10)) (0.2.2)\n",
      "Requirement already satisfied: ipython>=7.23.1 in /data/home/go98kef/.virtualenvs/venv/lib/python3.10/site-packages (from ipykernel->jupyter->-r requirements.txt (line 10)) (8.31.0)\n",
      "Collecting widgetsnbextension~=4.0.12\n",
      "  Downloading widgetsnbextension-4.0.13-py3-none-any.whl (2.3 MB)\n",
      "\u001b[2K     \u001b[90m━━━━━━━━━━━━━━━━━━━━━━━━━━━━━━━━━━━━━━━━\u001b[0m \u001b[32m2.3/2.3 MB\u001b[0m \u001b[31m45.4 MB/s\u001b[0m eta \u001b[36m0:00:00\u001b[0ma \u001b[36m0:00:01\u001b[0m\n",
      "\u001b[?25hCollecting jupyterlab-widgets~=3.0.12\n",
      "  Downloading jupyterlab_widgets-3.0.13-py3-none-any.whl (214 kB)\n",
      "\u001b[2K     \u001b[90m━━━━━━━━━━━━━━━━━━━━━━━━━━━━━━━━━━━━━━\u001b[0m \u001b[32m214.4/214.4 KB\u001b[0m \u001b[31m75.3 MB/s\u001b[0m eta \u001b[36m0:00:00\u001b[0m\n",
      "\u001b[?25hCollecting MarkupSafe>=2.0\n",
      "  Downloading MarkupSafe-3.0.2-cp310-cp310-manylinux_2_17_x86_64.manylinux2014_x86_64.whl (20 kB)\n",
      "Collecting jsonpointer>=1.9\n",
      "  Downloading jsonpointer-3.0.0-py2.py3-none-any.whl (7.6 kB)\n",
      "Requirement already satisfied: prompt-toolkit>=3.0.30 in /data/home/go98kef/.virtualenvs/venv/lib/python3.10/site-packages (from jupyter-console->jupyter->-r requirements.txt (line 10)) (3.0.50)\n",
      "Requirement already satisfied: pygments in /data/home/go98kef/.virtualenvs/venv/lib/python3.10/site-packages (from jupyter-console->jupyter->-r requirements.txt (line 10)) (2.19.1)\n",
      "Requirement already satisfied: setuptools>=40.8.0 in /data/home/go98kef/.virtualenvs/venv/lib/python3.10/site-packages (from jupyterlab->jupyter->-r requirements.txt (line 10)) (59.6.0)\n",
      "Collecting jupyter-lsp>=2.0.0\n",
      "  Downloading jupyter_lsp-2.2.5-py3-none-any.whl (69 kB)\n",
      "\u001b[2K     \u001b[90m━━━━━━━━━━━━━━━━━━━━━━━━━━━━━━━━━━━━━━━━\u001b[0m \u001b[32m69.1/69.1 KB\u001b[0m \u001b[31m18.7 MB/s\u001b[0m eta \u001b[36m0:00:00\u001b[0m\n",
      "\u001b[?25hCollecting jupyter-server<3,>=2.4.0\n",
      "  Downloading jupyter_server-2.15.0-py3-none-any.whl (385 kB)\n",
      "\u001b[2K     \u001b[90m━━━━━━━━━━━━━━━━━━━━━━━━━━━━━━━━━━━━━━\u001b[0m \u001b[32m385.8/385.8 KB\u001b[0m \u001b[31m85.6 MB/s\u001b[0m eta \u001b[36m0:00:00\u001b[0m\n",
      "\u001b[?25hCollecting notebook-shim>=0.2\n",
      "  Downloading notebook_shim-0.2.4-py3-none-any.whl (13 kB)\n",
      "Collecting async-lru>=1.0.0\n",
      "  Downloading async_lru-2.0.4-py3-none-any.whl (6.1 kB)\n",
      "Collecting tomli>=1.2.2\n",
      "  Downloading tomli-2.2.1-py3-none-any.whl (14 kB)\n",
      "Collecting httpx>=0.25.0\n",
      "  Downloading httpx-0.28.1-py3-none-any.whl (73 kB)\n",
      "\u001b[2K     \u001b[90m━━━━━━━━━━━━━━━━━━━━━━━━━━━━━━━━━━━━━━━━\u001b[0m \u001b[32m73.5/73.5 KB\u001b[0m \u001b[31m25.0 MB/s\u001b[0m eta \u001b[36m0:00:00\u001b[0m\n",
      "\u001b[?25hCollecting jupyterlab-server<3,>=2.27.1\n",
      "  Downloading jupyterlab_server-2.27.3-py3-none-any.whl (59 kB)\n",
      "\u001b[2K     \u001b[90m━━━━━━━━━━━━━━━━━━━━━━━━━━━━━━━━━━━━━━━━\u001b[0m \u001b[32m59.7/59.7 KB\u001b[0m \u001b[31m24.4 MB/s\u001b[0m eta \u001b[36m0:00:00\u001b[0m\n",
      "\u001b[?25hCollecting beautifulsoup4\n",
      "  Downloading beautifulsoup4-4.12.3-py3-none-any.whl (147 kB)\n",
      "\u001b[2K     \u001b[90m━━━━━━━━━━━━━━━━━━━━━━━━━━━━━━━━━━━━━━\u001b[0m \u001b[32m147.9/147.9 KB\u001b[0m \u001b[31m47.2 MB/s\u001b[0m eta \u001b[36m0:00:00\u001b[0m\n",
      "\u001b[?25hCollecting bleach[css]!=5.0.0\n",
      "  Downloading bleach-6.2.0-py3-none-any.whl (163 kB)\n",
      "\u001b[2K     \u001b[90m━━━━━━━━━━━━━━━━━━━━━━━━━━━━━━━━━━━━━━\u001b[0m \u001b[32m163.4/163.4 KB\u001b[0m \u001b[31m16.3 MB/s\u001b[0m eta \u001b[36m0:00:00\u001b[0m\n",
      "\u001b[?25hCollecting pandocfilters>=1.4.1\n",
      "  Downloading pandocfilters-1.5.1-py2.py3-none-any.whl (8.7 kB)\n",
      "Collecting defusedxml\n",
      "  Downloading defusedxml-0.7.1-py2.py3-none-any.whl (25 kB)\n",
      "Collecting mistune<4,>=2.0.3\n",
      "  Downloading mistune-3.1.0-py3-none-any.whl (53 kB)\n",
      "\u001b[2K     \u001b[90m━━━━━━━━━━━━━━━━━━━━━━━━━━━━━━━━━━━━━━━━\u001b[0m \u001b[32m53.7/53.7 KB\u001b[0m \u001b[31m18.5 MB/s\u001b[0m eta \u001b[36m0:00:00\u001b[0m\n",
      "\u001b[?25hCollecting nbclient>=0.5.0\n",
      "  Downloading nbclient-0.10.2-py3-none-any.whl (25 kB)\n",
      "Collecting nbformat>=5.7\n",
      "  Downloading nbformat-5.10.4-py3-none-any.whl (78 kB)\n",
      "\u001b[2K     \u001b[90m━━━━━━━━━━━━━━━━━━━━━━━━━━━━━━━━━━━━━━━━\u001b[0m \u001b[32m78.5/78.5 KB\u001b[0m \u001b[31m28.8 MB/s\u001b[0m eta \u001b[36m0:00:00\u001b[0m\n",
      "\u001b[?25hCollecting jupyterlab-pygments\n",
      "  Downloading jupyterlab_pygments-0.3.0-py3-none-any.whl (15 kB)\n",
      "Collecting iniconfig\n",
      "  Downloading iniconfig-2.0.0-py3-none-any.whl (5.9 kB)\n",
      "Requirement already satisfied: exceptiongroup>=1.0.0rc8 in /data/home/go98kef/.virtualenvs/venv/lib/python3.10/site-packages (from pytest->breizhcrops->-r requirements.txt (line 11)) (1.2.2)\n",
      "Collecting pluggy<2,>=1.5\n",
      "  Downloading pluggy-1.5.0-py3-none-any.whl (20 kB)\n",
      "Collecting webencodings\n",
      "  Downloading webencodings-0.5.1-py2.py3-none-any.whl (11 kB)\n",
      "Collecting tinycss2<1.5,>=1.1.0\n",
      "  Downloading tinycss2-1.4.0-py3-none-any.whl (26 kB)\n",
      "Collecting anyio\n",
      "  Downloading anyio-4.8.0-py3-none-any.whl (96 kB)\n",
      "\u001b[2K     \u001b[90m━━━━━━━━━━━━━━━━━━━━━━━━━━━━━━━━━━━━━━━━\u001b[0m \u001b[32m96.0/96.0 KB\u001b[0m \u001b[31m45.8 MB/s\u001b[0m eta \u001b[36m0:00:00\u001b[0m\n",
      "\u001b[?25hCollecting httpcore==1.*\n",
      "  Downloading httpcore-1.0.7-py3-none-any.whl (78 kB)\n",
      "\u001b[2K     \u001b[90m━━━━━━━━━━━━━━━━━━━━━━━━━━━━━━━━━━━━━━━━\u001b[0m \u001b[32m78.6/78.6 KB\u001b[0m \u001b[31m28.4 MB/s\u001b[0m eta \u001b[36m0:00:00\u001b[0m\n",
      "\u001b[?25hCollecting h11<0.15,>=0.13\n",
      "  Downloading h11-0.14.0-py3-none-any.whl (58 kB)\n",
      "\u001b[2K     \u001b[90m━━━━━━━━━━━━━━━━━━━━━━━━━━━━━━━━━━━━━━━━\u001b[0m \u001b[32m58.3/58.3 KB\u001b[0m \u001b[31m18.4 MB/s\u001b[0m eta \u001b[36m0:00:00\u001b[0m\n",
      "\u001b[?25hRequirement already satisfied: stack_data in /data/home/go98kef/.virtualenvs/venv/lib/python3.10/site-packages (from ipython>=7.23.1->ipykernel->jupyter->-r requirements.txt (line 10)) (0.6.3)\n",
      "Requirement already satisfied: decorator in /data/home/go98kef/.virtualenvs/venv/lib/python3.10/site-packages (from ipython>=7.23.1->ipykernel->jupyter->-r requirements.txt (line 10)) (5.1.1)\n",
      "Requirement already satisfied: jedi>=0.16 in /data/home/go98kef/.virtualenvs/venv/lib/python3.10/site-packages (from ipython>=7.23.1->ipykernel->jupyter->-r requirements.txt (line 10)) (0.19.2)\n",
      "Requirement already satisfied: pexpect>4.3 in /data/home/go98kef/.virtualenvs/venv/lib/python3.10/site-packages (from ipython>=7.23.1->ipykernel->jupyter->-r requirements.txt (line 10)) (4.9.0)\n",
      "Requirement already satisfied: platformdirs>=2.5 in /data/home/go98kef/.virtualenvs/venv/lib/python3.10/site-packages (from jupyter-core!=5.0.*,>=4.12->ipykernel->jupyter->-r requirements.txt (line 10)) (4.3.6)\n",
      "Collecting terminado>=0.8.3\n",
      "  Downloading terminado-0.18.1-py3-none-any.whl (14 kB)\n",
      "Collecting jupyter-events>=0.11.0\n",
      "  Downloading jupyter_events-0.11.0-py3-none-any.whl (19 kB)\n",
      "Collecting overrides>=5.0\n",
      "  Downloading overrides-7.7.0-py3-none-any.whl (17 kB)\n",
      "Collecting prometheus-client>=0.9\n",
      "  Downloading prometheus_client-0.21.1-py3-none-any.whl (54 kB)\n",
      "\u001b[2K     \u001b[90m━━━━━━━━━━━━━━━━━━━━━━━━━━━━━━━━━━━━━━━━\u001b[0m \u001b[32m54.7/54.7 KB\u001b[0m \u001b[31m4.4 MB/s\u001b[0m eta \u001b[36m0:00:00\u001b[0m\n",
      "\u001b[?25hCollecting jupyter-server-terminals>=0.4.4\n",
      "  Downloading jupyter_server_terminals-0.5.3-py3-none-any.whl (13 kB)\n",
      "Collecting send2trash>=1.8.2\n",
      "  Downloading Send2Trash-1.8.3-py3-none-any.whl (18 kB)\n",
      "Collecting argon2-cffi>=21.1\n",
      "  Downloading argon2_cffi-23.1.0-py3-none-any.whl (15 kB)\n",
      "Collecting json5>=0.9.0\n",
      "  Downloading json5-0.10.0-py3-none-any.whl (34 kB)\n",
      "Collecting babel>=2.10\n",
      "  Downloading babel-2.16.0-py3-none-any.whl (9.6 MB)\n",
      "\u001b[2K     \u001b[90m━━━━━━━━━━━━━━━━━━━━━━━━━━━━━━━━━━━━━━━━\u001b[0m \u001b[32m9.6/9.6 MB\u001b[0m \u001b[31m43.0 MB/s\u001b[0m eta \u001b[36m0:00:00\u001b[0m00:01\u001b[0m00:01\u001b[0m\n",
      "\u001b[?25hCollecting jsonschema>=4.18.0\n",
      "  Downloading jsonschema-4.23.0-py3-none-any.whl (88 kB)\n",
      "\u001b[2K     \u001b[90m━━━━━━━━━━━━━━━━━━━━━━━━━━━━━━━━━━━━━━━━\u001b[0m \u001b[32m88.5/88.5 KB\u001b[0m \u001b[31m36.9 MB/s\u001b[0m eta \u001b[36m0:00:00\u001b[0m\n",
      "\u001b[?25hCollecting fastjsonschema>=2.15\n",
      "  Downloading fastjsonschema-2.21.1-py3-none-any.whl (23 kB)\n",
      "Requirement already satisfied: wcwidth in /data/home/go98kef/.virtualenvs/venv/lib/python3.10/site-packages (from prompt-toolkit>=3.0.30->jupyter-console->jupyter->-r requirements.txt (line 10)) (0.2.13)\n",
      "Collecting soupsieve>1.2\n",
      "  Downloading soupsieve-2.6-py3-none-any.whl (36 kB)\n",
      "Collecting sniffio>=1.1\n",
      "  Downloading sniffio-1.3.1-py3-none-any.whl (10 kB)\n",
      "Collecting argon2-cffi-bindings\n",
      "  Downloading argon2_cffi_bindings-21.2.0-cp36-abi3-manylinux_2_17_x86_64.manylinux2014_x86_64.whl (86 kB)\n",
      "\u001b[2K     \u001b[90m━━━━━━━━━━━━━━━━━━━━━━━━━━━━━━━━━━━━━━━━\u001b[0m \u001b[32m86.2/86.2 KB\u001b[0m \u001b[31m36.7 MB/s\u001b[0m eta \u001b[36m0:00:00\u001b[0m\n",
      "\u001b[?25hRequirement already satisfied: parso<0.9.0,>=0.8.4 in /data/home/go98kef/.virtualenvs/venv/lib/python3.10/site-packages (from jedi>=0.16->ipython>=7.23.1->ipykernel->jupyter->-r requirements.txt (line 10)) (0.8.4)\n",
      "Collecting attrs>=22.2.0\n",
      "  Downloading attrs-24.3.0-py3-none-any.whl (63 kB)\n",
      "\u001b[2K     \u001b[90m━━━━━━━━━━━━━━━━━━━━━━━━━━━━━━━━━━━━━━━━\u001b[0m \u001b[32m63.4/63.4 KB\u001b[0m \u001b[31m19.5 MB/s\u001b[0m eta \u001b[36m0:00:00\u001b[0m\n",
      "\u001b[?25hCollecting referencing>=0.28.4\n",
      "  Downloading referencing-0.36.1-py3-none-any.whl (26 kB)\n",
      "Collecting jsonschema-specifications>=2023.03.6\n",
      "  Downloading jsonschema_specifications-2024.10.1-py3-none-any.whl (18 kB)\n",
      "Collecting rpds-py>=0.7.1\n",
      "  Downloading rpds_py-0.22.3-cp310-cp310-manylinux_2_17_x86_64.manylinux2014_x86_64.whl (381 kB)\n",
      "\u001b[2K     \u001b[90m━━━━━━━━━━━━━━━━━━━━━━━━━━━━━━━━━━━━━━\u001b[0m \u001b[32m382.0/382.0 KB\u001b[0m \u001b[31m91.5 MB/s\u001b[0m eta \u001b[36m0:00:00\u001b[0m\n",
      "\u001b[?25hCollecting pyyaml>=5.3\n",
      "  Downloading PyYAML-6.0.2-cp310-cp310-manylinux_2_17_x86_64.manylinux2014_x86_64.whl (751 kB)\n",
      "\u001b[2K     \u001b[90m━━━━━━━━━━━━━━━━━━━━━━━━━━━━━━━━━━━━━━\u001b[0m \u001b[32m751.2/751.2 KB\u001b[0m \u001b[31m49.0 MB/s\u001b[0m eta \u001b[36m0:00:00\u001b[0m\n",
      "\u001b[?25hCollecting rfc3986-validator>=0.1.1\n",
      "  Downloading rfc3986_validator-0.1.1-py2.py3-none-any.whl (4.2 kB)\n",
      "Collecting rfc3339-validator\n",
      "  Downloading rfc3339_validator-0.1.4-py2.py3-none-any.whl (3.5 kB)\n",
      "Collecting python-json-logger>=2.0.4\n",
      "  Downloading python_json_logger-3.2.1-py3-none-any.whl (14 kB)\n",
      "Requirement already satisfied: ptyprocess>=0.5 in /data/home/go98kef/.virtualenvs/venv/lib/python3.10/site-packages (from pexpect>4.3->ipython>=7.23.1->ipykernel->jupyter->-r requirements.txt (line 10)) (0.7.0)\n",
      "Requirement already satisfied: executing>=1.2.0 in /data/home/go98kef/.virtualenvs/venv/lib/python3.10/site-packages (from stack_data->ipython>=7.23.1->ipykernel->jupyter->-r requirements.txt (line 10)) (2.2.0)\n",
      "Requirement already satisfied: pure-eval in /data/home/go98kef/.virtualenvs/venv/lib/python3.10/site-packages (from stack_data->ipython>=7.23.1->ipykernel->jupyter->-r requirements.txt (line 10)) (0.2.3)\n",
      "Requirement already satisfied: asttokens>=2.1.0 in /data/home/go98kef/.virtualenvs/venv/lib/python3.10/site-packages (from stack_data->ipython>=7.23.1->ipykernel->jupyter->-r requirements.txt (line 10)) (3.0.0)\n",
      "Collecting fqdn\n",
      "  Downloading fqdn-1.5.1-py3-none-any.whl (9.1 kB)\n",
      "Collecting webcolors>=24.6.0\n",
      "  Downloading webcolors-24.11.1-py3-none-any.whl (14 kB)\n",
      "Collecting uri-template\n",
      "  Downloading uri_template-1.3.0-py3-none-any.whl (11 kB)\n",
      "Collecting isoduration\n",
      "  Downloading isoduration-20.11.0-py3-none-any.whl (11 kB)\n",
      "Collecting cffi>=1.0.1\n",
      "  Downloading cffi-1.17.1-cp310-cp310-manylinux_2_17_x86_64.manylinux2014_x86_64.whl (446 kB)\n",
      "\u001b[2K     \u001b[90m━━━━━━━━━━━━━━━━━━━━━━━━━━━━━━━━━━━━━━\u001b[0m \u001b[32m446.2/446.2 KB\u001b[0m \u001b[31m95.7 MB/s\u001b[0m eta \u001b[36m0:00:00\u001b[0m\n",
      "\u001b[?25hCollecting pycparser\n",
      "  Downloading pycparser-2.22-py3-none-any.whl (117 kB)\n",
      "\u001b[2K     \u001b[90m━━━━━━━━━━━━━━━━━━━━━━━━━━━━━━━━━━━━━━\u001b[0m \u001b[32m117.6/117.6 KB\u001b[0m \u001b[31m36.2 MB/s\u001b[0m eta \u001b[36m0:00:00\u001b[0m\n",
      "\u001b[?25hCollecting arrow>=0.15.0\n",
      "  Downloading arrow-1.3.0-py3-none-any.whl (66 kB)\n",
      "\u001b[2K     \u001b[90m━━━━━━━━━━━━━━━━━━━━━━━━━━━━━━━━━━━━━━━━\u001b[0m \u001b[32m66.4/66.4 KB\u001b[0m \u001b[31m27.6 MB/s\u001b[0m eta \u001b[36m0:00:00\u001b[0m\n",
      "\u001b[?25hCollecting types-python-dateutil>=2.8.10\n",
      "  Downloading types_python_dateutil-2.9.0.20241206-py3-none-any.whl (14 kB)\n",
      "Building wheels for collected packages: visdom\n",
      "  Building wheel for visdom (setup.py) ... \u001b[?25ldone\n",
      "\u001b[?25h  Created wheel for visdom: filename=visdom-0.2.4-py3-none-any.whl size=1408218 sha256=da8163b89da60c15e256503b00163eaf6248ab3c87b6df8048d5f2a8eb47b35f\n",
      "  Stored in directory: /data/home/go98kef/.cache/pip/wheels/42/29/49/5bed207bac4578e4d2c0c5fc0226bfd33a7e2953ea56356855\n",
      "Successfully built visdom\n",
      "Installing collected packages: webencodings, pytz, mpmath, fastjsonschema, widgetsnbextension, websocket-client, webcolors, urllib3, uri-template, tzdata, types-python-dateutil, tqdm, tomli, tinycss2, threadpoolctl, terminado, sympy, soupsieve, sniffio, send2trash, rpds-py, rfc3986-validator, rfc3339-validator, pyyaml, python-json-logger, pyparsing, pycparser, prometheus-client, pluggy, pillow, pandocfilters, overrides, nvidia-nvtx-cu12, nvidia-nvjitlink-cu12, nvidia-nccl-cu12, nvidia-curand-cu12, nvidia-cufft-cu12, nvidia-cuda-runtime-cu12, nvidia-cuda-nvrtc-cu12, nvidia-cuda-cupti-cu12, nvidia-cublas-cu12, numpy, networkx, mistune, MarkupSafe, kiwisolver, jupyterlab-widgets, jupyterlab-pygments, jsonpointer, json5, joblib, iniconfig, idna, h11, geojson, fsspec, fqdn, fonttools, filelock, defusedxml, cycler, charset-normalizer, certifi, bleach, babel, attrs, async-lru, triton, shapely, scipy, requests, referencing, pytest, pyproj, pyogrio, pandas, nvidia-cusparse-cu12, nvidia-cudnn-cu12, jupyter-server-terminals, jsonpatch, jinja2, httpcore, h5py, contourpy, cftime, cffi, beautifulsoup4, arrow, anyio, visdom, scikit-learn, nvidia-cusolver-cu12, netCDF4, matplotlib, jsonschema-specifications, isoduration, ipywidgets, httpx, geopandas, argon2-cffi-bindings, torch, seaborn, jupyter-console, jsonschema, argon2-cffi, torchvision, nbformat, nbclient, jupyter-events, nbconvert, jupyter-server, notebook-shim, jupyterlab-server, jupyter-lsp, jupyterlab, notebook, jupyter, breizhcrops\n",
      "Successfully installed MarkupSafe-3.0.2 anyio-4.8.0 argon2-cffi-23.1.0 argon2-cffi-bindings-21.2.0 arrow-1.3.0 async-lru-2.0.4 attrs-24.3.0 babel-2.16.0 beautifulsoup4-4.12.3 bleach-6.2.0 breizhcrops-0.0.4.1 certifi-2024.12.14 cffi-1.17.1 cftime-1.6.4.post1 charset-normalizer-3.4.1 contourpy-1.3.1 cycler-0.12.1 defusedxml-0.7.1 fastjsonschema-2.21.1 filelock-3.17.0 fonttools-4.55.4 fqdn-1.5.1 fsspec-2024.12.0 geojson-3.2.0 geopandas-1.0.1 h11-0.14.0 h5py-3.12.1 httpcore-1.0.7 httpx-0.28.1 idna-3.10 iniconfig-2.0.0 ipywidgets-8.1.5 isoduration-20.11.0 jinja2-3.1.5 joblib-1.4.2 json5-0.10.0 jsonpatch-1.33 jsonpointer-3.0.0 jsonschema-4.23.0 jsonschema-specifications-2024.10.1 jupyter-1.1.1 jupyter-console-6.6.3 jupyter-events-0.11.0 jupyter-lsp-2.2.5 jupyter-server-2.15.0 jupyter-server-terminals-0.5.3 jupyterlab-4.3.4 jupyterlab-pygments-0.3.0 jupyterlab-server-2.27.3 jupyterlab-widgets-3.0.13 kiwisolver-1.4.8 matplotlib-3.10.0 mistune-3.1.0 mpmath-1.3.0 nbclient-0.10.2 nbconvert-7.16.5 nbformat-5.10.4 netCDF4-1.7.2 networkx-3.4.2 notebook-7.3.2 notebook-shim-0.2.4 numpy-2.2.2 nvidia-cublas-cu12-12.4.5.8 nvidia-cuda-cupti-cu12-12.4.127 nvidia-cuda-nvrtc-cu12-12.4.127 nvidia-cuda-runtime-cu12-12.4.127 nvidia-cudnn-cu12-9.1.0.70 nvidia-cufft-cu12-11.2.1.3 nvidia-curand-cu12-10.3.5.147 nvidia-cusolver-cu12-11.6.1.9 nvidia-cusparse-cu12-12.3.1.170 nvidia-nccl-cu12-2.21.5 nvidia-nvjitlink-cu12-12.4.127 nvidia-nvtx-cu12-12.4.127 overrides-7.7.0 pandas-2.2.3 pandocfilters-1.5.1 pillow-11.1.0 pluggy-1.5.0 prometheus-client-0.21.1 pycparser-2.22 pyogrio-0.10.0 pyparsing-3.2.1 pyproj-3.7.0 pytest-8.3.4 python-json-logger-3.2.1 pytz-2024.2 pyyaml-6.0.2 referencing-0.36.1 requests-2.32.3 rfc3339-validator-0.1.4 rfc3986-validator-0.1.1 rpds-py-0.22.3 scikit-learn-1.6.1 scipy-1.15.1 seaborn-0.13.2 send2trash-1.8.3 shapely-2.0.6 sniffio-1.3.1 soupsieve-2.6 sympy-1.13.1 terminado-0.18.1 threadpoolctl-3.5.0 tinycss2-1.4.0 tomli-2.2.1 torch-2.5.1 torchvision-0.20.1 tqdm-4.67.1 triton-3.1.0 types-python-dateutil-2.9.0.20241206 tzdata-2025.1 uri-template-1.3.0 urllib3-2.3.0 visdom-0.2.4 webcolors-24.11.1 webencodings-0.5.1 websocket-client-1.8.0 widgetsnbextension-4.0.13\n"
     ]
    }
   ],
   "source": [
    "!pip install -r requirements.txt"
   ]
  },
  {
   "cell_type": "code",
   "execution_count": 2,
   "id": "be569a11-97d7-4a23-a07b-226da8df0e1b",
   "metadata": {
    "execution": {
     "iopub.execute_input": "2025-01-23T09:16:36.667676Z",
     "iopub.status.busy": "2025-01-23T09:16:36.667431Z",
     "iopub.status.idle": "2025-01-23T09:16:36.673210Z",
     "shell.execute_reply": "2025-01-23T09:16:36.672870Z",
     "shell.execute_reply.started": "2025-01-23T09:16:36.667658Z"
    }
   },
   "outputs": [
    {
     "data": {
      "text/plain": [
       "<Popen: returncode: None args: ['python', '-m', 'visdom.server', '-port', '8...>"
      ]
     },
     "execution_count": 2,
     "metadata": {},
     "output_type": "execute_result"
    },
    {
     "name": "stdout",
     "output_type": "stream",
     "text": [
      "Checking for scripts.\n",
      "Downloading scripts, this may take a little while\n"
     ]
    },
    {
     "name": "stderr",
     "output_type": "stream",
     "text": [
      "INFO:root:Application Started\n",
      "INFO:root:Working directory: /home/go98kef/.visdom\n"
     ]
    },
    {
     "name": "stdout",
     "output_type": "stream",
     "text": [
      "It's Alive!\n",
      "You can navigate to http://localhost:8097\n"
     ]
    }
   ],
   "source": [
    "import subprocess\n",
    "\n",
    "# Start the Visdom server as a background process\n",
    "subprocess.Popen(['python', '-m', 'visdom.server', \"-port\", \"8097\"])\n"
   ]
  },
  {
   "cell_type": "code",
   "execution_count": null,
   "id": "f2e51343-8d23-4a10-989a-a993ded8f3e9",
   "metadata": {
    "execution": {
     "iopub.execute_input": "2025-01-23T11:11:16.971175Z",
     "iopub.status.busy": "2025-01-23T11:11:16.970919Z",
     "iopub.status.idle": "2025-01-23T11:55:08.545058Z",
     "shell.execute_reply": "2025-01-23T11:55:08.544519Z",
     "shell.execute_reply.started": "2025-01-23T11:11:16.971157Z"
    }
   },
   "outputs": [
    {
     "name": "stdout",
     "output_type": "stream",
     "text": [
      "Setting up a new session...\n",
      "  0%|                                                   | 0/100 [00:00<?, ?it/s]"
     ]
    },
    {
     "name": "stderr",
     "output_type": "stream",
     "text": [
      "INFO:tornado.access:200 POST /env/main (::1) 0.56ms\n",
      "INFO:tornado.access:101 GET /vis_socket (::1) 0.49ms\n",
      "INFO:root:Opened visdom socket from ip: ::1\n"
     ]
    },
    {
     "name": "stdout",
     "output_type": "stream",
     "text": [
      "torch.Size([16, 80, 3])\n",
      "testloss:  8.646153\n",
      "trainloss:  9.202509\n",
      "y_true shape:  [1 0 1 4 3 2 3 5 2 2 4 5 4 3 2 2]\n",
      "predictions at t stop:  [1 1 3 3 3 2 3 3 2 2 3 3 2 3 2 2]\n"
     ]
    },
    {
     "name": "stderr",
     "output_type": "stream",
     "text": [
      "INFO:tornado.access:200 POST /events (::1) 1.38ms\n",
      "INFO:tornado.access:200 POST /events (::1) 1.37ms\n",
      "INFO:tornado.access:200 POST /events (::1) 1.41ms\n",
      "INFO:tornado.access:200 POST /events (::1) 0.82ms\n",
      "INFO:tornado.access:200 POST /events (::1) 0.69ms\n",
      "INFO:tornado.access:200 POST /events (::1) 1.21ms\n",
      "INFO:tornado.access:200 POST /events (::1) 0.67ms\n",
      "INFO:tornado.access:200 POST /update (::1) 1.84ms\n",
      "INFO:tornado.access:200 POST /update (::1) 1.17ms\n",
      "INFO:tornado.access:200 POST /update (::1) 1.30ms\n",
      "INFO:tornado.access:200 POST /events (::1) 0.53ms\n",
      "INFO:tornado.access:200 POST /update (::1) 1.23ms\n",
      "INFO:tornado.access:200 POST /events (::1) 0.41ms\n",
      "INFO:tornado.access:200 POST /update (::1) 1.15ms\n",
      "INFO:tornado.access:200 POST /events (::1) 0.40ms\n",
      "INFO:tornado.access:200 POST /update (::1) 1.15ms\n"
     ]
    },
    {
     "name": "stdout",
     "output_type": "stream",
     "text": [
      "epoch 1: trainloss 9.20, testloss 8.65, accuracy 0.56, earliness 0.00. classific"
     ]
    },
    {
     "name": "stderr",
     "output_type": "stream",
     "text": [
      "INFO:tornado.access:200 POST /env/main (172.21.176.120) 2.78ms\n",
      "INFO:tornado.access:200 POST /env/main (172.21.176.120) 3.06ms\n",
      "INFO:tornado.access:200 POST /env/main (172.21.176.120) 4.76ms\n",
      "INFO:tornado.access:200 POST /env/main (172.21.176.120) 3.21ms\n",
      "INFO:tornado.access:200 POST /env/main (172.21.176.120) 5.55ms\n",
      "INFO:tornado.access:200 POST /env/main (172.21.176.120) 2.36ms\n"
     ]
    },
    {
     "name": "stdout",
     "output_type": "stream",
     "text": [
      "torch.Size([16, 80, 3])\n",
      "testloss:  7.4742956\n",
      "trainloss:  8.393626\n",
      "y_true shape:  [1 0 1 4 3 2 3 5 2 2 4 5 4 3 2 2]\n",
      "predictions at t stop:  [1 1 3 3 3 2 3 3 2 2 3 3 2 3 2 2]\n"
     ]
    },
    {
     "name": "stderr",
     "output_type": "stream",
     "text": [
      "INFO:tornado.access:200 POST /events (::1) 1.39ms\n",
      "INFO:tornado.access:200 POST /events (::1) 1.11ms\n"
     ]
    },
    {
     "name": "stdout",
     "output_type": "stream",
     "text": [
      "epoch 2: trainloss 8.39, testloss 7.47, accuracy 0.56, earliness 0.00. classific"
     ]
    },
    {
     "name": "stderr",
     "output_type": "stream",
     "text": [
      "INFO:tornado.access:200 POST /events (::1) 1.18ms\n",
      "INFO:tornado.access:200 POST /events (::1) 0.82ms\n",
      "INFO:tornado.access:200 POST /events (::1) 0.68ms\n",
      "INFO:tornado.access:200 POST /events (::1) 1.14ms\n",
      "INFO:tornado.access:200 POST /events (::1) 0.64ms\n",
      "INFO:tornado.access:200 POST /update (::1) 1.86ms\n",
      "INFO:tornado.access:200 POST /update (::1) 1.37ms\n",
      "INFO:tornado.access:200 POST /update (::1) 1.25ms\n",
      "INFO:tornado.access:200 POST /events (::1) 0.41ms\n",
      "INFO:tornado.access:200 POST /env/main (172.21.176.120) 1.96ms\n",
      "INFO:tornado.access:200 POST /update (::1) 1.17ms\n",
      "INFO:tornado.access:200 POST /env/main (172.21.176.120) 1.88ms\n",
      "INFO:tornado.access:200 POST /events (::1) 0.38ms\n",
      "INFO:tornado.access:200 POST /env/main (172.21.176.120) 1.87ms\n",
      "INFO:tornado.access:200 POST /update (::1) 1.12ms\n",
      "INFO:tornado.access:200 POST /events (::1) 0.48ms\n",
      "INFO:tornado.access:200 POST /update (::1) 1.13ms\n",
      "INFO:tornado.access:200 POST /env/main (172.21.176.120) 2.79ms\n",
      "INFO:tornado.access:200 POST /env/main (172.21.176.120) 2.89ms\n",
      "INFO:tornado.access:200 POST /env/main (172.21.176.120) 2.90ms\n"
     ]
    },
    {
     "name": "stdout",
     "output_type": "stream",
     "text": [
      "torch.Size([16, 80, 3])\n",
      "testloss:  7.227174\n",
      "trainloss:  7.779111\n",
      "y_true shape:  [1 0 1 4 3 2 3 5 2 2 4 5 4 3 2 2]\n",
      "predictions at t stop:  [1 1 1 3 3 2 3 3 2 2 3 3 2 3 2 2]\n"
     ]
    },
    {
     "name": "stderr",
     "output_type": "stream",
     "text": [
      "INFO:tornado.access:200 POST /events (::1) 0.86ms\n",
      "INFO:tornado.access:200 POST /events (::1) 1.42ms\n",
      "INFO:tornado.access:200 POST /events (::1) 1.36ms\n",
      "INFO:tornado.access:200 POST /events (::1) 0.91ms\n",
      "INFO:tornado.access:200 POST /events (::1) 0.72ms\n",
      "INFO:tornado.access:200 POST /events (::1) 0.88ms\n",
      "INFO:tornado.access:200 POST /events (::1) 0.39ms\n",
      "INFO:tornado.access:200 POST /update (::1) 0.90ms\n",
      "INFO:tornado.access:200 POST /update (::1) 0.81ms\n",
      "INFO:tornado.access:200 POST /update (::1) 1.25ms\n",
      "INFO:tornado.access:200 POST /events (::1) 0.45ms\n",
      "INFO:tornado.access:200 POST /update (::1) 1.15ms\n",
      "INFO:tornado.access:200 POST /events (::1) 0.40ms\n",
      "INFO:tornado.access:200 POST /update (::1) 1.17ms\n",
      "INFO:tornado.access:200 POST /events (::1) 0.39ms\n",
      "INFO:tornado.access:200 POST /update (::1) 1.39ms\n"
     ]
    },
    {
     "name": "stdout",
     "output_type": "stream",
     "text": [
      "epoch 3: trainloss 7.78, testloss 7.23, accuracy 0.62, earliness 0.00. classific"
     ]
    },
    {
     "name": "stderr",
     "output_type": "stream",
     "text": [
      "INFO:tornado.access:200 POST /env/main (172.21.176.120) 4.58ms\n",
      "INFO:tornado.access:200 POST /env/main (172.21.176.120) 6.76ms\n",
      "INFO:tornado.access:200 POST /env/main (172.21.176.120) 8.98ms\n",
      "INFO:tornado.access:200 POST /env/main (172.21.176.120) 10.93ms\n",
      "INFO:tornado.access:200 POST /env/main (172.21.176.120) 11.94ms\n",
      "INFO:tornado.access:200 POST /env/main (172.21.176.120) 12.77ms\n"
     ]
    },
    {
     "name": "stdout",
     "output_type": "stream",
     "text": [
      "torch.Size([16, 80, 3])\n",
      "testloss:  6.9464865\n",
      "trainloss:  7.320288\n",
      "y_true shape:  [1 0 1 4 3 2 3 5 2 2 4 5 4 3 2 2]\n",
      "predictions at t stop:  [1 1 1 3 3 2 3 3 2 2 3 3 2 3 2 2]\n"
     ]
    },
    {
     "name": "stderr",
     "output_type": "stream",
     "text": [
      "INFO:tornado.access:200 POST /events (::1) 1.36ms\n",
      "INFO:tornado.access:200 POST /events (::1) 1.19ms\n",
      "INFO:tornado.access:200 POST /events (::1) 1.33ms\n",
      "INFO:tornado.access:200 POST /events (::1) 0.90ms\n",
      "INFO:tornado.access:200 POST /events (::1) 0.77ms\n"
     ]
    },
    {
     "name": "stdout",
     "output_type": "stream",
     "text": [
      "epoch 4: trainloss 7.32, testloss 6.95, accuracy 0.62, earliness 0.00. classific"
     ]
    },
    {
     "name": "stderr",
     "output_type": "stream",
     "text": [
      "INFO:tornado.access:200 POST /events (::1) 0.89ms\n",
      "INFO:tornado.access:200 POST /events (::1) 0.58ms\n",
      "INFO:tornado.access:200 POST /update (::1) 0.91ms\n",
      "INFO:tornado.access:200 POST /update (::1) 0.83ms\n",
      "INFO:tornado.access:200 POST /update (::1) 1.51ms\n",
      "INFO:tornado.access:200 POST /events (::1) 0.43ms\n",
      "INFO:tornado.access:200 POST /update (::1) 1.21ms\n",
      "INFO:tornado.access:200 POST /env/main (172.21.176.120) 2.02ms\n",
      "INFO:tornado.access:200 POST /events (::1) 0.38ms\n",
      "INFO:tornado.access:200 POST /update (::1) 1.20ms\n",
      "INFO:tornado.access:200 POST /events (::1) 0.38ms\n",
      "INFO:tornado.access:200 POST /update (::1) 1.17ms\n",
      "INFO:tornado.access:200 POST /env/main (172.21.176.120) 2.18ms\n",
      "INFO:tornado.access:200 POST /env/main (172.21.176.120) 3.73ms\n",
      "INFO:tornado.access:200 POST /env/main (172.21.176.120) 1.93ms\n",
      "INFO:tornado.access:200 POST /env/main (172.21.176.120) 3.18ms\n",
      "INFO:tornado.access:200 POST /env/main (172.21.176.120) 5.28ms\n"
     ]
    },
    {
     "name": "stdout",
     "output_type": "stream",
     "text": [
      "torch.Size([16, 80, 3])\n",
      "testloss:  6.614521\n",
      "trainloss:  7.062021\n",
      "y_true shape:  [1 0 1 4 3 2 3 5 2 2 4 5 4 3 2 2]\n",
      "predictions at t stop:  [1 1 1 3 3 2 3 3 2 2 3 3 2 3 2 2]\n"
     ]
    },
    {
     "name": "stderr",
     "output_type": "stream",
     "text": [
      "INFO:tornado.access:200 POST /events (::1) 1.36ms\n",
      "INFO:tornado.access:200 POST /events (::1) 1.17ms\n",
      "INFO:tornado.access:200 POST /events (::1) 1.41ms\n",
      "INFO:tornado.access:200 POST /events (::1) 0.88ms\n",
      "INFO:tornado.access:200 POST /events (::1) 0.68ms\n",
      "INFO:tornado.access:200 POST /events (::1) 1.19ms\n",
      "INFO:tornado.access:200 POST /events (::1) 0.63ms\n",
      "INFO:tornado.access:200 POST /update (::1) 1.95ms\n",
      "INFO:tornado.access:200 POST /update (::1) 1.55ms\n",
      "INFO:tornado.access:200 POST /update (::1) 1.40ms\n",
      "INFO:tornado.access:200 POST /events (::1) 0.46ms\n",
      "INFO:tornado.access:200 POST /update (::1) 1.28ms\n",
      "INFO:tornado.access:200 POST /events (::1) 0.39ms\n",
      "INFO:tornado.access:200 POST /update (::1) 1.25ms\n",
      "INFO:tornado.access:200 POST /events (::1) 0.42ms\n",
      "INFO:tornado.access:200 POST /update (::1) 1.43ms\n"
     ]
    },
    {
     "name": "stdout",
     "output_type": "stream",
     "text": [
      "epoch 5: trainloss 7.06, testloss 6.61, accuracy 0.62, earliness 0.00. classific"
     ]
    },
    {
     "name": "stderr",
     "output_type": "stream",
     "text": [
      "INFO:tornado.access:200 POST /env/main (172.21.176.120) 3.08ms\n",
      "INFO:tornado.access:200 POST /env/main (172.21.176.120) 3.96ms\n",
      "INFO:tornado.access:200 POST /env/main (172.21.176.120) 6.20ms\n",
      "INFO:tornado.access:200 POST /env/main (172.21.176.120) 8.07ms\n",
      "INFO:tornado.access:200 POST /env/main (172.21.176.120) 8.90ms\n",
      "INFO:tornado.access:200 POST /env/main (172.21.176.120) 9.83ms\n"
     ]
    },
    {
     "name": "stdout",
     "output_type": "stream",
     "text": [
      "torch.Size([16, 80, 3])\n",
      "testloss:  6.4576216\n",
      "trainloss:  6.858992\n",
      "y_true shape:  [1 0 1 4 3 2 3 5 2 2 4 5 4 3 2 2]\n",
      "predictions at t stop:  [1 1 1 3 3 2 3 3 2 2 3 3 2 3 2 2]\n"
     ]
    },
    {
     "name": "stderr",
     "output_type": "stream",
     "text": [
      "INFO:tornado.access:200 POST /events (::1) 1.35ms\n",
      "INFO:tornado.access:200 POST /events (::1) 1.40ms\n",
      "INFO:tornado.access:200 POST /events (::1) 1.29ms\n",
      "INFO:tornado.access:200 POST /events (::1) 0.73ms\n",
      "INFO:tornado.access:200 POST /events (::1) 0.68ms\n",
      "INFO:tornado.access:200 POST /events (::1) 1.21ms\n",
      "INFO:tornado.access:200 POST /events (::1) 0.67ms\n",
      "INFO:tornado.access:200 POST /update (::1) 2.03ms\n",
      "INFO:tornado.access:200 POST /update (::1) 1.30ms\n",
      "INFO:tornado.access:200 POST /update (::1) 1.41ms\n",
      "INFO:tornado.access:200 POST /events (::1) 0.44ms\n",
      "INFO:tornado.access:200 POST /update (::1) 1.24ms\n",
      "INFO:tornado.access:200 POST /events (::1) 0.39ms\n",
      "INFO:tornado.access:200 POST /update (::1) 1.25ms\n",
      "INFO:tornado.access:200 POST /events (::1) 0.50ms\n",
      "INFO:tornado.access:200 POST /update (::1) 1.23ms\n"
     ]
    },
    {
     "name": "stdout",
     "output_type": "stream",
     "text": [
      "epoch 6: trainloss 6.86, testloss 6.46, accuracy 0.62, earliness 0.00. classific"
     ]
    },
    {
     "name": "stderr",
     "output_type": "stream",
     "text": [
      "INFO:tornado.access:200 POST /env/main (172.21.176.120) 4.15ms\n",
      "INFO:tornado.access:200 POST /env/main (172.21.176.120) 6.29ms\n",
      "INFO:tornado.access:200 POST /env/main (172.21.176.120) 7.63ms\n",
      "INFO:tornado.access:200 POST /env/main (172.21.176.120) 8.51ms\n",
      "INFO:tornado.access:200 POST /env/main (172.21.176.120) 1.48ms\n",
      "INFO:tornado.access:200 POST /env/main (172.21.176.120) 2.44ms\n"
     ]
    },
    {
     "name": "stdout",
     "output_type": "stream",
     "text": [
      "torch.Size([16, 80, 3])\n",
      "testloss:  6.2316194\n",
      "trainloss:  6.768636\n",
      "y_true shape:  [1 0 1 4 3 2 3 5 2 2 4 5 4 3 2 2]\n",
      "predictions at t stop:  [1 1 1 3 3 2 3 3 2 2 3 3 2 3 2 2]\n"
     ]
    },
    {
     "name": "stderr",
     "output_type": "stream",
     "text": [
      "INFO:tornado.access:200 POST /events (::1) 1.37ms\n",
      "INFO:tornado.access:200 POST /events (::1) 1.42ms\n",
      "INFO:tornado.access:200 POST /events (::1) 1.40ms\n",
      "INFO:tornado.access:200 POST /events (::1) 0.89ms\n",
      "INFO:tornado.access:200 POST /events (::1) 0.69ms\n",
      "INFO:tornado.access:200 POST /events (::1) 1.18ms\n",
      "INFO:tornado.access:200 POST /events (::1) 0.65ms\n",
      "INFO:tornado.access:200 POST /update (::1) 1.99ms\n",
      "INFO:tornado.access:200 POST /update (::1) 1.33ms\n",
      "INFO:tornado.access:200 POST /update (::1) 1.45ms\n",
      "INFO:tornado.access:200 POST /events (::1) 0.43ms\n",
      "INFO:tornado.access:200 POST /update (::1) 1.27ms\n",
      "INFO:tornado.access:200 POST /events (::1) 0.41ms\n",
      "INFO:tornado.access:200 POST /update (::1) 1.21ms\n",
      "INFO:tornado.access:200 POST /events (::1) 0.42ms\n",
      "INFO:tornado.access:200 POST /update (::1) 1.26ms\n"
     ]
    },
    {
     "name": "stdout",
     "output_type": "stream",
     "text": [
      "epoch 7: trainloss 6.77, testloss 6.23, accuracy 0.62, earliness 0.00. classific"
     ]
    },
    {
     "name": "stderr",
     "output_type": "stream",
     "text": [
      "INFO:tornado.access:200 POST /env/main (172.21.176.120) 4.35ms\n",
      "INFO:tornado.access:200 POST /env/main (172.21.176.120) 6.14ms\n",
      "INFO:tornado.access:200 POST /env/main (172.21.176.120) 8.03ms\n",
      "INFO:tornado.access:200 POST /env/main (172.21.176.120) 9.74ms\n",
      "INFO:tornado.access:200 POST /env/main (172.21.176.120) 11.42ms\n",
      "INFO:tornado.access:200 POST /env/main (172.21.176.120) 2.29ms\n"
     ]
    },
    {
     "name": "stdout",
     "output_type": "stream",
     "text": [
      "torch.Size([16, 80, 3])\n",
      "testloss:  6.019664\n",
      "trainloss:  6.7591333\n",
      "y_true shape:  [1 0 1 4 3 2 3 5 2 2 4 5 4 3 2 2]\n",
      "predictions at t stop:  [1 1 1 3 3 2 3 3 2 2 3 3 2 3 2 2]\n"
     ]
    },
    {
     "name": "stderr",
     "output_type": "stream",
     "text": [
      "INFO:tornado.access:200 POST /events (::1) 1.40ms\n",
      "INFO:tornado.access:200 POST /events (::1) 1.41ms\n",
      "INFO:tornado.access:200 POST /events (::1) 1.36ms\n",
      "INFO:tornado.access:200 POST /events (::1) 0.91ms\n",
      "INFO:tornado.access:200 POST /events (::1) 0.73ms\n"
     ]
    },
    {
     "name": "stdout",
     "output_type": "stream",
     "text": [
      "epoch 8: trainloss 6.76, testloss 6.02, accuracy 0.62, earliness 0.00. classific"
     ]
    },
    {
     "name": "stderr",
     "output_type": "stream",
     "text": [
      "INFO:tornado.access:200 POST /events (::1) 1.21ms\n",
      "INFO:tornado.access:200 POST /events (::1) 0.69ms\n",
      "INFO:tornado.access:200 POST /update (::1) 1.98ms\n",
      "INFO:tornado.access:200 POST /update (::1) 1.42ms\n",
      "INFO:tornado.access:200 POST /update (::1) 1.44ms\n",
      "INFO:tornado.access:200 POST /events (::1) 0.40ms\n",
      "INFO:tornado.access:200 POST /update (::1) 1.28ms\n",
      "INFO:tornado.access:200 POST /events (::1) 0.41ms\n",
      "INFO:tornado.access:200 POST /update (::1) 1.22ms\n",
      "INFO:tornado.access:200 POST /events (::1) 0.39ms\n",
      "INFO:tornado.access:200 POST /update (::1) 1.27ms\n",
      "INFO:tornado.access:200 POST /env/main (172.21.176.120) 3.12ms\n",
      "INFO:tornado.access:200 POST /env/main (172.21.176.120) 2.80ms\n",
      "INFO:tornado.access:200 POST /env/main (172.21.176.120) 3.10ms\n",
      "INFO:tornado.access:200 POST /env/main (172.21.176.120) 5.03ms\n",
      "INFO:tornado.access:200 POST /env/main (172.21.176.120) 1.39ms\n",
      "INFO:tornado.access:200 POST /env/main (172.21.176.120) 2.37ms\n"
     ]
    },
    {
     "name": "stdout",
     "output_type": "stream",
     "text": [
      "torch.Size([16, 80, 3])\n",
      "testloss:  6.0214844\n",
      "trainloss:  6.7273836\n",
      "y_true shape:  [1 0 1 4 3 2 3 5 2 2 4 5 4 3 2 2]\n",
      "predictions at t stop:  [1 1 1 3 3 2 3 3 2 2 3 3 2 3 2 2]\n"
     ]
    },
    {
     "name": "stderr",
     "output_type": "stream",
     "text": [
      "INFO:tornado.access:200 POST /events (::1) 1.35ms\n",
      "INFO:tornado.access:200 POST /events (::1) 1.06ms\n",
      "INFO:tornado.access:200 POST /events (::1) 1.32ms\n",
      "INFO:tornado.access:200 POST /events (::1) 0.90ms\n",
      "INFO:tornado.access:200 POST /events (::1) 0.68ms\n",
      "INFO:tornado.access:200 POST /events (::1) 1.14ms\n",
      "INFO:tornado.access:200 POST /events (::1) 0.68ms\n",
      "INFO:tornado.access:200 POST /update (::1) 2.03ms\n",
      "INFO:tornado.access:200 POST /update (::1) 1.37ms\n",
      "INFO:tornado.access:200 POST /update (::1) 1.50ms\n",
      "INFO:tornado.access:200 POST /events (::1) 0.46ms\n",
      "INFO:tornado.access:200 POST /update (::1) 1.32ms\n",
      "INFO:tornado.access:200 POST /events (::1) 0.43ms\n",
      "INFO:tornado.access:200 POST /update (::1) 1.28ms\n",
      "INFO:tornado.access:200 POST /events (::1) 0.40ms\n",
      "INFO:tornado.access:200 POST /update (::1) 1.51ms\n"
     ]
    },
    {
     "name": "stdout",
     "output_type": "stream",
     "text": [
      "epoch 9: trainloss 6.73, testloss 6.02, accuracy 0.62, earliness 0.00. classific"
     ]
    },
    {
     "name": "stderr",
     "output_type": "stream",
     "text": [
      "INFO:tornado.access:200 POST /env/main (172.21.176.120) 1.53ms\n",
      "INFO:tornado.access:200 POST /env/main (172.21.176.120) 1.81ms\n",
      "INFO:tornado.access:200 POST /env/main (172.21.176.120) 2.51ms\n",
      "INFO:tornado.access:200 POST /env/main (172.21.176.120) 4.30ms\n",
      "INFO:tornado.access:200 POST /env/main (172.21.176.120) 2.43ms\n",
      "INFO:tornado.access:200 POST /env/main (172.21.176.120) 4.14ms\n"
     ]
    },
    {
     "name": "stdout",
     "output_type": "stream",
     "text": [
      "torch.Size([16, 80, 3])\n",
      "testloss:  6.2135262\n",
      "trainloss:  6.5288877\n",
      "y_true shape:  [1 0 1 4 3 2 3 5 2 2 4 5 4 3 2 2]\n",
      "predictions at t stop:  [1 1 1 3 3 2 3 3 2 2 3 3 2 3 2 2]\n"
     ]
    },
    {
     "name": "stderr",
     "output_type": "stream",
     "text": [
      "INFO:tornado.access:200 POST /events (::1) 1.35ms\n",
      "INFO:tornado.access:200 POST /events (::1) 1.41ms\n",
      "INFO:tornado.access:200 POST /events (::1) 1.38ms\n",
      "INFO:tornado.access:200 POST /events (::1) 0.86ms\n",
      "INFO:tornado.access:200 POST /events (::1) 0.67ms\n",
      "INFO:tornado.access:200 POST /events (::1) 1.19ms\n",
      "INFO:tornado.access:200 POST /events (::1) 0.67ms\n",
      "INFO:tornado.access:200 POST /update (::1) 2.05ms\n",
      "INFO:tornado.access:200 POST /update (::1) 1.39ms\n",
      "INFO:tornado.access:200 POST /update (::1) 1.54ms\n",
      "INFO:tornado.access:200 POST /events (::1) 0.47ms\n",
      "INFO:tornado.access:200 POST /update (::1) 1.30ms\n",
      "INFO:tornado.access:200 POST /events (::1) 0.39ms\n",
      "INFO:tornado.access:200 POST /update (::1) 1.22ms\n",
      "INFO:tornado.access:200 POST /events (::1) 0.41ms\n",
      "INFO:tornado.access:200 POST /update (::1) 1.29ms\n"
     ]
    },
    {
     "name": "stdout",
     "output_type": "stream",
     "text": [
      "epoch 10: trainloss 6.53, testloss 6.21, accuracy 0.62, earliness 0.00. classifi"
     ]
    },
    {
     "name": "stderr",
     "output_type": "stream",
     "text": [
      "INFO:tornado.access:200 POST /env/main (172.21.176.120) 3.00ms\n",
      "INFO:tornado.access:200 POST /env/main (172.21.176.120) 2.92ms\n",
      "INFO:tornado.access:200 POST /env/main (172.21.176.120) 2.60ms\n",
      "INFO:tornado.access:200 POST /env/main (172.21.176.120) 2.67ms\n",
      "INFO:tornado.access:200 POST /env/main (172.21.176.120) 4.46ms\n",
      "INFO:tornado.access:200 POST /env/main (172.21.176.120) 6.41ms\n"
     ]
    },
    {
     "name": "stdout",
     "output_type": "stream",
     "text": [
      "torch.Size([16, 80, 3])\n",
      "testloss:  5.9536185\n",
      "trainloss:  6.43706\n",
      "y_true shape:  [1 0 1 4 3 2 3 5 2 2 4 5 4 3 2 2]\n",
      "predictions at t stop:  [1 1 1 3 3 2 3 3 2 2 3 3 2 3 2 2]\n"
     ]
    },
    {
     "name": "stderr",
     "output_type": "stream",
     "text": [
      "INFO:tornado.access:200 POST /events (::1) 1.38ms\n",
      "INFO:tornado.access:200 POST /events (::1) 1.41ms\n"
     ]
    },
    {
     "name": "stdout",
     "output_type": "stream",
     "text": [
      "epoch 11: trainloss 6.44, testloss 5.95, accuracy 0.62, earliness 0.00. classifi"
     ]
    },
    {
     "name": "stderr",
     "output_type": "stream",
     "text": [
      "INFO:tornado.access:200 POST /events (::1) 1.37ms\n",
      "INFO:tornado.access:200 POST /events (::1) 0.86ms\n",
      "INFO:tornado.access:200 POST /events (::1) 0.71ms\n",
      "INFO:tornado.access:200 POST /events (::1) 1.00ms\n",
      "INFO:tornado.access:200 POST /events (::1) 0.51ms\n",
      "INFO:tornado.access:200 POST /update (::1) 1.42ms\n",
      "INFO:tornado.access:200 POST /update (::1) 1.41ms\n",
      "INFO:tornado.access:200 POST /update (::1) 1.51ms\n",
      "INFO:tornado.access:200 POST /events (::1) 0.51ms\n",
      "INFO:tornado.access:200 POST /update (::1) 1.32ms\n",
      "INFO:tornado.access:200 POST /events (::1) 0.41ms\n",
      "INFO:tornado.access:200 POST /update (::1) 1.25ms\n",
      "INFO:tornado.access:200 POST /events (::1) 0.39ms\n",
      "INFO:tornado.access:200 POST /update (::1) 1.33ms\n",
      "INFO:tornado.access:200 POST /env/main (172.21.176.120) 3.08ms\n",
      "INFO:tornado.access:200 POST /env/main (172.21.176.120) 2.85ms\n",
      "INFO:tornado.access:200 POST /env/main (172.21.176.120) 2.80ms\n",
      "INFO:tornado.access:200 POST /env/main (172.21.176.120) 1.31ms\n",
      "INFO:tornado.access:200 POST /env/main (172.21.176.120) 1.41ms\n",
      "INFO:tornado.access:200 POST /env/main (172.21.176.120) 2.42ms\n"
     ]
    },
    {
     "name": "stdout",
     "output_type": "stream",
     "text": [
      "torch.Size([16, 80, 3])\n",
      "testloss:  5.7626305\n",
      "trainloss:  6.2425184\n",
      "y_true shape:  [1 0 1 4 3 2 3 5 2 2 4 5 4 3 2 2]\n",
      "predictions at t stop:  [1 1 1 3 3 2 3 3 2 2 3 3 2 3 2 2]\n"
     ]
    },
    {
     "name": "stderr",
     "output_type": "stream",
     "text": [
      "INFO:tornado.access:200 POST /events (::1) 1.36ms\n",
      "INFO:tornado.access:200 POST /events (::1) 1.42ms\n",
      "INFO:tornado.access:200 POST /events (::1) 1.38ms\n",
      "INFO:tornado.access:200 POST /events (::1) 0.89ms\n",
      "INFO:tornado.access:200 POST /events (::1) 0.74ms\n",
      "INFO:tornado.access:200 POST /events (::1) 1.05ms\n",
      "INFO:tornado.access:200 POST /events (::1) 0.68ms\n",
      "INFO:tornado.access:200 POST /update (::1) 2.08ms\n",
      "INFO:tornado.access:200 POST /update (::1) 1.66ms\n",
      "INFO:tornado.access:200 POST /update (::1) 1.52ms\n",
      "INFO:tornado.access:200 POST /events (::1) 0.40ms\n",
      "INFO:tornado.access:200 POST /update (::1) 1.30ms\n",
      "INFO:tornado.access:200 POST /events (::1) 0.39ms\n",
      "INFO:tornado.access:200 POST /update (::1) 1.27ms\n",
      "INFO:tornado.access:200 POST /events (::1) 0.39ms\n",
      "INFO:tornado.access:200 POST /update (::1) 1.31ms\n"
     ]
    },
    {
     "name": "stdout",
     "output_type": "stream",
     "text": [
      "epoch 12: trainloss 6.24, testloss 5.76, accuracy 0.62, earliness 0.00. classifi"
     ]
    },
    {
     "name": "stderr",
     "output_type": "stream",
     "text": [
      "INFO:tornado.access:200 POST /env/main (172.21.176.120) 3.46ms\n",
      "INFO:tornado.access:200 POST /env/main (172.21.176.120) 3.28ms\n",
      "INFO:tornado.access:200 POST /env/main (172.21.176.120) 5.58ms\n",
      "INFO:tornado.access:200 POST /env/main (172.21.176.120) 2.12ms\n",
      "INFO:tornado.access:200 POST /env/main (172.21.176.120) 1.49ms\n",
      "INFO:tornado.access:200 POST /env/main (172.21.176.120) 2.50ms\n"
     ]
    },
    {
     "name": "stdout",
     "output_type": "stream",
     "text": [
      "torch.Size([16, 80, 3])\n",
      "testloss:  5.5124636\n",
      "trainloss:  6.076374\n",
      "y_true shape:  [1 0 1 4 3 2 3 5 2 2 4 5 4 3 2 2]\n",
      "predictions at t stop:  [1 1 1 3 3 2 3 3 2 2 3 3 2 3 2 2]\n"
     ]
    },
    {
     "name": "stderr",
     "output_type": "stream",
     "text": [
      "INFO:tornado.access:200 POST /events (::1) 1.36ms\n",
      "INFO:tornado.access:200 POST /events (::1) 0.84ms\n"
     ]
    },
    {
     "name": "stdout",
     "output_type": "stream",
     "text": [
      "epoch 13: trainloss 6.08, testloss 5.51, accuracy 0.62, earliness 0.00. classifi"
     ]
    },
    {
     "name": "stderr",
     "output_type": "stream",
     "text": [
      "INFO:tornado.access:200 POST /events (::1) 1.42ms\n",
      "INFO:tornado.access:200 POST /events (::1) 0.86ms\n",
      "INFO:tornado.access:200 POST /events (::1) 0.72ms\n",
      "INFO:tornado.access:200 POST /events (::1) 1.18ms\n",
      "INFO:tornado.access:200 POST /events (::1) 0.69ms\n",
      "INFO:tornado.access:200 POST /update (::1) 2.07ms\n",
      "INFO:tornado.access:200 POST /update (::1) 1.50ms\n",
      "INFO:tornado.access:200 POST /update (::1) 1.63ms\n",
      "INFO:tornado.access:200 POST /events (::1) 0.62ms\n",
      "INFO:tornado.access:200 POST /update (::1) 1.40ms\n",
      "INFO:tornado.access:200 POST /events (::1) 0.41ms\n",
      "INFO:tornado.access:200 POST /update (::1) 1.31ms\n",
      "INFO:tornado.access:200 POST /events (::1) 0.42ms\n",
      "INFO:tornado.access:200 POST /update (::1) 1.37ms\n"
     ]
    },
    {
     "name": "stdout",
     "output_type": "stream",
     "text": [
      "epoch 13: trainloss 6.08, testloss 5.51, accuracy 0.62, earliness 0.00. classifi"
     ]
    },
    {
     "name": "stderr",
     "output_type": "stream",
     "text": [
      "INFO:tornado.access:200 POST /env/main (172.21.176.120) 1.59ms\n",
      "INFO:tornado.access:200 POST /env/main (172.21.176.120) 1.70ms\n",
      "INFO:tornado.access:200 POST /env/main (172.21.176.120) 1.38ms\n",
      "INFO:tornado.access:200 POST /env/main (172.21.176.120) 1.59ms\n",
      "INFO:tornado.access:200 POST /env/main (172.21.176.120) 3.05ms\n",
      "INFO:tornado.access:200 POST /env/main (172.21.176.120) 5.10ms\n"
     ]
    },
    {
     "name": "stdout",
     "output_type": "stream",
     "text": [
      "torch.Size([16, 80, 3])\n",
      "testloss:  5.7270765\n",
      "trainloss:  5.979207\n",
      "y_true shape:  [1 0 1 4 3 2 3 5 2 2 4 5 4 3 2 2]\n",
      "predictions at t stop:  [1 1 1 3 3 2 3 3 2 2 3 3 2 3 2 2]\n"
     ]
    },
    {
     "name": "stderr",
     "output_type": "stream",
     "text": [
      "INFO:tornado.access:200 POST /events (::1) 1.37ms\n",
      "INFO:tornado.access:200 POST /events (::1) 1.42ms\n",
      "INFO:tornado.access:200 POST /events (::1) 1.44ms\n",
      "INFO:tornado.access:200 POST /events (::1) 0.89ms\n",
      "INFO:tornado.access:200 POST /events (::1) 0.68ms\n",
      "INFO:tornado.access:200 POST /events (::1) 1.16ms\n",
      "INFO:tornado.access:200 POST /events (::1) 0.67ms\n",
      "INFO:tornado.access:200 POST /update (::1) 2.13ms\n",
      "INFO:tornado.access:200 POST /update (::1) 1.59ms\n",
      "INFO:tornado.access:200 POST /update (::1) 1.64ms\n",
      "INFO:tornado.access:200 POST /events (::1) 0.44ms\n",
      "INFO:tornado.access:200 POST /update (::1) 1.38ms\n",
      "INFO:tornado.access:200 POST /events (::1) 0.40ms\n",
      "INFO:tornado.access:200 POST /update (::1) 1.32ms\n",
      "INFO:tornado.access:200 POST /events (::1) 0.42ms\n",
      "INFO:tornado.access:200 POST /update (::1) 1.35ms\n"
     ]
    },
    {
     "name": "stdout",
     "output_type": "stream",
     "text": [
      "epoch 14: trainloss 5.98, testloss 5.73, accuracy 0.62, earliness 0.00. classifi"
     ]
    },
    {
     "name": "stderr",
     "output_type": "stream",
     "text": [
      "INFO:tornado.access:200 POST /env/main (172.21.176.120) 3.09ms\n",
      "INFO:tornado.access:200 POST /env/main (172.21.176.120) 2.93ms\n",
      "INFO:tornado.access:200 POST /env/main (172.21.176.120) 2.94ms\n",
      "INFO:tornado.access:200 POST /env/main (172.21.176.120) 2.53ms\n",
      "INFO:tornado.access:200 POST /env/main (172.21.176.120) 3.40ms\n",
      "INFO:tornado.access:200 POST /env/main (172.21.176.120) 4.41ms\n"
     ]
    },
    {
     "name": "stdout",
     "output_type": "stream",
     "text": [
      "torch.Size([16, 80, 3])\n",
      "testloss:  5.799673\n",
      "trainloss:  5.538664\n",
      "y_true shape:  [1 0 1 4 3 2 3 5 2 2 4 5 4 3 2 2]\n",
      "predictions at t stop:  [1 1 1 3 3 2 3 3 2 2 3 2 2 3 2 2]\n"
     ]
    },
    {
     "name": "stderr",
     "output_type": "stream",
     "text": [
      "INFO:tornado.access:200 POST /events (::1) 1.37ms\n",
      "INFO:tornado.access:200 POST /events (::1) 1.11ms\n"
     ]
    },
    {
     "name": "stdout",
     "output_type": "stream",
     "text": [
      "epoch 15: trainloss 5.54, testloss 5.80, accuracy 0.62, earliness 0.00. classifi"
     ]
    },
    {
     "name": "stderr",
     "output_type": "stream",
     "text": [
      "INFO:tornado.access:200 POST /events (::1) 1.23ms\n",
      "INFO:tornado.access:200 POST /events (::1) 0.66ms\n",
      "INFO:tornado.access:200 POST /events (::1) 0.55ms\n",
      "INFO:tornado.access:200 POST /events (::1) 1.16ms\n",
      "INFO:tornado.access:200 POST /events (::1) 0.67ms\n",
      "INFO:tornado.access:200 POST /update (::1) 2.19ms\n",
      "INFO:tornado.access:200 POST /update (::1) 1.49ms\n",
      "INFO:tornado.access:200 POST /update (::1) 1.68ms\n",
      "INFO:tornado.access:200 POST /events (::1) 0.44ms\n",
      "INFO:tornado.access:200 POST /update (::1) 1.42ms\n",
      "INFO:tornado.access:200 POST /events (::1) 0.41ms\n",
      "INFO:tornado.access:200 POST /update (::1) 1.33ms\n",
      "INFO:tornado.access:200 POST /events (::1) 0.40ms\n",
      "INFO:tornado.access:200 POST /update (::1) 1.38ms\n",
      "INFO:tornado.access:200 POST /env/main (172.21.176.120) 3.08ms\n",
      "INFO:tornado.access:200 POST /env/main (172.21.176.120) 2.91ms\n",
      "INFO:tornado.access:200 POST /env/main (172.21.176.120) 2.98ms\n",
      "INFO:tornado.access:200 POST /env/main (172.21.176.120) 2.38ms\n",
      "INFO:tornado.access:200 POST /env/main (172.21.176.120) 3.25ms\n",
      "INFO:tornado.access:200 POST /env/main (172.21.176.120) 4.33ms\n",
      "ERROR:tornado.general:Could not open static file '/home/go98kef/.virtualenvs/venv/lib/python3.10/site-packages/visdom/user/style.css'\n",
      "INFO:tornado.access:304 GET /favicon.png (172.21.176.120) 17.54ms\n",
      "INFO:tornado.access:101 GET /socket (172.21.176.120) 0.55ms\n",
      "INFO:root:Opened new socket from ip: 172.21.176.120\n",
      "INFO:tornado.access:200 POST /env/main (172.21.176.120) 3.11ms\n"
     ]
    },
    {
     "name": "stdout",
     "output_type": "stream",
     "text": [
      "torch.Size([16, 80, 3])\n",
      "testloss:  5.443361\n",
      "trainloss:  5.288886\n",
      "y_true shape:  [1 0 1 4 3 2 3 5 2 2 4 5 4 3 2 2]\n",
      "predictions at t stop:  [1 1 1 3 4 2 3 5 2 2 3 2 2 3 2 2]\n"
     ]
    },
    {
     "name": "stderr",
     "output_type": "stream",
     "text": [
      "INFO:tornado.access:200 POST /events (::1) 2.06ms\n",
      "INFO:tornado.access:200 POST /events (::1) 1.37ms\n"
     ]
    },
    {
     "name": "stdout",
     "output_type": "stream",
     "text": [
      "epoch 16: trainloss 5.29, testloss 5.44, accuracy 0.62, earliness 0.00. classifi"
     ]
    },
    {
     "name": "stderr",
     "output_type": "stream",
     "text": [
      "INFO:tornado.access:200 POST /events (::1) 1.43ms\n",
      "INFO:tornado.access:200 POST /events (::1) 0.93ms\n",
      "INFO:tornado.access:200 POST /events (::1) 0.75ms\n",
      "INFO:tornado.access:200 POST /events (::1) 1.13ms\n",
      "INFO:tornado.access:200 POST /events (::1) 0.75ms\n",
      "INFO:tornado.access:200 POST /update (::1) 2.36ms\n",
      "INFO:tornado.access:200 POST /update (::1) 1.50ms\n",
      "INFO:tornado.access:200 POST /update (::1) 1.66ms\n",
      "INFO:tornado.access:200 POST /events (::1) 0.44ms\n",
      "INFO:tornado.access:200 POST /update (::1) 1.42ms\n",
      "INFO:tornado.access:200 POST /events (::1) 0.43ms\n",
      "INFO:tornado.access:200 POST /update (::1) 1.35ms\n",
      "INFO:tornado.access:200 POST /events (::1) 0.44ms\n",
      "INFO:tornado.access:200 POST /update (::1) 1.41ms\n",
      "INFO:tornado.access:200 POST /env/main (172.21.176.120) 3.34ms\n",
      "INFO:tornado.access:200 POST /env/main (172.21.176.120) 2.97ms\n",
      "INFO:tornado.access:200 POST /env/main (172.21.176.120) 2.92ms\n",
      "INFO:tornado.access:200 POST /env/main (172.21.176.120) 3.92ms\n",
      "INFO:tornado.access:200 POST /env/main (172.21.176.120) 4.84ms\n",
      "INFO:tornado.access:200 POST /env/main (172.21.176.120) 1.31ms\n"
     ]
    },
    {
     "name": "stdout",
     "output_type": "stream",
     "text": [
      "torch.Size([16, 80, 3])\n",
      "testloss:  5.3985605\n",
      "trainloss:  5.3971424\n",
      "y_true shape:  [1 0 1 4 3 2 3 5 2 2 4 5 4 3 2 2]\n",
      "predictions at t stop:  [1 1 1 3 4 2 3 5 2 2 3 1 2 3 2 2]\n"
     ]
    },
    {
     "name": "stderr",
     "output_type": "stream",
     "text": [
      "INFO:tornado.access:200 POST /events (::1) 1.37ms\n",
      "INFO:tornado.access:200 POST /events (::1) 1.36ms\n",
      "INFO:tornado.access:200 POST /events (::1) 1.42ms\n",
      "INFO:tornado.access:200 POST /events (::1) 0.86ms\n",
      "INFO:tornado.access:200 POST /events (::1) 0.68ms\n",
      "INFO:tornado.access:200 POST /events (::1) 1.19ms\n",
      "INFO:tornado.access:200 POST /events (::1) 0.72ms\n",
      "INFO:tornado.access:200 POST /update (::1) 2.24ms\n",
      "INFO:tornado.access:200 POST /update (::1) 1.57ms\n",
      "INFO:tornado.access:200 POST /update (::1) 1.74ms\n",
      "INFO:tornado.access:200 POST /events (::1) 0.46ms\n",
      "INFO:tornado.access:200 POST /update (::1) 1.48ms\n",
      "INFO:tornado.access:200 POST /events (::1) 0.51ms\n",
      "INFO:tornado.access:200 POST /update (::1) 1.36ms\n",
      "INFO:tornado.access:200 POST /events (::1) 0.45ms\n",
      "INFO:tornado.access:200 POST /update (::1) 1.43ms\n"
     ]
    },
    {
     "name": "stdout",
     "output_type": "stream",
     "text": [
      "epoch 17: trainloss 5.40, testloss 5.40, accuracy 0.62, earliness 0.00. classifi"
     ]
    },
    {
     "name": "stderr",
     "output_type": "stream",
     "text": [
      "INFO:tornado.access:200 POST /env/main (172.21.176.120) 4.25ms\n",
      "INFO:tornado.access:200 POST /env/main (172.21.176.120) 6.60ms\n",
      "INFO:tornado.access:200 POST /env/main (172.21.176.120) 9.22ms\n",
      "INFO:tornado.access:200 POST /env/main (172.21.176.120) 11.23ms\n",
      "INFO:tornado.access:200 POST /env/main (172.21.176.120) 1.61ms\n",
      "INFO:tornado.access:200 POST /env/main (172.21.176.120) 2.64ms\n"
     ]
    },
    {
     "name": "stdout",
     "output_type": "stream",
     "text": [
      "torch.Size([16, 80, 3])\n",
      "testloss:  5.4234223\n",
      "trainloss:  5.9447803\n",
      "y_true shape:  [1 0 1 4 3 2 3 5 2 2 4 5 4 3 2 2]\n",
      "predictions at t stop:  [1 1 1 3 3 2 3 3 2 2 3 3 2 3 2 2]\n"
     ]
    },
    {
     "name": "stderr",
     "output_type": "stream",
     "text": [
      "INFO:tornado.access:200 POST /events (::1) 1.06ms\n",
      "INFO:tornado.access:200 POST /events (::1) 1.43ms\n",
      "INFO:tornado.access:200 POST /events (::1) 1.36ms\n",
      "INFO:tornado.access:200 POST /events (::1) 0.87ms\n",
      "INFO:tornado.access:200 POST /events (::1) 0.72ms\n",
      "INFO:tornado.access:200 POST /events (::1) 1.18ms\n",
      "INFO:tornado.access:200 POST /events (::1) 0.71ms\n",
      "INFO:tornado.access:200 POST /update (::1) 2.22ms\n",
      "INFO:tornado.access:200 POST /update (::1) 1.56ms\n",
      "INFO:tornado.access:200 POST /update (::1) 1.78ms\n",
      "INFO:tornado.access:200 POST /events (::1) 0.45ms\n",
      "INFO:tornado.access:200 POST /update (::1) 1.47ms\n",
      "INFO:tornado.access:200 POST /events (::1) 0.42ms\n",
      "INFO:tornado.access:200 POST /update (::1) 1.38ms\n",
      "INFO:tornado.access:200 POST /events (::1) 0.42ms\n",
      "INFO:tornado.access:200 POST /update (::1) 1.46ms\n"
     ]
    },
    {
     "name": "stdout",
     "output_type": "stream",
     "text": [
      "epoch 18: trainloss 5.94, testloss 5.42, accuracy 0.62, earliness 0.00. classifi"
     ]
    },
    {
     "name": "stderr",
     "output_type": "stream",
     "text": [
      "INFO:tornado.access:200 POST /env/main (172.21.176.120) 3.12ms\n",
      "INFO:tornado.access:200 POST /env/main (172.21.176.120) 2.93ms\n",
      "INFO:tornado.access:200 POST /env/main (172.21.176.120) 2.80ms\n",
      "INFO:tornado.access:200 POST /env/main (172.21.176.120) 3.76ms\n",
      "INFO:tornado.access:200 POST /env/main (172.21.176.120) 1.48ms\n",
      "INFO:tornado.access:200 POST /env/main (172.21.176.120) 2.61ms\n"
     ]
    },
    {
     "name": "stdout",
     "output_type": "stream",
     "text": [
      "torch.Size([16, 80, 3])\n",
      "testloss:  5.953597\n",
      "trainloss:  5.670235\n",
      "y_true shape:  [1 0 1 4 3 2 3 5 2 2 4 5 4 3 2 2]\n",
      "predictions at t stop:  [1 1 1 3 3 2 3 2 2 2 3 2 2 3 2 2]\n"
     ]
    },
    {
     "name": "stderr",
     "output_type": "stream",
     "text": [
      "INFO:tornado.access:200 POST /events (::1) 1.36ms\n",
      "INFO:tornado.access:200 POST /events (::1) 1.39ms\n",
      "INFO:tornado.access:200 POST /events (::1) 1.36ms\n",
      "INFO:tornado.access:200 POST /events (::1) 0.44ms\n",
      "INFO:tornado.access:200 POST /events (::1) 0.31ms\n"
     ]
    },
    {
     "name": "stdout",
     "output_type": "stream",
     "text": [
      "epoch 19: trainloss 5.67, testloss 5.95, accuracy 0.62, earliness 0.00. classifi"
     ]
    },
    {
     "name": "stderr",
     "output_type": "stream",
     "text": [
      "INFO:tornado.access:200 POST /events (::1) 1.18ms\n",
      "INFO:tornado.access:200 POST /events (::1) 0.69ms\n",
      "INFO:tornado.access:200 POST /update (::1) 2.25ms\n",
      "INFO:tornado.access:200 POST /update (::1) 1.59ms\n",
      "INFO:tornado.access:200 POST /update (::1) 2.03ms\n",
      "INFO:tornado.access:200 POST /env/main (172.21.176.120) 2.20ms\n",
      "INFO:tornado.access:200 POST /events (::1) 0.42ms\n",
      "INFO:tornado.access:200 POST /update (::1) 1.46ms\n",
      "INFO:tornado.access:200 POST /env/main (172.21.176.120) 2.05ms\n",
      "INFO:tornado.access:200 POST /events (::1) 0.41ms\n",
      "INFO:tornado.access:200 POST /update (::1) 1.40ms\n",
      "INFO:tornado.access:200 POST /env/main (172.21.176.120) 2.27ms\n",
      "INFO:tornado.access:200 POST /events (::1) 0.41ms\n",
      "INFO:tornado.access:200 POST /update (::1) 1.47ms\n",
      "INFO:tornado.access:200 POST /env/main (172.21.176.120) 3.26ms\n"
     ]
    },
    {
     "name": "stdout",
     "output_type": "stream",
     "text": [
      "torch.Size([16, 80, 3])\n",
      "testloss:  4.996912\n",
      "trainloss:  5.437587\n",
      "y_true shape:  [1 0 1 4 3 2 3 5 2 2 4 5 4 3 2 2]\n",
      "predictions at t stop:  [1 1 1 3 3 2 3 3 2 2 3 5 2 3 2 2]\n"
     ]
    },
    {
     "name": "stderr",
     "output_type": "stream",
     "text": [
      "INFO:tornado.access:200 POST /events (::1) 1.35ms\n",
      "INFO:tornado.access:200 POST /events (::1) 1.38ms\n"
     ]
    },
    {
     "name": "stdout",
     "output_type": "stream",
     "text": [
      "epoch 20: trainloss 5.44, testloss 5.00, accuracy 0.69, earliness 0.00. classifi"
     ]
    },
    {
     "name": "stderr",
     "output_type": "stream",
     "text": [
      "INFO:tornado.access:200 POST /events (::1) 1.37ms\n",
      "INFO:tornado.access:200 POST /events (::1) 0.88ms\n",
      "INFO:tornado.access:200 POST /events (::1) 0.69ms\n",
      "INFO:tornado.access:200 POST /events (::1) 0.85ms\n",
      "INFO:tornado.access:200 POST /events (::1) 0.63ms\n",
      "INFO:tornado.access:200 POST /update (::1) 2.19ms\n",
      "INFO:tornado.access:200 POST /update (::1) 2.34ms\n",
      "INFO:tornado.access:200 POST /update (::1) 1.83ms\n",
      "INFO:tornado.access:200 POST /events (::1) 0.44ms\n",
      "INFO:tornado.access:200 POST /update (::1) 1.45ms\n",
      "INFO:tornado.access:200 POST /events (::1) 0.40ms\n",
      "INFO:tornado.access:200 POST /update (::1) 1.40ms\n",
      "INFO:tornado.access:200 POST /events (::1) 0.44ms\n",
      "INFO:tornado.access:200 POST /update (::1) 1.47ms\n",
      "INFO:tornado.access:200 POST /env/main (172.21.176.120) 4.26ms\n",
      "INFO:tornado.access:200 POST /env/main (172.21.176.120) 6.90ms\n",
      "INFO:tornado.access:200 POST /env/main (172.21.176.120) 9.17ms\n",
      "INFO:tornado.access:200 POST /env/main (172.21.176.120) 10.14ms\n",
      "INFO:tornado.access:200 POST /env/main (172.21.176.120) 1.61ms\n",
      "INFO:tornado.access:200 POST /env/main (172.21.176.120) 1.35ms\n"
     ]
    },
    {
     "name": "stdout",
     "output_type": "stream",
     "text": [
      "torch.Size([16, 80, 3])\n",
      "testloss:  5.412499\n",
      "trainloss:  5.230101\n",
      "y_true shape:  [1 0 1 4 3 2 3 5 2 2 4 5 4 3 2 2]\n",
      "predictions at t stop:  [1 1 1 3 3 2 3 5 2 2 3 2 2 3 2 2]\n"
     ]
    },
    {
     "name": "stderr",
     "output_type": "stream",
     "text": [
      "INFO:tornado.access:200 POST /events (::1) 1.40ms\n",
      "INFO:tornado.access:200 POST /events (::1) 1.00ms\n",
      "INFO:tornado.access:200 POST /events (::1) 1.38ms\n",
      "INFO:tornado.access:200 POST /events (::1) 0.90ms\n",
      "INFO:tornado.access:200 POST /events (::1) 0.73ms\n",
      "INFO:tornado.access:200 POST /events (::1) 1.18ms\n",
      "INFO:tornado.access:200 POST /events (::1) 0.74ms\n",
      "INFO:tornado.access:200 POST /update (::1) 2.34ms\n",
      "INFO:tornado.access:200 POST /update (::1) 1.64ms\n",
      "INFO:tornado.access:200 POST /update (::1) 1.82ms\n",
      "INFO:tornado.access:200 POST /events (::1) 0.47ms\n",
      "INFO:tornado.access:200 POST /update (::1) 1.55ms\n",
      "INFO:tornado.access:200 POST /events (::1) 0.41ms\n",
      "INFO:tornado.access:200 POST /update (::1) 1.41ms\n",
      "INFO:tornado.access:200 POST /events (::1) 0.50ms\n",
      "INFO:tornado.access:200 POST /env/main (172.21.176.120) 2.22ms\n",
      "INFO:tornado.access:200 POST /update (::1) 1.47ms\n",
      "INFO:tornado.access:200 POST /env/main (172.21.176.120) 2.16ms\n"
     ]
    },
    {
     "name": "stdout",
     "output_type": "stream",
     "text": [
      "epoch 21: trainloss 5.23, testloss 5.41, accuracy 0.69, earliness 0.00. classifi"
     ]
    },
    {
     "name": "stderr",
     "output_type": "stream",
     "text": [
      "INFO:tornado.access:200 POST /env/main (172.21.176.120) 3.25ms\n",
      "INFO:tornado.access:200 POST /env/main (172.21.176.120) 3.25ms\n",
      "INFO:tornado.access:200 POST /env/main (172.21.176.120) 3.07ms\n",
      "INFO:tornado.access:200 POST /env/main (172.21.176.120) 2.44ms\n"
     ]
    },
    {
     "name": "stdout",
     "output_type": "stream",
     "text": [
      "torch.Size([16, 80, 3])\n",
      "testloss:  5.103231\n",
      "trainloss:  4.973235\n",
      "y_true shape:  [1 0 1 4 3 2 3 5 2 2 4 5 4 3 2 2]\n",
      "predictions at t stop:  [1 1 1 3 3 2 3 5 2 2 3 5 2 3 2 2]\n"
     ]
    },
    {
     "name": "stderr",
     "output_type": "stream",
     "text": [
      "INFO:tornado.access:200 POST /events (::1) 1.37ms\n",
      "INFO:tornado.access:200 POST /events (::1) 1.22ms\n",
      "INFO:tornado.access:200 POST /events (::1) 1.17ms\n",
      "INFO:tornado.access:200 POST /events (::1) 0.91ms\n",
      "INFO:tornado.access:200 POST /events (::1) 0.77ms\n",
      "INFO:tornado.access:200 POST /events (::1) 1.01ms\n",
      "INFO:tornado.access:200 POST /events (::1) 0.72ms\n",
      "INFO:tornado.access:200 POST /update (::1) 2.33ms\n",
      "INFO:tornado.access:200 POST /update (::1) 1.68ms\n",
      "INFO:tornado.access:200 POST /update (::1) 2.06ms\n",
      "INFO:tornado.access:200 POST /events (::1) 0.46ms\n",
      "INFO:tornado.access:200 POST /update (::1) 1.55ms\n",
      "INFO:tornado.access:200 POST /events (::1) 0.41ms\n",
      "INFO:tornado.access:200 POST /update (::1) 1.43ms\n",
      "INFO:tornado.access:200 POST /events (::1) 0.44ms\n",
      "INFO:tornado.access:200 POST /update (::1) 1.79ms\n"
     ]
    },
    {
     "name": "stdout",
     "output_type": "stream",
     "text": [
      "epoch 22: trainloss 4.97, testloss 5.10, accuracy 0.75, earliness 0.00. classifi"
     ]
    },
    {
     "name": "stderr",
     "output_type": "stream",
     "text": [
      "INFO:tornado.access:200 POST /env/main (172.21.176.120) 3.23ms\n",
      "INFO:tornado.access:200 POST /env/main (172.21.176.120) 3.81ms\n",
      "INFO:tornado.access:200 POST /env/main (172.21.176.120) 6.31ms\n",
      "INFO:tornado.access:200 POST /env/main (172.21.176.120) 8.40ms\n",
      "INFO:tornado.access:200 POST /env/main (172.21.176.120) 2.44ms\n",
      "INFO:tornado.access:200 POST /env/main (172.21.176.120) 4.06ms\n"
     ]
    },
    {
     "name": "stdout",
     "output_type": "stream",
     "text": [
      "torch.Size([16, 80, 3])\n",
      "testloss:  5.720273\n",
      "trainloss:  5.299092\n",
      "y_true shape:  [1 0 1 4 3 2 3 5 2 2 4 5 4 3 2 2]\n",
      "predictions at t stop:  [1 1 1 4 4 2 4 5 2 2 5 2 2 3 2 2]\n"
     ]
    },
    {
     "name": "stderr",
     "output_type": "stream",
     "text": [
      "INFO:tornado.access:200 POST /events (::1) 1.40ms\n",
      "INFO:tornado.access:200 POST /events (::1) 1.39ms\n",
      "INFO:tornado.access:200 POST /events (::1) 0.72ms\n",
      "INFO:tornado.access:200 POST /events (::1) 0.78ms\n",
      "INFO:tornado.access:200 POST /events (::1) 0.36ms\n",
      "INFO:tornado.access:200 POST /events (::1) 1.19ms\n",
      "INFO:tornado.access:200 POST /events (::1) 0.74ms\n",
      "INFO:tornado.access:200 POST /update (::1) 2.38ms\n",
      "INFO:tornado.access:200 POST /update (::1) 1.69ms\n",
      "INFO:tornado.access:200 POST /update (::1) 1.90ms\n",
      "INFO:tornado.access:200 POST /events (::1) 0.45ms\n",
      "INFO:tornado.access:200 POST /update (::1) 1.51ms\n",
      "INFO:tornado.access:200 POST /events (::1) 0.42ms\n",
      "INFO:tornado.access:200 POST /update (::1) 1.42ms\n",
      "INFO:tornado.access:200 POST /events (::1) 0.43ms\n",
      "INFO:tornado.access:200 POST /update (::1) 1.50ms\n"
     ]
    },
    {
     "name": "stdout",
     "output_type": "stream",
     "text": [
      "epoch 23: trainloss 5.30, testloss 5.72, accuracy 0.62, earliness 0.00. classifi"
     ]
    },
    {
     "name": "stderr",
     "output_type": "stream",
     "text": [
      "INFO:tornado.access:200 POST /env/main (172.21.176.120) 4.74ms\n",
      "INFO:tornado.access:200 POST /env/main (172.21.176.120) 7.47ms\n",
      "INFO:tornado.access:200 POST /env/main (172.21.176.120) 10.01ms\n",
      "INFO:tornado.access:200 POST /env/main (172.21.176.120) 11.41ms\n",
      "INFO:tornado.access:200 POST /env/main (172.21.176.120) 12.45ms\n",
      "INFO:tornado.access:200 POST /env/main (172.21.176.120) 13.46ms\n"
     ]
    },
    {
     "name": "stdout",
     "output_type": "stream",
     "text": [
      "torch.Size([16, 80, 3])\n",
      "testloss:  5.2160068\n",
      "trainloss:  5.2145357\n",
      "y_true shape:  [1 0 1 4 3 2 3 5 2 2 4 5 4 3 2 2]\n",
      "predictions at t stop:  [1 1 1 3 3 2 3 5 2 2 3 5 2 3 2 2]\n"
     ]
    },
    {
     "name": "stderr",
     "output_type": "stream",
     "text": [
      "INFO:tornado.access:200 POST /events (::1) 1.41ms\n",
      "INFO:tornado.access:200 POST /events (::1) 1.15ms\n",
      "INFO:tornado.access:200 POST /events (::1) 1.36ms\n",
      "INFO:tornado.access:200 POST /events (::1) 0.92ms\n",
      "INFO:tornado.access:200 POST /events (::1) 0.77ms\n",
      "INFO:tornado.access:200 POST /events (::1) 1.20ms\n",
      "INFO:tornado.access:200 POST /events (::1) 0.75ms\n",
      "INFO:tornado.access:200 POST /update (::1) 2.33ms\n",
      "INFO:tornado.access:200 POST /update (::1) 1.80ms\n",
      "INFO:tornado.access:200 POST /update (::1) 1.92ms\n",
      "INFO:tornado.access:200 POST /events (::1) 0.52ms\n",
      "INFO:tornado.access:200 POST /env/main (172.21.176.120) 2.18ms\n",
      "INFO:tornado.access:200 POST /update (::1) 1.55ms\n",
      "INFO:tornado.access:200 POST /env/main (172.21.176.120) 2.10ms\n",
      "INFO:tornado.access:200 POST /events (::1) 0.41ms\n",
      "INFO:tornado.access:200 POST /update (::1) 1.41ms\n",
      "INFO:tornado.access:200 POST /env/main (172.21.176.120) 2.23ms\n",
      "INFO:tornado.access:200 POST /events (::1) 0.38ms\n",
      "INFO:tornado.access:200 POST /update (::1) 1.03ms\n"
     ]
    },
    {
     "name": "stdout",
     "output_type": "stream",
     "text": [
      "epoch 24: trainloss 5.21, testloss 5.22, accuracy 0.75, earliness 0.00. classifi"
     ]
    },
    {
     "name": "stderr",
     "output_type": "stream",
     "text": [
      "INFO:tornado.access:200 POST /env/main (172.21.176.120) 3.25ms\n",
      "INFO:tornado.access:200 POST /env/main (172.21.176.120) 2.49ms\n"
     ]
    },
    {
     "name": "stdout",
     "output_type": "stream",
     "text": [
      "torch.Size([16, 80, 3])\n",
      "testloss:  5.3436155\n",
      "trainloss:  4.9259615\n",
      "y_true shape:  [1 0 1 4 3 2 3 5 2 2 4 5 4 3 2 2]\n",
      "predictions at t stop:  [1 1 1 3 3 2 3 5 2 2 3 5 2 3 2 2]\n"
     ]
    },
    {
     "name": "stderr",
     "output_type": "stream",
     "text": [
      "INFO:tornado.access:200 POST /events (::1) 1.38ms\n",
      "INFO:tornado.access:200 POST /events (::1) 1.38ms\n",
      "INFO:tornado.access:200 POST /events (::1) 1.41ms\n",
      "INFO:tornado.access:200 POST /events (::1) 0.88ms\n",
      "INFO:tornado.access:200 POST /events (::1) 0.70ms\n",
      "INFO:tornado.access:200 POST /events (::1) 1.15ms\n",
      "INFO:tornado.access:200 POST /events (::1) 0.72ms\n",
      "INFO:tornado.access:200 POST /update (::1) 2.41ms\n",
      "INFO:tornado.access:200 POST /update (::1) 1.73ms\n",
      "INFO:tornado.access:200 POST /update (::1) 1.97ms\n",
      "INFO:tornado.access:200 POST /events (::1) 0.47ms\n",
      "INFO:tornado.access:200 POST /update (::1) 1.56ms\n",
      "INFO:tornado.access:200 POST /events (::1) 0.42ms\n",
      "INFO:tornado.access:200 POST /update (::1) 1.46ms\n",
      "INFO:tornado.access:200 POST /events (::1) 0.44ms\n",
      "INFO:tornado.access:200 POST /update (::1) 1.80ms\n"
     ]
    },
    {
     "name": "stdout",
     "output_type": "stream",
     "text": [
      "epoch 25: trainloss 4.93, testloss 5.34, accuracy 0.75, earliness 0.00. classifi"
     ]
    },
    {
     "name": "stderr",
     "output_type": "stream",
     "text": [
      "INFO:tornado.access:200 POST /env/main (172.21.176.120) 4.19ms\n",
      "INFO:tornado.access:200 POST /env/main (172.21.176.120) 6.68ms\n",
      "INFO:tornado.access:200 POST /env/main (172.21.176.120) 9.18ms\n",
      "INFO:tornado.access:200 POST /env/main (172.21.176.120) 10.72ms\n",
      "INFO:tornado.access:200 POST /env/main (172.21.176.120) 1.68ms\n",
      "INFO:tornado.access:200 POST /env/main (172.21.176.120) 2.77ms\n"
     ]
    },
    {
     "name": "stdout",
     "output_type": "stream",
     "text": [
      "torch.Size([16, 80, 3])\n",
      "testloss:  5.2786303\n",
      "trainloss:  4.870341\n",
      "y_true shape:  [1 0 1 4 3 2 3 5 2 2 4 5 4 3 2 2]\n",
      "predictions at t stop:  [1 1 1 3 3 2 3 5 2 2 3 5 2 3 2 2]\n"
     ]
    },
    {
     "name": "stderr",
     "output_type": "stream",
     "text": [
      "INFO:tornado.access:200 POST /events (::1) 1.40ms\n",
      "INFO:tornado.access:200 POST /events (::1) 1.38ms\n",
      "INFO:tornado.access:200 POST /events (::1) 1.35ms\n",
      "INFO:tornado.access:200 POST /events (::1) 0.40ms\n",
      "INFO:tornado.access:200 POST /events (::1) 0.32ms\n"
     ]
    },
    {
     "name": "stdout",
     "output_type": "stream",
     "text": [
      "epoch 26: trainloss 4.87, testloss 5.28, accuracy 0.75, earliness 0.00. classifi"
     ]
    },
    {
     "name": "stderr",
     "output_type": "stream",
     "text": [
      "INFO:tornado.access:200 POST /events (::1) 1.19ms\n",
      "INFO:tornado.access:200 POST /events (::1) 0.77ms\n",
      "INFO:tornado.access:200 POST /update (::1) 2.40ms\n",
      "INFO:tornado.access:200 POST /update (::1) 1.75ms\n",
      "INFO:tornado.access:200 POST /update (::1) 1.99ms\n",
      "INFO:tornado.access:200 POST /events (::1) 0.57ms\n",
      "INFO:tornado.access:200 POST /update (::1) 1.56ms\n",
      "INFO:tornado.access:200 POST /events (::1) 0.41ms\n",
      "INFO:tornado.access:200 POST /update (::1) 1.45ms\n",
      "INFO:tornado.access:200 POST /events (::1) 0.44ms\n",
      "INFO:tornado.access:200 POST /update (::1) 1.55ms\n",
      "INFO:tornado.access:200 POST /env/main (172.21.176.120) 3.28ms\n",
      "INFO:tornado.access:200 POST /env/main (172.21.176.120) 3.78ms\n",
      "INFO:tornado.access:200 POST /env/main (172.21.176.120) 4.96ms\n",
      "INFO:tornado.access:200 POST /env/main (172.21.176.120) 6.11ms\n",
      "INFO:tornado.access:200 POST /env/main (172.21.176.120) 1.48ms\n",
      "INFO:tornado.access:200 POST /env/main (172.21.176.120) 1.49ms\n"
     ]
    },
    {
     "name": "stdout",
     "output_type": "stream",
     "text": [
      "torch.Size([16, 80, 3])\n",
      "testloss:  5.1737638\n",
      "trainloss:  4.7775173\n",
      "y_true shape:  [1 0 1 4 3 2 3 5 2 2 4 5 4 3 2 2]\n",
      "predictions at t stop:  [1 1 1 3 3 2 3 5 2 2 3 5 2 3 2 2]\n"
     ]
    },
    {
     "name": "stderr",
     "output_type": "stream",
     "text": [
      "INFO:tornado.access:200 POST /events (::1) 1.38ms\n",
      "INFO:tornado.access:200 POST /events (::1) 1.43ms\n"
     ]
    },
    {
     "name": "stdout",
     "output_type": "stream",
     "text": [
      "epoch 27: trainloss 4.78, testloss 5.17, accuracy 0.75, earliness 0.00. classifi"
     ]
    },
    {
     "name": "stderr",
     "output_type": "stream",
     "text": [
      "INFO:tornado.access:200 POST /events (::1) 1.15ms\n",
      "INFO:tornado.access:200 POST /events (::1) 0.42ms\n",
      "INFO:tornado.access:200 POST /events (::1) 0.76ms\n",
      "INFO:tornado.access:200 POST /events (::1) 1.17ms\n",
      "INFO:tornado.access:200 POST /events (::1) 0.75ms\n",
      "INFO:tornado.access:200 POST /update (::1) 2.43ms\n",
      "INFO:tornado.access:200 POST /update (::1) 1.78ms\n",
      "INFO:tornado.access:200 POST /update (::1) 2.04ms\n",
      "INFO:tornado.access:200 POST /events (::1) 0.47ms\n",
      "INFO:tornado.access:200 POST /update (::1) 1.58ms\n",
      "INFO:tornado.access:200 POST /events (::1) 0.43ms\n",
      "INFO:tornado.access:200 POST /update (::1) 1.48ms\n",
      "INFO:tornado.access:200 POST /events (::1) 0.46ms\n",
      "INFO:tornado.access:200 POST /update (::1) 1.60ms\n",
      "INFO:tornado.access:200 POST /env/main (172.21.176.120) 3.32ms\n",
      "INFO:tornado.access:200 POST /env/main (172.21.176.120) 3.81ms\n",
      "INFO:tornado.access:200 POST /env/main (172.21.176.120) 5.77ms\n",
      "INFO:tornado.access:200 POST /env/main (172.21.176.120) 7.88ms\n",
      "INFO:tornado.access:200 POST /env/main (172.21.176.120) 1.62ms\n",
      "INFO:tornado.access:200 POST /env/main (172.21.176.120) 2.73ms\n"
     ]
    },
    {
     "name": "stdout",
     "output_type": "stream",
     "text": [
      "torch.Size([16, 80, 3])\n",
      "testloss:  5.3812714\n",
      "trainloss:  4.6889105\n",
      "y_true shape:  [1 0 1 4 3 2 3 5 2 2 4 5 4 3 2 2]\n",
      "predictions at t stop:  [1 1 1 3 3 2 3 5 2 2 3 5 1 3 2 2]\n"
     ]
    },
    {
     "name": "stderr",
     "output_type": "stream",
     "text": [
      "INFO:tornado.access:200 POST /events (::1) 1.45ms\n",
      "INFO:tornado.access:200 POST /events (::1) 1.35ms\n",
      "INFO:tornado.access:200 POST /events (::1) 1.38ms\n",
      "INFO:tornado.access:200 POST /events (::1) 0.88ms\n",
      "INFO:tornado.access:200 POST /events (::1) 0.79ms\n",
      "INFO:tornado.access:200 POST /events (::1) 1.14ms\n",
      "INFO:tornado.access:200 POST /events (::1) 0.75ms\n",
      "INFO:tornado.access:200 POST /update (::1) 1.70ms\n",
      "INFO:tornado.access:200 POST /update (::1) 1.80ms\n",
      "INFO:tornado.access:200 POST /update (::1) 1.98ms\n",
      "INFO:tornado.access:200 POST /events (::1) 0.45ms\n",
      "INFO:tornado.access:200 POST /update (::1) 1.58ms\n",
      "INFO:tornado.access:200 POST /events (::1) 0.41ms\n",
      "INFO:tornado.access:200 POST /update (::1) 1.46ms\n",
      "INFO:tornado.access:200 POST /events (::1) 0.44ms\n",
      "INFO:tornado.access:200 POST /update (::1) 1.61ms\n"
     ]
    },
    {
     "name": "stdout",
     "output_type": "stream",
     "text": [
      "epoch 28: trainloss 4.69, testloss 5.38, accuracy 0.75, earliness 0.00. classifi"
     ]
    },
    {
     "name": "stderr",
     "output_type": "stream",
     "text": [
      "INFO:tornado.access:200 POST /env/main (172.21.176.120) 3.30ms\n",
      "INFO:tornado.access:200 POST /env/main (172.21.176.120) 4.27ms\n",
      "INFO:tornado.access:200 POST /env/main (172.21.176.120) 6.86ms\n",
      "INFO:tornado.access:200 POST /env/main (172.21.176.120) 8.51ms\n",
      "INFO:tornado.access:200 POST /env/main (172.21.176.120) 9.54ms\n",
      "INFO:tornado.access:200 POST /env/main (172.21.176.120) 10.54ms\n"
     ]
    },
    {
     "name": "stdout",
     "output_type": "stream",
     "text": [
      "torch.Size([16, 80, 3])\n",
      "testloss:  5.1776066\n",
      "trainloss:  4.692315\n",
      "y_true shape:  [1 0 1 4 3 2 3 5 2 2 4 5 4 3 2 2]\n",
      "predictions at t stop:  [1 1 1 3 3 2 3 5 2 2 3 5 2 3 2 2]\n"
     ]
    },
    {
     "name": "stderr",
     "output_type": "stream",
     "text": [
      "INFO:tornado.access:200 POST /events (::1) 1.38ms\n",
      "INFO:tornado.access:200 POST /events (::1) 1.41ms\n",
      "INFO:tornado.access:200 POST /events (::1) 1.40ms\n",
      "INFO:tornado.access:200 POST /events (::1) 0.89ms\n",
      "INFO:tornado.access:200 POST /events (::1) 0.81ms\n",
      "INFO:tornado.access:200 POST /events (::1) 1.23ms\n",
      "INFO:tornado.access:200 POST /events (::1) 0.75ms\n",
      "INFO:tornado.access:200 POST /update (::1) 2.37ms\n",
      "INFO:tornado.access:200 POST /update (::1) 1.82ms\n",
      "INFO:tornado.access:200 POST /update (::1) 2.05ms\n",
      "INFO:tornado.access:200 POST /events (::1) 0.47ms\n",
      "INFO:tornado.access:200 POST /update (::1) 1.66ms\n",
      "INFO:tornado.access:200 POST /events (::1) 0.42ms\n",
      "INFO:tornado.access:200 POST /update (::1) 1.49ms\n",
      "INFO:tornado.access:200 POST /events (::1) 0.44ms\n",
      "INFO:tornado.access:200 POST /update (::1) 1.59ms\n"
     ]
    },
    {
     "name": "stdout",
     "output_type": "stream",
     "text": [
      "epoch 29: trainloss 4.69, testloss 5.18, accuracy 0.75, earliness 0.00. classifi"
     ]
    },
    {
     "name": "stderr",
     "output_type": "stream",
     "text": [
      "INFO:tornado.access:200 POST /env/main (172.21.176.120) 3.33ms\n",
      "INFO:tornado.access:200 POST /env/main (172.21.176.120) 3.11ms\n",
      "INFO:tornado.access:200 POST /env/main (172.21.176.120) 1.86ms\n",
      "INFO:tornado.access:200 POST /env/main (172.21.176.120) 2.83ms\n",
      "INFO:tornado.access:200 POST /env/main (172.21.176.120) 1.55ms\n",
      "INFO:tornado.access:200 POST /env/main (172.21.176.120) 2.68ms\n"
     ]
    },
    {
     "name": "stdout",
     "output_type": "stream",
     "text": [
      "torch.Size([16, 80, 3])\n",
      "testloss:  5.039872\n",
      "trainloss:  4.5979333\n",
      "y_true shape:  [1 0 1 4 3 2 3 5 2 2 4 5 4 3 2 2]\n",
      "predictions at t stop:  [1 1 1 3 3 2 3 5 2 2 3 5 1 3 2 2]\n"
     ]
    },
    {
     "name": "stderr",
     "output_type": "stream",
     "text": [
      "INFO:tornado.access:200 POST /events (::1) 1.08ms\n",
      "INFO:tornado.access:200 POST /events (::1) 1.38ms\n",
      "INFO:tornado.access:200 POST /events (::1) 1.37ms\n",
      "INFO:tornado.access:200 POST /events (::1) 0.91ms\n",
      "INFO:tornado.access:200 POST /events (::1) 0.77ms\n"
     ]
    },
    {
     "name": "stdout",
     "output_type": "stream",
     "text": [
      "epoch 30: trainloss 4.60, testloss 5.04, accuracy 0.75, earliness 0.00. classifi"
     ]
    },
    {
     "name": "stderr",
     "output_type": "stream",
     "text": [
      "INFO:tornado.access:200 POST /events (::1) 1.14ms\n",
      "INFO:tornado.access:200 POST /events (::1) 0.75ms\n",
      "INFO:tornado.access:200 POST /update (::1) 2.45ms\n",
      "INFO:tornado.access:200 POST /update (::1) 1.85ms\n",
      "INFO:tornado.access:200 POST /update (::1) 2.31ms\n",
      "INFO:tornado.access:200 POST /events (::1) 0.47ms\n",
      "INFO:tornado.access:200 POST /update (::1) 1.62ms\n",
      "INFO:tornado.access:200 POST /events (::1) 0.43ms\n",
      "INFO:tornado.access:200 POST /update (::1) 1.53ms\n",
      "INFO:tornado.access:200 POST /events (::1) 0.45ms\n",
      "INFO:tornado.access:200 POST /update (::1) 1.84ms\n",
      "INFO:tornado.access:200 POST /env/main (172.21.176.120) 1.62ms\n",
      "INFO:tornado.access:200 POST /env/main (172.21.176.120) 3.16ms\n",
      "INFO:tornado.access:200 POST /env/main (172.21.176.120) 2.97ms\n",
      "INFO:tornado.access:200 POST /env/main (172.21.176.120) 4.96ms\n",
      "INFO:tornado.access:200 POST /env/main (172.21.176.120) 2.51ms\n",
      "INFO:tornado.access:200 POST /env/main (172.21.176.120) 2.37ms\n"
     ]
    },
    {
     "name": "stdout",
     "output_type": "stream",
     "text": [
      "torch.Size([16, 80, 3])\n",
      "testloss:  8.318138\n",
      "trainloss:  7.120639\n",
      "y_true shape:  [1 0 1 4 3 2 3 5 2 2 4 5 4 3 2 2]\n",
      "predictions at t stop:  [1 1 1 3 3 2 3 3 2 2 3 3 2 3 2 2]\n"
     ]
    },
    {
     "name": "stderr",
     "output_type": "stream",
     "text": [
      "INFO:tornado.access:200 POST /events (::1) 1.16ms\n",
      "INFO:tornado.access:200 POST /events (::1) 1.38ms\n",
      "INFO:tornado.access:200 POST /events (::1) 1.38ms\n",
      "INFO:tornado.access:200 POST /events (::1) 0.86ms\n",
      "INFO:tornado.access:200 POST /events (::1) 0.35ms\n",
      "INFO:tornado.access:200 POST /events (::1) 1.15ms\n",
      "INFO:tornado.access:200 POST /events (::1) 0.74ms\n",
      "INFO:tornado.access:200 POST /update (::1) 2.56ms\n",
      "INFO:tornado.access:200 POST /update (::1) 1.88ms\n",
      "INFO:tornado.access:200 POST /update (::1) 2.13ms\n",
      "INFO:tornado.access:200 POST /events (::1) 0.48ms\n",
      "INFO:tornado.access:200 POST /update (::1) 1.64ms\n",
      "INFO:tornado.access:200 POST /events (::1) 0.43ms\n",
      "INFO:tornado.access:200 POST /update (::1) 1.51ms\n",
      "INFO:tornado.access:200 POST /events (::1) 0.45ms\n",
      "INFO:tornado.access:200 POST /update (::1) 1.66ms\n"
     ]
    },
    {
     "name": "stdout",
     "output_type": "stream",
     "text": [
      "epoch 31: trainloss 7.12, testloss 8.32, accuracy 0.62, earliness 0.00. classifi"
     ]
    },
    {
     "name": "stderr",
     "output_type": "stream",
     "text": [
      "INFO:tornado.access:200 POST /env/main (172.21.176.120) 3.47ms\n",
      "INFO:tornado.access:200 POST /env/main (172.21.176.120) 3.25ms\n",
      "INFO:tornado.access:200 POST /env/main (172.21.176.120) 3.47ms\n",
      "INFO:tornado.access:200 POST /env/main (172.21.176.120) 1.66ms\n",
      "INFO:tornado.access:200 POST /env/main (172.21.176.120) 2.81ms\n",
      "INFO:tornado.access:200 POST /env/main (172.21.176.120) 1.45ms\n"
     ]
    },
    {
     "name": "stdout",
     "output_type": "stream",
     "text": [
      "torch.Size([16, 80, 3])\n",
      "testloss:  4.9876056\n",
      "trainloss:  6.795684\n",
      "y_true shape:  [1 0 1 4 3 2 3 5 2 2 4 5 4 3 2 2]\n",
      "predictions at t stop:  [1 1 1 3 3 2 3 5 2 2 3 3 2 3 2 2]\n"
     ]
    },
    {
     "name": "stderr",
     "output_type": "stream",
     "text": [
      "INFO:tornado.access:200 POST /events (::1) 1.36ms\n",
      "INFO:tornado.access:200 POST /events (::1) 1.38ms\n",
      "INFO:tornado.access:200 POST /events (::1) 1.40ms\n",
      "INFO:tornado.access:200 POST /events (::1) 0.86ms\n",
      "INFO:tornado.access:200 POST /events (::1) 0.73ms\n",
      "INFO:tornado.access:200 POST /events (::1) 1.18ms\n",
      "INFO:tornado.access:200 POST /events (::1) 0.74ms\n",
      "INFO:tornado.access:200 POST /update (::1) 2.64ms\n",
      "INFO:tornado.access:200 POST /update (::1) 1.90ms\n",
      "INFO:tornado.access:200 POST /update (::1) 2.15ms\n",
      "INFO:tornado.access:200 POST /events (::1) 0.49ms\n",
      "INFO:tornado.access:200 POST /update (::1) 1.72ms\n",
      "INFO:tornado.access:200 POST /events (::1) 0.30ms\n",
      "INFO:tornado.access:200 POST /update (::1) 1.03ms\n",
      "INFO:tornado.access:200 POST /events (::1) 0.33ms\n",
      "INFO:tornado.access:200 POST /update (::1) 2.83ms\n"
     ]
    },
    {
     "name": "stdout",
     "output_type": "stream",
     "text": [
      "epoch 32: trainloss 6.80, testloss 4.99, accuracy 0.69, earliness 0.00. classifi"
     ]
    },
    {
     "name": "stderr",
     "output_type": "stream",
     "text": [
      "INFO:tornado.access:200 POST /env/main (172.21.176.120) 3.46ms\n",
      "INFO:tornado.access:200 POST /env/main (172.21.176.120) 3.15ms\n",
      "INFO:tornado.access:200 POST /env/main (172.21.176.120) 3.51ms\n",
      "INFO:tornado.access:200 POST /env/main (172.21.176.120) 4.56ms\n",
      "INFO:tornado.access:200 POST /env/main (172.21.176.120) 1.60ms\n",
      "INFO:tornado.access:200 POST /env/main (172.21.176.120) 2.81ms\n"
     ]
    },
    {
     "name": "stdout",
     "output_type": "stream",
     "text": [
      "torch.Size([16, 80, 3])\n",
      "testloss:  4.901433\n",
      "trainloss:  5.591748\n",
      "y_true shape:  [1 0 1 4 3 2 3 5 2 2 4 5 4 3 2 2]\n",
      "predictions at t stop:  [1 1 1 3 3 2 3 5 2 2 3 5 2 3 2 2]\n"
     ]
    },
    {
     "name": "stderr",
     "output_type": "stream",
     "text": [
      "INFO:tornado.access:200 POST /events (::1) 1.40ms\n",
      "INFO:tornado.access:200 POST /events (::1) 1.40ms\n",
      "INFO:tornado.access:200 POST /events (::1) 1.36ms\n",
      "INFO:tornado.access:200 POST /events (::1) 0.87ms\n",
      "INFO:tornado.access:200 POST /events (::1) 0.78ms\n",
      "INFO:tornado.access:200 POST /events (::1) 1.00ms\n",
      "INFO:tornado.access:200 POST /events (::1) 0.78ms\n",
      "INFO:tornado.access:200 POST /update (::1) 2.58ms\n",
      "INFO:tornado.access:200 POST /update (::1) 1.89ms\n",
      "INFO:tornado.access:200 POST /update (::1) 2.17ms\n",
      "INFO:tornado.access:200 POST /events (::1) 0.48ms\n",
      "INFO:tornado.access:200 POST /update (::1) 1.69ms\n",
      "INFO:tornado.access:200 POST /events (::1) 0.54ms\n",
      "INFO:tornado.access:200 POST /update (::1) 1.55ms\n",
      "INFO:tornado.access:200 POST /events (::1) 0.46ms\n",
      "INFO:tornado.access:200 POST /update (::1) 1.66ms\n"
     ]
    },
    {
     "name": "stdout",
     "output_type": "stream",
     "text": [
      "epoch 33: trainloss 5.59, testloss 4.90, accuracy 0.75, earliness 0.00. classifi"
     ]
    },
    {
     "name": "stderr",
     "output_type": "stream",
     "text": [
      "INFO:tornado.access:200 POST /env/main (172.21.176.120) 3.38ms\n",
      "INFO:tornado.access:200 POST /env/main (172.21.176.120) 3.37ms\n",
      "INFO:tornado.access:200 POST /env/main (172.21.176.120) 1.91ms\n",
      "INFO:tornado.access:200 POST /env/main (172.21.176.120) 3.02ms\n",
      "INFO:tornado.access:200 POST /env/main (172.21.176.120) 4.35ms\n",
      "INFO:tornado.access:200 POST /env/main (172.21.176.120) 1.52ms\n"
     ]
    },
    {
     "name": "stdout",
     "output_type": "stream",
     "text": [
      "torch.Size([16, 80, 3])\n",
      "testloss:  5.1875577\n",
      "trainloss:  5.235603\n",
      "y_true shape:  [1 0 1 4 3 2 3 5 2 2 4 5 4 3 2 2]\n",
      "predictions at t stop:  [1 1 1 3 3 2 3 5 2 2 3 5 2 3 2 2]\n"
     ]
    },
    {
     "name": "stderr",
     "output_type": "stream",
     "text": [
      "INFO:tornado.access:200 POST /events (::1) 1.45ms\n",
      "INFO:tornado.access:200 POST /events (::1) 1.37ms\n",
      "INFO:tornado.access:200 POST /events (::1) 1.37ms\n",
      "INFO:tornado.access:200 POST /events (::1) 0.84ms\n",
      "INFO:tornado.access:200 POST /events (::1) 0.71ms\n",
      "INFO:tornado.access:200 POST /events (::1) 1.19ms\n",
      "INFO:tornado.access:200 POST /events (::1) 0.77ms\n",
      "INFO:tornado.access:200 POST /update (::1) 2.64ms\n",
      "INFO:tornado.access:200 POST /update (::1) 1.95ms\n",
      "INFO:tornado.access:200 POST /update (::1) 2.19ms\n",
      "INFO:tornado.access:200 POST /events (::1) 0.55ms\n",
      "INFO:tornado.access:200 POST /update (::1) 1.67ms\n",
      "INFO:tornado.access:200 POST /events (::1) 0.43ms\n",
      "INFO:tornado.access:200 POST /update (::1) 1.55ms\n",
      "INFO:tornado.access:200 POST /events (::1) 0.45ms\n",
      "INFO:tornado.access:200 POST /update (::1) 1.67ms\n",
      "INFO:tornado.access:200 POST /env/main (172.21.176.120) 2.30ms\n",
      "INFO:tornado.access:200 POST /env/main (172.21.176.120) 2.38ms\n",
      "INFO:tornado.access:200 POST /env/main (172.21.176.120) 2.16ms\n"
     ]
    },
    {
     "name": "stdout",
     "output_type": "stream",
     "text": [
      "epoch 34: trainloss 5.24, testloss 5.19, accuracy 0.75, earliness 0.00. classifi"
     ]
    },
    {
     "name": "stderr",
     "output_type": "stream",
     "text": [
      "INFO:tornado.access:200 POST /env/main (172.21.176.120) 2.40ms\n",
      "INFO:tornado.access:200 POST /env/main (172.21.176.120) 4.22ms\n",
      "INFO:tornado.access:200 POST /env/main (172.21.176.120) 2.23ms\n"
     ]
    },
    {
     "name": "stdout",
     "output_type": "stream",
     "text": [
      "torch.Size([16, 80, 3])\n",
      "testloss:  4.84879\n",
      "trainloss:  5.224716\n",
      "y_true shape:  [1 0 1 4 3 2 3 5 2 2 4 5 4 3 2 2]\n",
      "predictions at t stop:  [1 1 1 3 3 2 3 5 2 2 3 5 2 3 2 2]\n"
     ]
    },
    {
     "name": "stderr",
     "output_type": "stream",
     "text": [
      "INFO:tornado.access:200 POST /events (::1) 1.39ms\n",
      "INFO:tornado.access:200 POST /events (::1) 1.38ms\n",
      "INFO:tornado.access:200 POST /events (::1) 1.38ms\n",
      "INFO:tornado.access:200 POST /events (::1) 0.87ms\n",
      "INFO:tornado.access:200 POST /events (::1) 0.79ms\n",
      "INFO:tornado.access:200 POST /events (::1) 1.21ms\n",
      "INFO:tornado.access:200 POST /events (::1) 0.74ms\n",
      "INFO:tornado.access:200 POST /update (::1) 2.64ms\n",
      "INFO:tornado.access:200 POST /update (::1) 1.94ms\n",
      "INFO:tornado.access:200 POST /update (::1) 2.18ms\n",
      "INFO:tornado.access:200 POST /env/main (172.21.176.120) 2.34ms\n",
      "INFO:tornado.access:200 POST /events (::1) 0.44ms\n",
      "INFO:tornado.access:200 POST /env/main (172.21.176.120) 2.17ms\n",
      "INFO:tornado.access:200 POST /update (::1) 1.72ms\n",
      "INFO:tornado.access:200 POST /env/main (172.21.176.120) 1.79ms\n",
      "INFO:tornado.access:200 POST /events (::1) 0.27ms\n",
      "INFO:tornado.access:200 POST /update (::1) 1.02ms\n",
      "INFO:tornado.access:200 POST /events (::1) 0.61ms\n",
      "INFO:tornado.access:200 POST /update (::1) 3.55ms\n"
     ]
    },
    {
     "name": "stdout",
     "output_type": "stream",
     "text": [
      "epoch 35: trainloss 5.22, testloss 4.85, accuracy 0.75, earliness 0.00. classifi"
     ]
    },
    {
     "name": "stderr",
     "output_type": "stream",
     "text": [
      "INFO:tornado.access:200 POST /env/main (172.21.176.120) 3.44ms\n",
      "INFO:tornado.access:200 POST /env/main (172.21.176.120) 3.32ms\n",
      "INFO:tornado.access:200 POST /env/main (172.21.176.120) 3.23ms\n"
     ]
    },
    {
     "name": "stdout",
     "output_type": "stream",
     "text": [
      "torch.Size([16, 80, 3])\n",
      "testloss:  4.6556416\n",
      "trainloss:  4.8348727\n",
      "y_true shape:  [1 0 1 4 3 2 3 5 2 2 4 5 4 3 2 2]\n",
      "predictions at t stop:  [1 0 0 3 4 2 3 5 2 2 3 5 2 3 2 2]\n"
     ]
    },
    {
     "name": "stderr",
     "output_type": "stream",
     "text": [
      "INFO:tornado.access:200 POST /events (::1) 1.41ms\n",
      "INFO:tornado.access:200 POST /events (::1) 0.86ms\n"
     ]
    },
    {
     "name": "stdout",
     "output_type": "stream",
     "text": [
      "epoch 36: trainloss 4.83, testloss 4.66, accuracy 0.69, earliness 0.00. classifi"
     ]
    },
    {
     "name": "stderr",
     "output_type": "stream",
     "text": [
      "INFO:tornado.access:200 POST /events (::1) 1.35ms\n",
      "INFO:tornado.access:200 POST /events (::1) 0.87ms\n",
      "INFO:tornado.access:200 POST /events (::1) 0.83ms\n",
      "INFO:tornado.access:200 POST /events (::1) 1.18ms\n",
      "INFO:tornado.access:200 POST /events (::1) 0.75ms\n",
      "INFO:tornado.access:200 POST /update (::1) 2.57ms\n",
      "INFO:tornado.access:200 POST /update (::1) 1.95ms\n",
      "INFO:tornado.access:200 POST /update (::1) 2.25ms\n",
      "INFO:tornado.access:200 POST /env/main (172.21.176.120) 2.33ms\n",
      "INFO:tornado.access:200 POST /events (::1) 0.45ms\n",
      "INFO:tornado.access:200 POST /update (::1) 1.70ms\n",
      "INFO:tornado.access:200 POST /events (::1) 0.41ms\n",
      "INFO:tornado.access:200 POST /update (::1) 1.56ms\n",
      "INFO:tornado.access:200 POST /events (::1) 0.44ms\n",
      "INFO:tornado.access:200 POST /update (::1) 1.72ms\n",
      "INFO:tornado.access:200 POST /env/main (172.21.176.120) 3.38ms\n",
      "INFO:tornado.access:200 POST /env/main (172.21.176.120) 2.68ms\n",
      "INFO:tornado.access:200 POST /env/main (172.21.176.120) 3.58ms\n",
      "INFO:tornado.access:200 POST /env/main (172.21.176.120) 5.71ms\n",
      "INFO:tornado.access:200 POST /env/main (172.21.176.120) 2.54ms\n"
     ]
    },
    {
     "name": "stdout",
     "output_type": "stream",
     "text": [
      "torch.Size([16, 80, 3])\n",
      "testloss:  4.869316\n",
      "trainloss:  4.925724\n",
      "y_true shape:  [1 0 1 4 3 2 3 5 2 2 4 5 4 3 2 2]\n",
      "predictions at t stop:  [1 1 1 3 4 2 3 5 2 2 3 5 2 3 2 2]\n"
     ]
    },
    {
     "name": "stderr",
     "output_type": "stream",
     "text": [
      "INFO:tornado.access:200 POST /events (::1) 1.41ms\n",
      "INFO:tornado.access:200 POST /events (::1) 1.27ms\n",
      "INFO:tornado.access:200 POST /events (::1) 1.15ms\n",
      "INFO:tornado.access:200 POST /events (::1) 0.65ms\n",
      "INFO:tornado.access:200 POST /events (::1) 0.56ms\n",
      "INFO:tornado.access:200 POST /events (::1) 1.15ms\n",
      "INFO:tornado.access:200 POST /events (::1) 0.74ms\n",
      "INFO:tornado.access:200 POST /update (::1) 2.61ms\n",
      "INFO:tornado.access:200 POST /update (::1) 2.01ms\n",
      "INFO:tornado.access:200 POST /update (::1) 2.30ms\n",
      "INFO:tornado.access:200 POST /env/main (172.21.176.120) 2.39ms\n",
      "INFO:tornado.access:200 POST /events (::1) 0.45ms\n",
      "INFO:tornado.access:200 POST /update (::1) 1.73ms\n",
      "INFO:tornado.access:200 POST /env/main (172.21.176.120) 2.31ms\n",
      "INFO:tornado.access:200 POST /events (::1) 0.41ms\n",
      "INFO:tornado.access:200 POST /update (::1) 1.61ms\n",
      "INFO:tornado.access:200 POST /events (::1) 0.44ms\n",
      "INFO:tornado.access:200 POST /update (::1) 1.95ms\n",
      "INFO:tornado.access:200 POST /env/main (172.21.176.120) 2.29ms\n"
     ]
    },
    {
     "name": "stdout",
     "output_type": "stream",
     "text": [
      "epoch 37: trainloss 4.93, testloss 4.87, accuracy 0.69, earliness 0.00. classifi"
     ]
    },
    {
     "name": "stderr",
     "output_type": "stream",
     "text": [
      "INFO:tornado.access:200 POST /env/main (172.21.176.120) 3.29ms\n",
      "INFO:tornado.access:200 POST /env/main (172.21.176.120) 3.26ms\n",
      "INFO:tornado.access:200 POST /env/main (172.21.176.120) 3.21ms\n"
     ]
    },
    {
     "name": "stdout",
     "output_type": "stream",
     "text": [
      "torch.Size([16, 80, 3])\n",
      "testloss:  4.3253336\n",
      "trainloss:  4.789172\n",
      "y_true shape:  [1 0 1 4 3 2 3 5 2 2 4 5 4 3 2 2]\n",
      "predictions at t stop:  [1 0 1 3 3 2 3 5 2 2 3 1 2 3 2 2]\n"
     ]
    },
    {
     "name": "stderr",
     "output_type": "stream",
     "text": [
      "INFO:tornado.access:200 POST /events (::1) 1.36ms\n",
      "INFO:tornado.access:200 POST /events (::1) 1.38ms\n"
     ]
    },
    {
     "name": "stdout",
     "output_type": "stream",
     "text": [
      "epoch 38: trainloss 4.79, testloss 4.33, accuracy 0.75, earliness 0.00. classifi"
     ]
    },
    {
     "name": "stderr",
     "output_type": "stream",
     "text": [
      "INFO:tornado.access:200 POST /events (::1) 1.14ms\n",
      "INFO:tornado.access:200 POST /events (::1) 0.68ms\n",
      "INFO:tornado.access:200 POST /events (::1) 0.62ms\n",
      "INFO:tornado.access:200 POST /events (::1) 1.17ms\n",
      "INFO:tornado.access:200 POST /events (::1) 0.76ms\n",
      "INFO:tornado.access:200 POST /update (::1) 2.65ms\n",
      "INFO:tornado.access:200 POST /update (::1) 2.41ms\n",
      "INFO:tornado.access:200 POST /update (::1) 2.74ms\n",
      "INFO:tornado.access:200 POST /events (::1) 0.54ms\n",
      "INFO:tornado.access:200 POST /update (::1) 1.94ms\n",
      "INFO:tornado.access:200 POST /events (::1) 0.49ms\n",
      "INFO:tornado.access:200 POST /update (::1) 1.76ms\n",
      "INFO:tornado.access:200 POST /env/main (172.21.176.120) 2.65ms\n",
      "INFO:tornado.access:200 POST /events (::1) 0.49ms\n",
      "INFO:tornado.access:200 POST /update (::1) 1.97ms\n",
      "INFO:tornado.access:200 POST /env/main (172.21.176.120) 2.52ms\n",
      "INFO:tornado.access:200 POST /env/main (172.21.176.120) 2.56ms\n",
      "INFO:tornado.access:200 POST /env/main (172.21.176.120) 2.51ms\n"
     ]
    },
    {
     "name": "stdout",
     "output_type": "stream",
     "text": [
      "epoch 38: trainloss 4.79, testloss 4.33, accuracy 0.75, earliness 0.00. classifi"
     ]
    },
    {
     "name": "stderr",
     "output_type": "stream",
     "text": [
      "INFO:tornado.access:200 POST /env/main (172.21.176.120) 2.55ms\n",
      "INFO:tornado.access:200 POST /env/main (172.21.176.120) 3.29ms\n"
     ]
    },
    {
     "name": "stdout",
     "output_type": "stream",
     "text": [
      "torch.Size([16, 80, 3])\n",
      "testloss:  4.561909\n",
      "trainloss:  4.539329\n",
      "y_true shape:  [1 0 1 4 3 2 3 5 2 2 4 5 4 3 2 2]\n",
      "predictions at t stop:  [1 0 0 3 3 2 3 5 2 2 3 3 2 3 2 2]\n"
     ]
    },
    {
     "name": "stderr",
     "output_type": "stream",
     "text": [
      "INFO:tornado.access:200 POST /events (::1) 1.36ms\n",
      "INFO:tornado.access:200 POST /events (::1) 1.34ms\n"
     ]
    },
    {
     "name": "stdout",
     "output_type": "stream",
     "text": [
      "epoch 39: trainloss 4.54, testloss 4.56, accuracy 0.69, earliness 0.00. classifi"
     ]
    },
    {
     "name": "stderr",
     "output_type": "stream",
     "text": [
      "INFO:tornado.access:200 POST /events (::1) 1.37ms\n",
      "INFO:tornado.access:200 POST /events (::1) 0.87ms\n",
      "INFO:tornado.access:200 POST /events (::1) 0.80ms\n",
      "INFO:tornado.access:200 POST /events (::1) 1.18ms\n",
      "INFO:tornado.access:200 POST /events (::1) 0.77ms\n",
      "INFO:tornado.access:200 POST /update (::1) 2.74ms\n",
      "INFO:tornado.access:200 POST /update (::1) 2.03ms\n",
      "INFO:tornado.access:200 POST /update (::1) 2.30ms\n",
      "INFO:tornado.access:200 POST /events (::1) 0.47ms\n",
      "INFO:tornado.access:200 POST /update (::1) 1.74ms\n",
      "INFO:tornado.access:200 POST /events (::1) 0.43ms\n",
      "INFO:tornado.access:200 POST /update (::1) 1.64ms\n",
      "INFO:tornado.access:200 POST /events (::1) 0.52ms\n",
      "INFO:tornado.access:200 POST /update (::1) 1.74ms\n",
      "INFO:tornado.access:200 POST /env/main (172.21.176.120) 3.77ms\n",
      "INFO:tornado.access:200 POST /env/main (172.21.176.120) 3.26ms\n",
      "INFO:tornado.access:200 POST /env/main (172.21.176.120) 1.86ms\n",
      "INFO:tornado.access:200 POST /env/main (172.21.176.120) 3.21ms\n",
      "INFO:tornado.access:200 POST /env/main (172.21.176.120) 3.19ms\n",
      "INFO:tornado.access:200 POST /env/main (172.21.176.120) 2.53ms\n"
     ]
    },
    {
     "name": "stdout",
     "output_type": "stream",
     "text": [
      "torch.Size([16, 80, 3])\n",
      "testloss:  4.2228103\n",
      "trainloss:  4.6535025\n",
      "y_true shape:  [1 0 1 4 3 2 3 5 2 2 4 5 4 3 2 2]\n",
      "predictions at t stop:  [1 0 1 3 3 2 3 5 2 2 3 3 2 3 2 2]\n"
     ]
    },
    {
     "name": "stderr",
     "output_type": "stream",
     "text": [
      "INFO:tornado.access:200 POST /events (::1) 1.48ms\n",
      "INFO:tornado.access:200 POST /events (::1) 0.77ms\n",
      "INFO:tornado.access:200 POST /events (::1) 1.36ms\n",
      "INFO:tornado.access:200 POST /events (::1) 0.90ms\n",
      "INFO:tornado.access:200 POST /events (::1) 0.79ms\n",
      "INFO:tornado.access:200 POST /events (::1) 1.16ms\n",
      "INFO:tornado.access:200 POST /events (::1) 0.76ms\n",
      "INFO:tornado.access:200 POST /update (::1) 2.79ms\n",
      "INFO:tornado.access:200 POST /update (::1) 2.06ms\n",
      "INFO:tornado.access:200 POST /update (::1) 2.40ms\n",
      "INFO:tornado.access:200 POST /events (::1) 0.53ms\n",
      "INFO:tornado.access:200 POST /update (::1) 1.77ms\n",
      "INFO:tornado.access:200 POST /events (::1) 0.44ms\n",
      "INFO:tornado.access:200 POST /update (::1) 1.63ms\n",
      "INFO:tornado.access:200 POST /events (::1) 0.46ms\n",
      "INFO:tornado.access:200 POST /update (::1) 1.78ms\n",
      "INFO:tornado.access:200 POST /env/main (172.21.176.120) 3.56ms\n"
     ]
    },
    {
     "name": "stdout",
     "output_type": "stream",
     "text": [
      "epoch 40: trainloss 4.65, testloss 4.22, accuracy 0.75, earliness 0.00. classifi"
     ]
    },
    {
     "name": "stderr",
     "output_type": "stream",
     "text": [
      "INFO:tornado.access:200 POST /env/main (172.21.176.120) 2.25ms\n",
      "INFO:tornado.access:200 POST /env/main (172.21.176.120) 2.26ms\n",
      "INFO:tornado.access:200 POST /env/main (172.21.176.120) 2.75ms\n",
      "INFO:tornado.access:200 POST /env/main (172.21.176.120) 4.91ms\n",
      "INFO:tornado.access:200 POST /env/main (172.21.176.120) 1.53ms\n"
     ]
    },
    {
     "name": "stdout",
     "output_type": "stream",
     "text": [
      "torch.Size([16, 80, 3])\n",
      "testloss:  4.0182886\n",
      "trainloss:  4.2850103\n",
      "y_true shape:  [1 0 1 4 3 2 3 5 2 2 4 5 4 3 2 2]\n",
      "predictions at t stop:  [1 0 1 3 3 2 3 5 2 2 3 2 2 3 2 2]\n"
     ]
    },
    {
     "name": "stderr",
     "output_type": "stream",
     "text": [
      "INFO:tornado.access:200 POST /events (::1) 1.37ms\n",
      "INFO:tornado.access:200 POST /events (::1) 1.24ms\n",
      "INFO:tornado.access:200 POST /events (::1) 1.26ms\n",
      "INFO:tornado.access:200 POST /events (::1) 0.84ms\n",
      "INFO:tornado.access:200 POST /events (::1) 0.79ms\n",
      "INFO:tornado.access:200 POST /events (::1) 1.01ms\n",
      "INFO:tornado.access:200 POST /events (::1) 0.74ms\n",
      "INFO:tornado.access:200 POST /update (::1) 2.77ms\n",
      "INFO:tornado.access:200 POST /update (::1) 2.09ms\n",
      "INFO:tornado.access:200 POST /update (::1) 2.61ms\n",
      "INFO:tornado.access:200 POST /events (::1) 0.61ms\n",
      "INFO:tornado.access:200 POST /update (::1) 1.82ms\n",
      "INFO:tornado.access:200 POST /events (::1) 0.45ms\n",
      "INFO:tornado.access:200 POST /update (::1) 1.67ms\n",
      "INFO:tornado.access:200 POST /events (::1) 0.48ms\n",
      "INFO:tornado.access:200 POST /update (::1) 2.14ms\n"
     ]
    },
    {
     "name": "stdout",
     "output_type": "stream",
     "text": [
      "epoch 41: trainloss 4.29, testloss 4.02, accuracy 0.75, earliness 0.00. classifi"
     ]
    },
    {
     "name": "stderr",
     "output_type": "stream",
     "text": [
      "INFO:tornado.access:200 POST /env/main (172.21.176.120) 3.55ms\n",
      "INFO:tornado.access:200 POST /env/main (172.21.176.120) 3.33ms\n",
      "INFO:tornado.access:200 POST /env/main (172.21.176.120) 1.49ms\n",
      "INFO:tornado.access:200 POST /env/main (172.21.176.120) 1.50ms\n",
      "INFO:tornado.access:200 POST /env/main (172.21.176.120) 3.31ms\n",
      "INFO:tornado.access:200 POST /env/main (172.21.176.120) 3.35ms\n"
     ]
    },
    {
     "name": "stdout",
     "output_type": "stream",
     "text": [
      "torch.Size([16, 80, 3])\n",
      "testloss:  3.8738565\n",
      "trainloss:  4.122833\n",
      "y_true shape:  [1 0 1 4 3 2 3 5 2 2 4 5 4 3 2 2]\n",
      "predictions at t stop:  [1 0 1 4 3 2 3 5 2 2 3 5 2 3 2 2]\n"
     ]
    },
    {
     "name": "stderr",
     "output_type": "stream",
     "text": [
      "INFO:tornado.access:200 POST /events (::1) 1.37ms\n",
      "INFO:tornado.access:200 POST /events (::1) 1.36ms\n",
      "INFO:tornado.access:200 POST /events (::1) 0.88ms\n",
      "INFO:tornado.access:200 POST /events (::1) 0.41ms\n",
      "INFO:tornado.access:200 POST /events (::1) 0.38ms\n",
      "INFO:tornado.access:200 POST /events (::1) 1.17ms\n",
      "INFO:tornado.access:200 POST /events (::1) 0.77ms\n",
      "INFO:tornado.access:200 POST /update (::1) 2.75ms\n",
      "INFO:tornado.access:200 POST /update (::1) 2.08ms\n",
      "INFO:tornado.access:200 POST /update (::1) 2.41ms\n",
      "INFO:tornado.access:200 POST /events (::1) 0.49ms\n",
      "INFO:tornado.access:200 POST /update (::1) 1.81ms\n",
      "INFO:tornado.access:200 POST /events (::1) 0.44ms\n",
      "INFO:tornado.access:200 POST /update (::1) 1.65ms\n",
      "INFO:tornado.access:200 POST /events (::1) 0.47ms\n",
      "INFO:tornado.access:200 POST /update (::1) 1.78ms\n",
      "INFO:tornado.access:200 POST /env/main (172.21.176.120) 3.56ms\n"
     ]
    },
    {
     "name": "stdout",
     "output_type": "stream",
     "text": [
      "epoch 42: trainloss 4.12, testloss 3.87, accuracy 0.88, earliness 0.03. classifi"
     ]
    },
    {
     "name": "stderr",
     "output_type": "stream",
     "text": [
      "INFO:tornado.access:200 POST /env/main (172.21.176.120) 2.84ms\n",
      "INFO:tornado.access:200 POST /env/main (172.21.176.120) 3.13ms\n",
      "INFO:tornado.access:200 POST /env/main (172.21.176.120) 3.31ms\n",
      "INFO:tornado.access:200 POST /env/main (172.21.176.120) 3.07ms\n",
      "INFO:tornado.access:200 POST /env/main (172.21.176.120) 2.54ms\n"
     ]
    },
    {
     "name": "stdout",
     "output_type": "stream",
     "text": [
      "torch.Size([16, 80, 3])\n",
      "testloss:  6.694319\n",
      "trainloss:  4.7400446\n",
      "y_true shape:  [1 0 1 4 3 2 3 5 2 2 4 5 4 3 2 2]\n",
      "predictions at t stop:  [1 0 1 3 3 2 3 5 1 2 3 2 2 3 1 2]\n"
     ]
    },
    {
     "name": "stderr",
     "output_type": "stream",
     "text": [
      "INFO:tornado.access:200 POST /events (::1) 1.40ms\n",
      "INFO:tornado.access:200 POST /events (::1) 1.38ms\n",
      "INFO:tornado.access:200 POST /events (::1) 1.38ms\n",
      "INFO:tornado.access:200 POST /events (::1) 0.86ms\n",
      "INFO:tornado.access:200 POST /events (::1) 0.82ms\n",
      "INFO:tornado.access:200 POST /events (::1) 0.75ms\n",
      "INFO:tornado.access:200 POST /events (::1) 0.68ms\n",
      "INFO:tornado.access:200 POST /update (::1) 1.31ms\n",
      "INFO:tornado.access:200 POST /update (::1) 1.38ms\n",
      "INFO:tornado.access:200 POST /update (::1) 2.49ms\n",
      "INFO:tornado.access:200 POST /events (::1) 0.49ms\n",
      "INFO:tornado.access:200 POST /update (::1) 1.90ms\n",
      "INFO:tornado.access:200 POST /events (::1) 0.44ms\n",
      "INFO:tornado.access:200 POST /update (::1) 1.69ms\n",
      "INFO:tornado.access:200 POST /events (::1) 0.47ms\n",
      "INFO:tornado.access:200 POST /update (::1) 2.08ms\n"
     ]
    },
    {
     "name": "stdout",
     "output_type": "stream",
     "text": [
      "epoch 43: trainloss 4.74, testloss 6.69, accuracy 0.62, earliness 0.00. classifi"
     ]
    },
    {
     "name": "stderr",
     "output_type": "stream",
     "text": [
      "INFO:tornado.access:200 POST /env/main (172.21.176.120) 3.53ms\n",
      "INFO:tornado.access:200 POST /env/main (172.21.176.120) 3.37ms\n",
      "INFO:tornado.access:200 POST /env/main (172.21.176.120) 1.79ms\n",
      "INFO:tornado.access:200 POST /env/main (172.21.176.120) 1.54ms\n",
      "INFO:tornado.access:200 POST /env/main (172.21.176.120) 1.52ms\n",
      "INFO:tornado.access:200 POST /env/main (172.21.176.120) 1.45ms\n"
     ]
    },
    {
     "name": "stdout",
     "output_type": "stream",
     "text": [
      "torch.Size([16, 80, 3])\n",
      "testloss:  4.4273868\n",
      "trainloss:  4.8821692\n",
      "y_true shape:  [1 0 1 4 3 2 3 5 2 2 4 5 4 3 2 2]\n",
      "predictions at t stop:  [1 0 1 3 3 2 3 5 2 2 3 5 2 3 2 2]\n"
     ]
    },
    {
     "name": "stderr",
     "output_type": "stream",
     "text": [
      "INFO:tornado.access:200 POST /events (::1) 1.36ms\n",
      "INFO:tornado.access:200 POST /events (::1) 1.36ms\n",
      "INFO:tornado.access:200 POST /events (::1) 1.34ms\n",
      "INFO:tornado.access:200 POST /events (::1) 0.83ms\n",
      "INFO:tornado.access:200 POST /events (::1) 0.79ms\n",
      "INFO:tornado.access:200 POST /events (::1) 1.16ms\n",
      "INFO:tornado.access:200 POST /events (::1) 0.78ms\n",
      "INFO:tornado.access:200 POST /update (::1) 2.82ms\n",
      "INFO:tornado.access:200 POST /update (::1) 2.31ms\n",
      "INFO:tornado.access:200 POST /update (::1) 2.47ms\n",
      "INFO:tornado.access:200 POST /events (::1) 0.49ms\n",
      "INFO:tornado.access:200 POST /update (::1) 1.85ms\n",
      "INFO:tornado.access:200 POST /events (::1) 0.32ms\n",
      "INFO:tornado.access:200 POST /env/main (172.21.176.120) 1.61ms\n",
      "INFO:tornado.access:200 POST /update (::1) 1.12ms\n",
      "INFO:tornado.access:200 POST /events (::1) 0.50ms\n",
      "INFO:tornado.access:200 POST /env/main (172.21.176.120) 2.23ms\n",
      "INFO:tornado.access:200 POST /env/main (172.21.176.120) 2.19ms\n",
      "INFO:tornado.access:200 POST /update (::1) 1.92ms\n",
      "INFO:tornado.access:200 POST /env/main (172.21.176.120) 1.51ms\n"
     ]
    },
    {
     "name": "stdout",
     "output_type": "stream",
     "text": [
      "epoch 44: trainloss 4.88, testloss 4.43, accuracy 0.81, earliness 0.15. classifi"
     ]
    },
    {
     "name": "stderr",
     "output_type": "stream",
     "text": [
      "INFO:tornado.access:200 POST /env/main (172.21.176.120) 3.37ms\n",
      "INFO:tornado.access:200 POST /env/main (172.21.176.120) 3.28ms\n"
     ]
    },
    {
     "name": "stdout",
     "output_type": "stream",
     "text": [
      "torch.Size([16, 80, 3])\n",
      "testloss:  4.581973\n",
      "trainloss:  5.5562873\n",
      "y_true shape:  [1 0 1 4 3 2 3 5 2 2 4 5 4 3 2 2]\n",
      "predictions at t stop:  [1 0 1 3 3 2 3 4 2 2 3 2 2 3 2 2]\n"
     ]
    },
    {
     "name": "stderr",
     "output_type": "stream",
     "text": [
      "INFO:tornado.access:200 POST /events (::1) 1.35ms\n",
      "INFO:tornado.access:200 POST /events (::1) 2.24ms\n",
      "INFO:tornado.access:200 POST /events (::1) 1.41ms\n",
      "INFO:tornado.access:200 POST /events (::1) 0.94ms\n",
      "INFO:tornado.access:200 POST /events (::1) 0.84ms\n",
      "INFO:tornado.access:200 POST /events (::1) 1.22ms\n",
      "INFO:tornado.access:200 POST /events (::1) 0.79ms\n",
      "INFO:tornado.access:200 POST /update (::1) 3.03ms\n",
      "INFO:tornado.access:200 POST /update (::1) 2.19ms\n",
      "INFO:tornado.access:200 POST /update (::1) 2.72ms\n",
      "INFO:tornado.access:200 POST /events (::1) 0.54ms\n",
      "INFO:tornado.access:200 POST /update (::1) 1.97ms\n",
      "INFO:tornado.access:200 POST /events (::1) 0.64ms\n",
      "INFO:tornado.access:200 POST /update (::1) 1.15ms\n",
      "INFO:tornado.access:200 POST /events (::1) 0.33ms\n",
      "INFO:tornado.access:200 POST /update (::1) 2.18ms\n"
     ]
    },
    {
     "name": "stdout",
     "output_type": "stream",
     "text": [
      "epoch 45: trainloss 5.56, testloss 4.58, accuracy 0.69, earliness 0.13. classifi"
     ]
    },
    {
     "name": "stderr",
     "output_type": "stream",
     "text": [
      "INFO:tornado.access:200 POST /env/main (172.21.176.120) 4.30ms\n",
      "INFO:tornado.access:200 POST /env/main (172.21.176.120) 7.05ms\n",
      "INFO:tornado.access:200 POST /env/main (172.21.176.120) 9.88ms\n",
      "INFO:tornado.access:200 POST /env/main (172.21.176.120) 1.56ms\n",
      "INFO:tornado.access:200 POST /env/main (172.21.176.120) 1.67ms\n",
      "INFO:tornado.access:200 POST /env/main (172.21.176.120) 2.91ms\n"
     ]
    },
    {
     "name": "stdout",
     "output_type": "stream",
     "text": [
      "torch.Size([16, 80, 3])\n",
      "testloss:  4.6564846\n",
      "trainloss:  5.5411386\n",
      "y_true shape:  [1 0 1 4 3 2 3 5 2 2 4 5 4 3 2 2]\n",
      "predictions at t stop:  [1 0 1 3 4 2 3 5 2 2 3 5 2 3 2 2]\n"
     ]
    },
    {
     "name": "stderr",
     "output_type": "stream",
     "text": [
      "INFO:tornado.access:200 POST /events (::1) 1.41ms\n",
      "INFO:tornado.access:200 POST /events (::1) 1.42ms\n",
      "INFO:tornado.access:200 POST /events (::1) 1.22ms\n",
      "INFO:tornado.access:200 POST /events (::1) 0.66ms\n",
      "INFO:tornado.access:200 POST /events (::1) 0.62ms\n",
      "INFO:tornado.access:200 POST /events (::1) 1.17ms\n",
      "INFO:tornado.access:200 POST /events (::1) 0.79ms\n",
      "INFO:tornado.access:200 POST /update (::1) 2.84ms\n",
      "INFO:tornado.access:200 POST /update (::1) 2.18ms\n",
      "INFO:tornado.access:200 POST /update (::1) 2.54ms\n",
      "INFO:tornado.access:200 POST /events (::1) 0.50ms\n",
      "INFO:tornado.access:200 POST /update (::1) 1.90ms\n",
      "INFO:tornado.access:200 POST /events (::1) 0.45ms\n",
      "INFO:tornado.access:200 POST /update (::1) 1.73ms\n",
      "INFO:tornado.access:200 POST /events (::1) 0.48ms\n",
      "INFO:tornado.access:200 POST /update (::1) 1.88ms\n"
     ]
    },
    {
     "name": "stdout",
     "output_type": "stream",
     "text": [
      "epoch 46: trainloss 5.54, testloss 4.66, accuracy 0.75, earliness 0.12. classifi"
     ]
    },
    {
     "name": "stderr",
     "output_type": "stream",
     "text": [
      "INFO:tornado.access:200 POST /env/main (172.21.176.120) 3.48ms\n",
      "INFO:tornado.access:200 POST /env/main (172.21.176.120) 2.55ms\n",
      "INFO:tornado.access:200 POST /env/main (172.21.176.120) 2.62ms\n",
      "INFO:tornado.access:200 POST /env/main (172.21.176.120) 2.68ms\n",
      "INFO:tornado.access:200 POST /env/main (172.21.176.120) 2.67ms\n",
      "INFO:tornado.access:200 POST /env/main (172.21.176.120) 2.53ms\n"
     ]
    },
    {
     "name": "stdout",
     "output_type": "stream",
     "text": [
      "torch.Size([16, 80, 3])\n",
      "testloss:  4.865737\n",
      "trainloss:  5.4993696\n",
      "y_true shape:  [1 0 1 4 3 2 3 5 2 2 4 5 4 3 2 2]\n",
      "predictions at t stop:  [1 1 1 3 4 2 3 5 2 2 3 5 2 3 1 2]\n"
     ]
    },
    {
     "name": "stderr",
     "output_type": "stream",
     "text": [
      "INFO:tornado.access:200 POST /events (::1) 1.46ms\n",
      "INFO:tornado.access:200 POST /events (::1) 1.41ms\n",
      "INFO:tornado.access:200 POST /events (::1) 1.26ms\n",
      "INFO:tornado.access:200 POST /events (::1) 0.67ms\n",
      "INFO:tornado.access:200 POST /events (::1) 0.58ms\n",
      "INFO:tornado.access:200 POST /events (::1) 1.18ms\n",
      "INFO:tornado.access:200 POST /events (::1) 0.82ms\n",
      "INFO:tornado.access:200 POST /update (::1) 2.93ms\n",
      "INFO:tornado.access:200 POST /update (::1) 2.20ms\n",
      "INFO:tornado.access:200 POST /update (::1) 2.53ms\n",
      "INFO:tornado.access:200 POST /events (::1) 0.49ms\n",
      "INFO:tornado.access:200 POST /update (::1) 1.88ms\n",
      "INFO:tornado.access:200 POST /events (::1) 0.52ms\n",
      "INFO:tornado.access:200 POST /update (::1) 1.75ms\n",
      "INFO:tornado.access:200 POST /events (::1) 0.49ms\n",
      "INFO:tornado.access:200 POST /update (::1) 2.15ms\n"
     ]
    },
    {
     "name": "stdout",
     "output_type": "stream",
     "text": [
      "epoch 47: trainloss 5.50, testloss 4.87, accuracy 0.62, earliness 0.13. classifi"
     ]
    },
    {
     "name": "stderr",
     "output_type": "stream",
     "text": [
      "INFO:tornado.access:200 POST /env/main (172.21.176.120) 3.53ms\n",
      "INFO:tornado.access:200 POST /env/main (172.21.176.120) 3.33ms\n",
      "INFO:tornado.access:200 POST /env/main (172.21.176.120) 2.06ms\n",
      "INFO:tornado.access:200 POST /env/main (172.21.176.120) 2.18ms\n",
      "INFO:tornado.access:200 POST /env/main (172.21.176.120) 3.62ms\n",
      "INFO:tornado.access:200 POST /env/main (172.21.176.120) 6.39ms\n"
     ]
    },
    {
     "name": "stdout",
     "output_type": "stream",
     "text": [
      "torch.Size([16, 80, 3])\n",
      "testloss:  5.5291944\n",
      "trainloss:  4.9340096\n",
      "y_true shape:  [1 0 1 4 3 2 3 5 2 2 4 5 4 3 2 2]\n",
      "predictions at t stop:  [1 1 1 3 4 2 3 5 2 2 3 5 2 3 1 2]\n"
     ]
    },
    {
     "name": "stderr",
     "output_type": "stream",
     "text": [
      "INFO:tornado.access:200 POST /events (::1) 1.46ms\n",
      "INFO:tornado.access:200 POST /events (::1) 1.37ms\n",
      "INFO:tornado.access:200 POST /events (::1) 1.35ms\n",
      "INFO:tornado.access:200 POST /events (::1) 0.84ms\n",
      "INFO:tornado.access:200 POST /events (::1) 0.79ms\n",
      "INFO:tornado.access:200 POST /events (::1) 1.07ms\n",
      "INFO:tornado.access:200 POST /events (::1) 0.59ms\n",
      "INFO:tornado.access:200 POST /update (::1) 2.03ms\n",
      "INFO:tornado.access:200 POST /update (::1) 2.15ms\n",
      "INFO:tornado.access:200 POST /update (::1) 2.51ms\n",
      "INFO:tornado.access:200 POST /events (::1) 0.48ms\n",
      "INFO:tornado.access:200 POST /update (::1) 1.88ms\n",
      "INFO:tornado.access:200 POST /events (::1) 0.44ms\n",
      "INFO:tornado.access:200 POST /update (::1) 1.75ms\n",
      "INFO:tornado.access:200 POST /events (::1) 0.47ms\n",
      "INFO:tornado.access:200 POST /update (::1) 1.89ms\n"
     ]
    },
    {
     "name": "stdout",
     "output_type": "stream",
     "text": [
      "epoch 48: trainloss 4.93, testloss 5.53, accuracy 0.62, earliness 0.10. classifi"
     ]
    },
    {
     "name": "stderr",
     "output_type": "stream",
     "text": [
      "INFO:tornado.access:200 POST /env/main (172.21.176.120) 3.62ms\n",
      "INFO:tornado.access:200 POST /env/main (172.21.176.120) 3.37ms\n",
      "INFO:tornado.access:200 POST /env/main (172.21.176.120) 2.14ms\n",
      "INFO:tornado.access:200 POST /env/main (172.21.176.120) 1.69ms\n",
      "INFO:tornado.access:200 POST /env/main (172.21.176.120) 2.97ms\n",
      "INFO:tornado.access:200 POST /env/main (172.21.176.120) 1.49ms\n"
     ]
    },
    {
     "name": "stdout",
     "output_type": "stream",
     "text": [
      "torch.Size([16, 80, 3])\n",
      "testloss:  5.2078114\n",
      "trainloss:  4.6566358\n",
      "y_true shape:  [1 0 1 4 3 2 3 5 2 2 4 5 4 3 2 2]\n",
      "predictions at t stop:  [1 1 1 3 4 2 3 3 2 2 3 5 2 3 1 2]\n"
     ]
    },
    {
     "name": "stderr",
     "output_type": "stream",
     "text": [
      "INFO:tornado.access:200 POST /events (::1) 0.96ms\n",
      "INFO:tornado.access:200 POST /events (::1) 1.35ms\n",
      "INFO:tornado.access:200 POST /events (::1) 1.36ms\n",
      "INFO:tornado.access:200 POST /events (::1) 0.86ms\n",
      "INFO:tornado.access:200 POST /events (::1) 0.84ms\n",
      "INFO:tornado.access:200 POST /events (::1) 1.04ms\n",
      "INFO:tornado.access:200 POST /events (::1) 0.68ms\n",
      "INFO:tornado.access:200 POST /update (::1) 1.34ms\n",
      "INFO:tornado.access:200 POST /update (::1) 2.19ms\n",
      "INFO:tornado.access:200 POST /update (::1) 2.54ms\n",
      "INFO:tornado.access:200 POST /events (::1) 0.48ms\n",
      "INFO:tornado.access:200 POST /update (::1) 1.90ms\n",
      "INFO:tornado.access:200 POST /events (::1) 0.53ms\n",
      "INFO:tornado.access:200 POST /update (::1) 1.77ms\n",
      "INFO:tornado.access:200 POST /events (::1) 0.47ms\n",
      "INFO:tornado.access:200 POST /update (::1) 2.22ms\n",
      "INFO:tornado.access:200 POST /env/main (172.21.176.120) 3.54ms\n"
     ]
    },
    {
     "name": "stdout",
     "output_type": "stream",
     "text": [
      "epoch 49: trainloss 4.66, testloss 5.21, accuracy 0.56, earliness 0.13. classifi"
     ]
    },
    {
     "name": "stderr",
     "output_type": "stream",
     "text": [
      "INFO:tornado.access:200 POST /env/main (172.21.176.120) 3.44ms\n",
      "INFO:tornado.access:200 POST /env/main (172.21.176.120) 2.95ms\n",
      "INFO:tornado.access:200 POST /env/main (172.21.176.120) 5.17ms\n",
      "INFO:tornado.access:200 POST /env/main (172.21.176.120) 2.48ms\n",
      "INFO:tornado.access:200 POST /env/main (172.21.176.120) 1.97ms\n"
     ]
    },
    {
     "name": "stdout",
     "output_type": "stream",
     "text": [
      "torch.Size([16, 80, 3])\n",
      "testloss:  5.318945\n",
      "trainloss:  4.468791\n",
      "y_true shape:  [1 0 1 4 3 2 3 5 2 2 4 5 4 3 2 2]\n",
      "predictions at t stop:  [1 1 1 3 4 2 3 5 1 2 3 5 2 3 1 2]\n"
     ]
    },
    {
     "name": "stderr",
     "output_type": "stream",
     "text": [
      "INFO:tornado.access:200 POST /events (::1) 1.37ms\n",
      "INFO:tornado.access:200 POST /events (::1) 1.15ms\n",
      "INFO:tornado.access:200 POST /events (::1) 1.41ms\n",
      "INFO:tornado.access:200 POST /events (::1) 0.84ms\n",
      "INFO:tornado.access:200 POST /events (::1) 0.76ms\n",
      "INFO:tornado.access:200 POST /events (::1) 1.17ms\n",
      "INFO:tornado.access:200 POST /events (::1) 0.80ms\n",
      "INFO:tornado.access:200 POST /update (::1) 2.99ms\n",
      "INFO:tornado.access:200 POST /update (::1) 2.25ms\n",
      "INFO:tornado.access:200 POST /update (::1) 2.59ms\n",
      "INFO:tornado.access:200 POST /events (::1) 0.54ms\n",
      "INFO:tornado.access:200 POST /update (::1) 1.93ms\n",
      "INFO:tornado.access:200 POST /events (::1) 0.45ms\n",
      "INFO:tornado.access:200 POST /update (::1) 1.82ms\n",
      "INFO:tornado.access:200 POST /events (::1) 0.48ms\n",
      "INFO:tornado.access:200 POST /update (::1) 1.92ms\n"
     ]
    },
    {
     "name": "stdout",
     "output_type": "stream",
     "text": [
      "epoch 50: trainloss 4.47, testloss 5.32, accuracy 0.56, earliness 0.09. classifi"
     ]
    },
    {
     "name": "stderr",
     "output_type": "stream",
     "text": [
      "INFO:tornado.access:200 POST /env/main (172.21.176.120) 3.51ms\n",
      "INFO:tornado.access:200 POST /env/main (172.21.176.120) 3.36ms\n",
      "INFO:tornado.access:200 POST /env/main (172.21.176.120) 3.35ms\n",
      "INFO:tornado.access:200 POST /env/main (172.21.176.120) 2.08ms\n",
      "INFO:tornado.access:200 POST /env/main (172.21.176.120) 3.35ms\n",
      "INFO:tornado.access:200 POST /env/main (172.21.176.120) 3.38ms\n"
     ]
    },
    {
     "name": "stdout",
     "output_type": "stream",
     "text": [
      "torch.Size([16, 80, 3])\n",
      "testloss:  4.8371263\n",
      "trainloss:  4.417465\n",
      "y_true shape:  [1 0 1 4 3 2 3 5 2 2 4 5 4 3 2 2]\n",
      "predictions at t stop:  [1 0 1 3 4 2 3 5 2 2 3 5 2 3 2 2]\n"
     ]
    },
    {
     "name": "stderr",
     "output_type": "stream",
     "text": [
      "INFO:tornado.access:200 POST /events (::1) 1.35ms\n",
      "INFO:tornado.access:200 POST /events (::1) 1.40ms\n",
      "INFO:tornado.access:200 POST /events (::1) 1.04ms\n",
      "INFO:tornado.access:200 POST /events (::1) 0.40ms\n",
      "INFO:tornado.access:200 POST /events (::1) 0.37ms\n",
      "INFO:tornado.access:200 POST /events (::1) 1.23ms\n",
      "INFO:tornado.access:200 POST /events (::1) 0.80ms\n",
      "INFO:tornado.access:200 POST /update (::1) 3.02ms\n",
      "INFO:tornado.access:200 POST /update (::1) 2.30ms\n",
      "INFO:tornado.access:200 POST /update (::1) 2.67ms\n",
      "INFO:tornado.access:200 POST /events (::1) 0.56ms\n",
      "INFO:tornado.access:200 POST /update (::1) 1.96ms\n",
      "INFO:tornado.access:200 POST /env/main (172.21.176.120) 2.47ms\n",
      "INFO:tornado.access:200 POST /events (::1) 0.43ms\n",
      "INFO:tornado.access:200 POST /update (::1) 1.81ms\n",
      "INFO:tornado.access:200 POST /env/main (172.21.176.120) 2.58ms\n",
      "INFO:tornado.access:200 POST /events (::1) 0.48ms\n",
      "INFO:tornado.access:200 POST /env/main (172.21.176.120) 1.93ms\n",
      "INFO:tornado.access:200 POST /env/main (172.21.176.120) 3.15ms\n",
      "INFO:tornado.access:200 POST /update (::1) 1.34ms\n"
     ]
    },
    {
     "name": "stdout",
     "output_type": "stream",
     "text": [
      "epoch 51: trainloss 4.42, testloss 4.84, accuracy 0.75, earliness 0.17. classifi"
     ]
    },
    {
     "name": "stderr",
     "output_type": "stream",
     "text": [
      "INFO:tornado.access:200 POST /env/main (172.21.176.120) 3.54ms\n",
      "INFO:tornado.access:200 POST /env/main (172.21.176.120) 3.55ms\n"
     ]
    },
    {
     "name": "stdout",
     "output_type": "stream",
     "text": [
      "torch.Size([16, 80, 3])\n",
      "testloss:  4.8185153\n",
      "trainloss:  4.2935066\n",
      "y_true shape:  [1 0 1 4 3 2 3 5 2 2 4 5 4 3 2 2]\n",
      "predictions at t stop:  [1 0 1 3 4 2 3 5 2 2 3 5 2 3 1 2]\n"
     ]
    },
    {
     "name": "stderr",
     "output_type": "stream",
     "text": [
      "INFO:tornado.access:200 POST /events (::1) 1.06ms\n",
      "INFO:tornado.access:200 POST /events (::1) 1.36ms\n",
      "INFO:tornado.access:200 POST /events (::1) 1.36ms\n",
      "INFO:tornado.access:200 POST /events (::1) 0.83ms\n",
      "INFO:tornado.access:200 POST /events (::1) 0.80ms\n"
     ]
    },
    {
     "name": "stdout",
     "output_type": "stream",
     "text": [
      "epoch 52: trainloss 4.29, testloss 4.82, accuracy 0.69, earliness 0.13. classifi"
     ]
    },
    {
     "name": "stderr",
     "output_type": "stream",
     "text": [
      "INFO:tornado.access:200 POST /events (::1) 1.22ms\n",
      "INFO:tornado.access:200 POST /events (::1) 0.81ms\n",
      "INFO:tornado.access:200 POST /update (::1) 3.08ms\n",
      "INFO:tornado.access:200 POST /update (::1) 2.33ms\n",
      "INFO:tornado.access:200 POST /update (::1) 2.72ms\n",
      "INFO:tornado.access:200 POST /events (::1) 0.51ms\n",
      "INFO:tornado.access:200 POST /update (::1) 1.98ms\n",
      "INFO:tornado.access:200 POST /env/main (172.21.176.120) 2.47ms\n",
      "INFO:tornado.access:200 POST /events (::1) 0.43ms\n",
      "INFO:tornado.access:200 POST /env/main (172.21.176.120) 2.33ms\n",
      "INFO:tornado.access:200 POST /update (::1) 2.02ms\n",
      "INFO:tornado.access:200 POST /env/main (172.21.176.120) 4.07ms\n",
      "INFO:tornado.access:200 POST /env/main (172.21.176.120) 2.49ms\n",
      "INFO:tornado.access:200 POST /events (::1) 0.64ms\n",
      "INFO:tornado.access:200 POST /update (::1) 1.32ms\n",
      "INFO:tornado.access:200 POST /env/main (172.21.176.120) 3.49ms\n",
      "INFO:tornado.access:200 POST /env/main (172.21.176.120) 3.66ms\n"
     ]
    },
    {
     "name": "stdout",
     "output_type": "stream",
     "text": [
      "torch.Size([16, 80, 3])\n",
      "testloss:  4.727606\n",
      "trainloss:  4.283229\n",
      "y_true shape:  [1 0 1 4 3 2 3 5 2 2 4 5 4 3 2 2]\n",
      "predictions at t stop:  [1 0 1 3 4 2 3 5 2 2 3 5 2 3 1 2]\n"
     ]
    },
    {
     "name": "stderr",
     "output_type": "stream",
     "text": [
      "INFO:tornado.access:200 POST /events (::1) 1.39ms\n",
      "INFO:tornado.access:200 POST /events (::1) 1.32ms\n"
     ]
    },
    {
     "name": "stdout",
     "output_type": "stream",
     "text": [
      "epoch 53: trainloss 4.28, testloss 4.73, accuracy 0.69, earliness 0.12. classifi"
     ]
    },
    {
     "name": "stderr",
     "output_type": "stream",
     "text": [
      "INFO:tornado.access:200 POST /events (::1) 1.41ms\n",
      "INFO:tornado.access:200 POST /events (::1) 0.84ms\n",
      "INFO:tornado.access:200 POST /events (::1) 0.79ms\n",
      "INFO:tornado.access:200 POST /events (::1) 1.00ms\n",
      "INFO:tornado.access:200 POST /events (::1) 0.53ms\n",
      "INFO:tornado.access:200 POST /update (::1) 1.41ms\n",
      "INFO:tornado.access:200 POST /update (::1) 1.53ms\n",
      "INFO:tornado.access:200 POST /update (::1) 2.69ms\n",
      "INFO:tornado.access:200 POST /events (::1) 0.50ms\n",
      "INFO:tornado.access:200 POST /update (::1) 2.04ms\n",
      "INFO:tornado.access:200 POST /events (::1) 0.45ms\n",
      "INFO:tornado.access:200 POST /update (::1) 2.11ms\n",
      "INFO:tornado.access:200 POST /events (::1) 0.49ms\n",
      "INFO:tornado.access:200 POST /update (::1) 2.01ms\n",
      "INFO:tornado.access:200 POST /env/main (172.21.176.120) 3.68ms\n",
      "INFO:tornado.access:200 POST /env/main (172.21.176.120) 3.74ms\n",
      "INFO:tornado.access:200 POST /env/main (172.21.176.120) 6.66ms\n",
      "INFO:tornado.access:200 POST /env/main (172.21.176.120) 2.04ms\n",
      "INFO:tornado.access:200 POST /env/main (172.21.176.120) 3.15ms\n",
      "INFO:tornado.access:200 POST /env/main (172.21.176.120) 4.41ms\n"
     ]
    },
    {
     "name": "stdout",
     "output_type": "stream",
     "text": [
      "torch.Size([16, 80, 3])\n",
      "testloss:  4.5357795\n",
      "trainloss:  4.0737786\n",
      "y_true shape:  [1 0 1 4 3 2 3 5 2 2 4 5 4 3 2 2]\n",
      "predictions at t stop:  [1 0 1 3 4 2 3 5 2 2 3 5 1 3 1 2]\n"
     ]
    },
    {
     "name": "stderr",
     "output_type": "stream",
     "text": [
      "INFO:tornado.access:200 POST /events (::1) 1.39ms\n",
      "INFO:tornado.access:200 POST /events (::1) 0.92ms\n",
      "INFO:tornado.access:200 POST /events (::1) 1.42ms\n",
      "INFO:tornado.access:200 POST /events (::1) 0.83ms\n",
      "INFO:tornado.access:200 POST /events (::1) 0.74ms\n",
      "INFO:tornado.access:200 POST /events (::1) 1.19ms\n",
      "INFO:tornado.access:200 POST /events (::1) 0.81ms\n",
      "INFO:tornado.access:200 POST /update (::1) 3.03ms\n",
      "INFO:tornado.access:200 POST /update (::1) 2.40ms\n",
      "INFO:tornado.access:200 POST /update (::1) 2.77ms\n",
      "INFO:tornado.access:200 POST /events (::1) 0.55ms\n",
      "INFO:tornado.access:200 POST /update (::1) 1.99ms\n",
      "INFO:tornado.access:200 POST /events (::1) 0.45ms\n",
      "INFO:tornado.access:200 POST /update (::1) 1.87ms\n",
      "INFO:tornado.access:200 POST /events (::1) 0.51ms\n",
      "INFO:tornado.access:200 POST /update (::1) 2.02ms\n"
     ]
    },
    {
     "name": "stdout",
     "output_type": "stream",
     "text": [
      "epoch 54: trainloss 4.07, testloss 4.54, accuracy 0.69, earliness 0.13. classifi"
     ]
    },
    {
     "name": "stderr",
     "output_type": "stream",
     "text": [
      "INFO:tornado.access:200 POST /env/main (172.21.176.120) 3.75ms\n",
      "INFO:tornado.access:200 POST /env/main (172.21.176.120) 3.89ms\n",
      "INFO:tornado.access:200 POST /env/main (172.21.176.120) 6.14ms\n",
      "INFO:tornado.access:200 POST /env/main (172.21.176.120) 1.95ms\n",
      "INFO:tornado.access:200 POST /env/main (172.21.176.120) 3.25ms\n",
      "INFO:tornado.access:200 POST /env/main (172.21.176.120) 4.69ms\n"
     ]
    },
    {
     "name": "stdout",
     "output_type": "stream",
     "text": [
      "torch.Size([16, 80, 3])\n",
      "testloss:  4.7751613\n",
      "trainloss:  4.2060003\n",
      "y_true shape:  [1 0 1 4 3 2 3 5 2 2 4 5 4 3 2 2]\n",
      "predictions at t stop:  [1 0 1 3 3 2 3 5 2 2 3 5 2 3 1 2]\n"
     ]
    },
    {
     "name": "stderr",
     "output_type": "stream",
     "text": [
      "INFO:tornado.access:200 POST /events (::1) 1.43ms\n",
      "INFO:tornado.access:200 POST /events (::1) 1.21ms\n"
     ]
    },
    {
     "name": "stdout",
     "output_type": "stream",
     "text": [
      "epoch 55: trainloss 4.21, testloss 4.78, accuracy 0.75, earliness 0.14. classifi"
     ]
    },
    {
     "name": "stderr",
     "output_type": "stream",
     "text": [
      "INFO:tornado.access:200 POST /events (::1) 1.40ms\n",
      "INFO:tornado.access:200 POST /events (::1) 0.84ms\n",
      "INFO:tornado.access:200 POST /events (::1) 0.74ms\n",
      "INFO:tornado.access:200 POST /events (::1) 1.19ms\n",
      "INFO:tornado.access:200 POST /events (::1) 0.80ms\n",
      "INFO:tornado.access:200 POST /update (::1) 3.09ms\n",
      "INFO:tornado.access:200 POST /update (::1) 2.66ms\n",
      "INFO:tornado.access:200 POST /update (::1) 2.86ms\n",
      "INFO:tornado.access:200 POST /events (::1) 0.51ms\n",
      "INFO:tornado.access:200 POST /update (::1) 2.10ms\n",
      "INFO:tornado.access:200 POST /events (::1) 0.49ms\n",
      "INFO:tornado.access:200 POST /update (::1) 1.94ms\n",
      "INFO:tornado.access:200 POST /events (::1) 0.51ms\n",
      "INFO:tornado.access:200 POST /update (::1) 2.02ms\n",
      "INFO:tornado.access:200 POST /env/main (172.21.176.120) 4.24ms\n",
      "INFO:tornado.access:200 POST /env/main (172.21.176.120) 6.77ms\n",
      "INFO:tornado.access:200 POST /env/main (172.21.176.120) 8.98ms\n",
      "INFO:tornado.access:200 POST /env/main (172.21.176.120) 3.51ms\n",
      "INFO:tornado.access:200 POST /env/main (172.21.176.120) 5.53ms\n",
      "INFO:tornado.access:200 POST /env/main (172.21.176.120) 7.52ms\n"
     ]
    }
   ],
   "source": [
    "!python train.py --snapshot snapshots/bugsense_model.pth"
   ]
  },
  {
   "cell_type": "markdown",
   "id": "0d7c541f",
   "metadata": {},
   "source": [
    "## Import dependencies"
   ]
  },
  {
   "cell_type": "code",
   "execution_count": 6,
   "id": "e27e6d5f",
   "metadata": {
    "execution": {
     "iopub.execute_input": "2025-01-23T12:09:34.135173Z",
     "iopub.status.busy": "2025-01-23T12:09:34.134912Z",
     "iopub.status.idle": "2025-01-23T12:09:34.139034Z",
     "shell.execute_reply": "2025-01-23T12:09:34.138690Z",
     "shell.execute_reply.started": "2025-01-23T12:09:34.135155Z"
    }
   },
   "outputs": [],
   "source": [
    "import torch\n",
    "from data import BugSenseData\n",
    "import matplotlib.pyplot as plt\n",
    "from earlyrnn import EarlyRNN\n",
    "import seaborn as sns\n",
    "import numpy as np\n",
    "import os\n",
    "CLASSES = ['ecoli', 'efaecalis/kpneumoniae', 'ssaprophyticus/ehormaechei', \n",
    "           'paeruginosa/pmirabilis', 'saureus', 'sterile']"
   ]
  },
  {
   "cell_type": "code",
   "execution_count": 7,
   "id": "9666adba",
   "metadata": {
    "execution": {
     "iopub.execute_input": "2025-01-23T12:26:27.443557Z",
     "iopub.status.busy": "2025-01-23T12:26:27.443315Z",
     "iopub.status.idle": "2025-01-23T12:26:27.456462Z",
     "shell.execute_reply": "2025-01-23T12:26:27.455722Z",
     "shell.execute_reply.started": "2025-01-23T12:26:27.443540Z"
    }
   },
   "outputs": [
    {
     "name": "stdout",
     "output_type": "stream",
     "text": [
      "/media/storage/users/go98kef\n"
     ]
    },
    {
     "name": "stderr",
     "output_type": "stream",
     "text": [
      "/tmp/ipykernel_2036542/1377693546.py:7: FutureWarning: You are using `torch.load` with `weights_only=False` (the current default value), which uses the default pickle module implicitly. It is possible to construct malicious pickle data which will execute arbitrary code during unpickling (See https://github.com/pytorch/pytorch/blob/main/SECURITY.md#untrusted-models for more details). In a future release, the default value for `weights_only` will be flipped to `True`. This limits the functions that could be executed during unpickling. Arbitrary objects will no longer be allowed to be loaded via this mode unless they are explicitly allowlisted by the user via `torch.serialization.add_safe_globals`. We recommend you start setting `weights_only=True` for any use case where you don't have full control of the loaded file. Please open an issue on GitHub for any issues related to this experimental feature.\n",
      "  model.load_state_dict(torch.load(\"snapshots/bugsense_model.pth\"))\n"
     ]
    },
    {
     "data": {
      "text/plain": [
       "<All keys matched successfully>"
      ]
     },
     "execution_count": 7,
     "metadata": {},
     "output_type": "execute_result"
    }
   ],
   "source": [
    "script_dir = os.path.dirname(os.path.dirname(os.path.dirname(os.getcwd())))\n",
    "print(script_dir)\n",
    "root_dir = os.path.join(script_dir,  \"BugSenseData\")\n",
    "ds = BugSenseData(root_dir=root_dir, partition=\"eval\")\n",
    "model = EarlyRNN()\n",
    "model.eval()\n",
    "model.load_state_dict(torch.load(\"snapshots/bugsense_model.pth\"))"
   ]
  },
  {
   "cell_type": "markdown",
   "id": "c5044097",
   "metadata": {},
   "source": [
    "## Take time series sample from dataset\n",
    "\n",
    "The dataset contains Sentinel 2 satellite time series of Bavarian fields in 2018.\n",
    "Each line represents spectral reflectances in one of 13 bands acquired by the satellite over the year."
   ]
  },
  {
   "cell_type": "code",
   "execution_count": 8,
   "id": "411f091a",
   "metadata": {
    "execution": {
     "iopub.execute_input": "2025-01-23T12:26:36.527067Z",
     "iopub.status.busy": "2025-01-23T12:26:36.526220Z",
     "iopub.status.idle": "2025-01-23T12:26:36.817067Z",
     "shell.execute_reply": "2025-01-23T12:26:36.816718Z",
     "shell.execute_reply.started": "2025-01-23T12:26:36.527027Z"
    }
   },
   "outputs": [
    {
     "ename": "ValueError",
     "evalue": "only one element tensors can be converted to Python scalars",
     "output_type": "error",
     "traceback": [
      "\u001b[0;31m---------------------------------------------------------------------------\u001b[0m",
      "\u001b[0;31mValueError\u001b[0m                                Traceback (most recent call last)",
      "Cell \u001b[0;32mIn[8], line 4\u001b[0m\n\u001b[1;32m      1\u001b[0m \u001b[38;5;66;03m# change this to take different samples\u001b[39;00m\n\u001b[1;32m      2\u001b[0m index \u001b[38;5;241m=\u001b[39m \u001b[38;5;241m3\u001b[39m\n\u001b[0;32m----> 4\u001b[0m X,y \u001b[38;5;241m=\u001b[39m \u001b[43mds\u001b[49m\u001b[43m[\u001b[49m\u001b[43mindex\u001b[49m\u001b[43m]\u001b[49m\n\u001b[1;32m      5\u001b[0m \u001b[38;5;28mprint\u001b[39m(y)\n\u001b[1;32m      7\u001b[0m fig, ax \u001b[38;5;241m=\u001b[39m plt\u001b[38;5;241m.\u001b[39msubplots(figsize\u001b[38;5;241m=\u001b[39m(\u001b[38;5;241m12\u001b[39m,\u001b[38;5;241m6\u001b[39m))\n",
      "File \u001b[0;32m/media/storage/users/go98kef/ELECTS/ELECTS/ELECTS_early_time_series/data/bugsense_data.py:121\u001b[0m, in \u001b[0;36mBugSenseData.__getitem__\u001b[0;34m(self, idx)\u001b[0m\n\u001b[1;32m    118\u001b[0m     images \u001b[38;5;241m=\u001b[39m images[:\u001b[38;5;28mself\u001b[39m\u001b[38;5;241m.\u001b[39msequencelength]\n\u001b[1;32m    120\u001b[0m \u001b[38;5;66;03m# Convert to tensor\u001b[39;00m\n\u001b[0;32m--> 121\u001b[0m X \u001b[38;5;241m=\u001b[39m \u001b[43mtorch\u001b[49m\u001b[38;5;241;43m.\u001b[39;49m\u001b[43mtensor\u001b[49m\u001b[43m(\u001b[49m\u001b[43mimages\u001b[49m\u001b[43m,\u001b[49m\u001b[43m \u001b[49m\u001b[43mdtype\u001b[49m\u001b[38;5;241;43m=\u001b[39;49m\u001b[43mtorch\u001b[49m\u001b[38;5;241;43m.\u001b[39;49m\u001b[43mfloat32\u001b[49m\u001b[43m)\u001b[49m  \u001b[38;5;66;03m# Shape: [sequencelength, features]\u001b[39;00m\n\u001b[1;32m    122\u001b[0m y \u001b[38;5;241m=\u001b[39m torch\u001b[38;5;241m.\u001b[39mtensor([label], dtype\u001b[38;5;241m=\u001b[39mtorch\u001b[38;5;241m.\u001b[39mlong)  \n\u001b[1;32m    123\u001b[0m \u001b[38;5;28;01mreturn\u001b[39;00m X, y\n",
      "\u001b[0;31mValueError\u001b[0m: only one element tensors can be converted to Python scalars"
     ]
    }
   ],
   "source": [
    "# change this to take different samples\n",
    "index = 3\n",
    "\n",
    "X,y = ds[index]\n",
    "print(y)\n",
    "\n",
    "fig, ax = plt.subplots(figsize=(12,6))\n",
    "ax.plot(X)\n",
    "ax.set_title(CLASSES[y])\n",
    "sns.despine(offset=0.2)"
   ]
  },
  {
   "cell_type": "markdown",
   "id": "19eca2e6",
   "metadata": {},
   "source": [
    "## Predict with the model"
   ]
  },
  {
   "cell_type": "code",
   "execution_count": 85,
   "id": "a9ccebcb",
   "metadata": {
    "execution": {
     "iopub.execute_input": "2025-01-23T12:26:38.800838Z",
     "iopub.status.busy": "2025-01-23T12:26:38.800599Z",
     "iopub.status.idle": "2025-01-23T12:26:38.892438Z",
     "shell.execute_reply": "2025-01-23T12:26:38.891791Z",
     "shell.execute_reply.started": "2025-01-23T12:26:38.800822Z"
    }
   },
   "outputs": [
    {
     "ename": "RuntimeError",
     "evalue": "Given normalized_shape=[13], expected input with shape [*, 13], but got input of size[1, 80, 3]",
     "output_type": "error",
     "traceback": [
      "\u001b[0;31m---------------------------------------------------------------------------\u001b[0m",
      "\u001b[0;31mRuntimeError\u001b[0m                              Traceback (most recent call last)",
      "Cell \u001b[0;32mIn[85], line 4\u001b[0m\n\u001b[1;32m      1\u001b[0m \u001b[38;5;66;03m# change this T parameter to simulate shorter time series\u001b[39;00m\n\u001b[1;32m      2\u001b[0m T \u001b[38;5;241m=\u001b[39m \u001b[38;5;241m80\u001b[39m\n\u001b[0;32m----> 4\u001b[0m log_class_probabilities, probabilitiy_stopping \u001b[38;5;241m=\u001b[39m \u001b[43mmodel\u001b[49m\u001b[43m(\u001b[49m\u001b[43mX\u001b[49m\u001b[43m[\u001b[49m\u001b[43m:\u001b[49m\u001b[43mT\u001b[49m\u001b[43m]\u001b[49m\u001b[38;5;241;43m.\u001b[39;49m\u001b[43munsqueeze\u001b[49m\u001b[43m(\u001b[49m\u001b[38;5;241;43m0\u001b[39;49m\u001b[43m)\u001b[49m\u001b[43m)\u001b[49m\n\u001b[1;32m      6\u001b[0m \u001b[38;5;66;03m# visualize\u001b[39;00m\n\u001b[1;32m      7\u001b[0m fig, axs \u001b[38;5;241m=\u001b[39m plt\u001b[38;5;241m.\u001b[39msubplots(\u001b[38;5;241m2\u001b[39m,\u001b[38;5;241m1\u001b[39m, figsize\u001b[38;5;241m=\u001b[39m(\u001b[38;5;241m16\u001b[39m,\u001b[38;5;241m6\u001b[39m))\n",
      "File \u001b[0;32m/opt/conda/lib/python3.12/site-packages/torch/nn/modules/module.py:1736\u001b[0m, in \u001b[0;36mModule._wrapped_call_impl\u001b[0;34m(self, *args, **kwargs)\u001b[0m\n\u001b[1;32m   1734\u001b[0m     \u001b[38;5;28;01mreturn\u001b[39;00m \u001b[38;5;28mself\u001b[39m\u001b[38;5;241m.\u001b[39m_compiled_call_impl(\u001b[38;5;241m*\u001b[39margs, \u001b[38;5;241m*\u001b[39m\u001b[38;5;241m*\u001b[39mkwargs)  \u001b[38;5;66;03m# type: ignore[misc]\u001b[39;00m\n\u001b[1;32m   1735\u001b[0m \u001b[38;5;28;01melse\u001b[39;00m:\n\u001b[0;32m-> 1736\u001b[0m     \u001b[38;5;28;01mreturn\u001b[39;00m \u001b[38;5;28;43mself\u001b[39;49m\u001b[38;5;241;43m.\u001b[39;49m\u001b[43m_call_impl\u001b[49m\u001b[43m(\u001b[49m\u001b[38;5;241;43m*\u001b[39;49m\u001b[43margs\u001b[49m\u001b[43m,\u001b[49m\u001b[43m \u001b[49m\u001b[38;5;241;43m*\u001b[39;49m\u001b[38;5;241;43m*\u001b[39;49m\u001b[43mkwargs\u001b[49m\u001b[43m)\u001b[49m\n",
      "File \u001b[0;32m/opt/conda/lib/python3.12/site-packages/torch/nn/modules/module.py:1747\u001b[0m, in \u001b[0;36mModule._call_impl\u001b[0;34m(self, *args, **kwargs)\u001b[0m\n\u001b[1;32m   1742\u001b[0m \u001b[38;5;66;03m# If we don't have any hooks, we want to skip the rest of the logic in\u001b[39;00m\n\u001b[1;32m   1743\u001b[0m \u001b[38;5;66;03m# this function, and just call forward.\u001b[39;00m\n\u001b[1;32m   1744\u001b[0m \u001b[38;5;28;01mif\u001b[39;00m \u001b[38;5;129;01mnot\u001b[39;00m (\u001b[38;5;28mself\u001b[39m\u001b[38;5;241m.\u001b[39m_backward_hooks \u001b[38;5;129;01mor\u001b[39;00m \u001b[38;5;28mself\u001b[39m\u001b[38;5;241m.\u001b[39m_backward_pre_hooks \u001b[38;5;129;01mor\u001b[39;00m \u001b[38;5;28mself\u001b[39m\u001b[38;5;241m.\u001b[39m_forward_hooks \u001b[38;5;129;01mor\u001b[39;00m \u001b[38;5;28mself\u001b[39m\u001b[38;5;241m.\u001b[39m_forward_pre_hooks\n\u001b[1;32m   1745\u001b[0m         \u001b[38;5;129;01mor\u001b[39;00m _global_backward_pre_hooks \u001b[38;5;129;01mor\u001b[39;00m _global_backward_hooks\n\u001b[1;32m   1746\u001b[0m         \u001b[38;5;129;01mor\u001b[39;00m _global_forward_hooks \u001b[38;5;129;01mor\u001b[39;00m _global_forward_pre_hooks):\n\u001b[0;32m-> 1747\u001b[0m     \u001b[38;5;28;01mreturn\u001b[39;00m \u001b[43mforward_call\u001b[49m\u001b[43m(\u001b[49m\u001b[38;5;241;43m*\u001b[39;49m\u001b[43margs\u001b[49m\u001b[43m,\u001b[49m\u001b[43m \u001b[49m\u001b[38;5;241;43m*\u001b[39;49m\u001b[38;5;241;43m*\u001b[39;49m\u001b[43mkwargs\u001b[49m\u001b[43m)\u001b[49m\n\u001b[1;32m   1749\u001b[0m result \u001b[38;5;241m=\u001b[39m \u001b[38;5;28;01mNone\u001b[39;00m\n\u001b[1;32m   1750\u001b[0m called_always_called_hooks \u001b[38;5;241m=\u001b[39m \u001b[38;5;28mset\u001b[39m()\n",
      "File \u001b[0;32m/media/storage/users/go98kef/ELECTS/ELECTS/ELECTS_early_time_series/earlyrnn.py:27\u001b[0m, in \u001b[0;36mEarlyRNN.forward\u001b[0;34m(self, x)\u001b[0m\n\u001b[1;32m     26\u001b[0m \u001b[38;5;28;01mdef\u001b[39;00m \u001b[38;5;21mforward\u001b[39m(\u001b[38;5;28mself\u001b[39m, x):\n\u001b[0;32m---> 27\u001b[0m     x \u001b[38;5;241m=\u001b[39m \u001b[38;5;28;43mself\u001b[39;49m\u001b[38;5;241;43m.\u001b[39;49m\u001b[43mintransforms\u001b[49m\u001b[43m(\u001b[49m\u001b[43mx\u001b[49m\u001b[43m)\u001b[49m\n\u001b[1;32m     29\u001b[0m     outputs, last_state_list \u001b[38;5;241m=\u001b[39m \u001b[38;5;28mself\u001b[39m\u001b[38;5;241m.\u001b[39mbackbone(x)\n\u001b[1;32m     31\u001b[0m     log_class_probabilities \u001b[38;5;241m=\u001b[39m \u001b[38;5;28mself\u001b[39m\u001b[38;5;241m.\u001b[39mclassification_head(outputs)\n",
      "File \u001b[0;32m/opt/conda/lib/python3.12/site-packages/torch/nn/modules/module.py:1736\u001b[0m, in \u001b[0;36mModule._wrapped_call_impl\u001b[0;34m(self, *args, **kwargs)\u001b[0m\n\u001b[1;32m   1734\u001b[0m     \u001b[38;5;28;01mreturn\u001b[39;00m \u001b[38;5;28mself\u001b[39m\u001b[38;5;241m.\u001b[39m_compiled_call_impl(\u001b[38;5;241m*\u001b[39margs, \u001b[38;5;241m*\u001b[39m\u001b[38;5;241m*\u001b[39mkwargs)  \u001b[38;5;66;03m# type: ignore[misc]\u001b[39;00m\n\u001b[1;32m   1735\u001b[0m \u001b[38;5;28;01melse\u001b[39;00m:\n\u001b[0;32m-> 1736\u001b[0m     \u001b[38;5;28;01mreturn\u001b[39;00m \u001b[38;5;28;43mself\u001b[39;49m\u001b[38;5;241;43m.\u001b[39;49m\u001b[43m_call_impl\u001b[49m\u001b[43m(\u001b[49m\u001b[38;5;241;43m*\u001b[39;49m\u001b[43margs\u001b[49m\u001b[43m,\u001b[49m\u001b[43m \u001b[49m\u001b[38;5;241;43m*\u001b[39;49m\u001b[38;5;241;43m*\u001b[39;49m\u001b[43mkwargs\u001b[49m\u001b[43m)\u001b[49m\n",
      "File \u001b[0;32m/opt/conda/lib/python3.12/site-packages/torch/nn/modules/module.py:1747\u001b[0m, in \u001b[0;36mModule._call_impl\u001b[0;34m(self, *args, **kwargs)\u001b[0m\n\u001b[1;32m   1742\u001b[0m \u001b[38;5;66;03m# If we don't have any hooks, we want to skip the rest of the logic in\u001b[39;00m\n\u001b[1;32m   1743\u001b[0m \u001b[38;5;66;03m# this function, and just call forward.\u001b[39;00m\n\u001b[1;32m   1744\u001b[0m \u001b[38;5;28;01mif\u001b[39;00m \u001b[38;5;129;01mnot\u001b[39;00m (\u001b[38;5;28mself\u001b[39m\u001b[38;5;241m.\u001b[39m_backward_hooks \u001b[38;5;129;01mor\u001b[39;00m \u001b[38;5;28mself\u001b[39m\u001b[38;5;241m.\u001b[39m_backward_pre_hooks \u001b[38;5;129;01mor\u001b[39;00m \u001b[38;5;28mself\u001b[39m\u001b[38;5;241m.\u001b[39m_forward_hooks \u001b[38;5;129;01mor\u001b[39;00m \u001b[38;5;28mself\u001b[39m\u001b[38;5;241m.\u001b[39m_forward_pre_hooks\n\u001b[1;32m   1745\u001b[0m         \u001b[38;5;129;01mor\u001b[39;00m _global_backward_pre_hooks \u001b[38;5;129;01mor\u001b[39;00m _global_backward_hooks\n\u001b[1;32m   1746\u001b[0m         \u001b[38;5;129;01mor\u001b[39;00m _global_forward_hooks \u001b[38;5;129;01mor\u001b[39;00m _global_forward_pre_hooks):\n\u001b[0;32m-> 1747\u001b[0m     \u001b[38;5;28;01mreturn\u001b[39;00m \u001b[43mforward_call\u001b[49m\u001b[43m(\u001b[49m\u001b[38;5;241;43m*\u001b[39;49m\u001b[43margs\u001b[49m\u001b[43m,\u001b[49m\u001b[43m \u001b[49m\u001b[38;5;241;43m*\u001b[39;49m\u001b[38;5;241;43m*\u001b[39;49m\u001b[43mkwargs\u001b[49m\u001b[43m)\u001b[49m\n\u001b[1;32m   1749\u001b[0m result \u001b[38;5;241m=\u001b[39m \u001b[38;5;28;01mNone\u001b[39;00m\n\u001b[1;32m   1750\u001b[0m called_always_called_hooks \u001b[38;5;241m=\u001b[39m \u001b[38;5;28mset\u001b[39m()\n",
      "File \u001b[0;32m/opt/conda/lib/python3.12/site-packages/torch/nn/modules/container.py:250\u001b[0m, in \u001b[0;36mSequential.forward\u001b[0;34m(self, input)\u001b[0m\n\u001b[1;32m    248\u001b[0m \u001b[38;5;28;01mdef\u001b[39;00m \u001b[38;5;21mforward\u001b[39m(\u001b[38;5;28mself\u001b[39m, \u001b[38;5;28minput\u001b[39m):\n\u001b[1;32m    249\u001b[0m     \u001b[38;5;28;01mfor\u001b[39;00m module \u001b[38;5;129;01min\u001b[39;00m \u001b[38;5;28mself\u001b[39m:\n\u001b[0;32m--> 250\u001b[0m         \u001b[38;5;28minput\u001b[39m \u001b[38;5;241m=\u001b[39m \u001b[43mmodule\u001b[49m\u001b[43m(\u001b[49m\u001b[38;5;28;43minput\u001b[39;49m\u001b[43m)\u001b[49m\n\u001b[1;32m    251\u001b[0m     \u001b[38;5;28;01mreturn\u001b[39;00m \u001b[38;5;28minput\u001b[39m\n",
      "File \u001b[0;32m/opt/conda/lib/python3.12/site-packages/torch/nn/modules/module.py:1736\u001b[0m, in \u001b[0;36mModule._wrapped_call_impl\u001b[0;34m(self, *args, **kwargs)\u001b[0m\n\u001b[1;32m   1734\u001b[0m     \u001b[38;5;28;01mreturn\u001b[39;00m \u001b[38;5;28mself\u001b[39m\u001b[38;5;241m.\u001b[39m_compiled_call_impl(\u001b[38;5;241m*\u001b[39margs, \u001b[38;5;241m*\u001b[39m\u001b[38;5;241m*\u001b[39mkwargs)  \u001b[38;5;66;03m# type: ignore[misc]\u001b[39;00m\n\u001b[1;32m   1735\u001b[0m \u001b[38;5;28;01melse\u001b[39;00m:\n\u001b[0;32m-> 1736\u001b[0m     \u001b[38;5;28;01mreturn\u001b[39;00m \u001b[38;5;28;43mself\u001b[39;49m\u001b[38;5;241;43m.\u001b[39;49m\u001b[43m_call_impl\u001b[49m\u001b[43m(\u001b[49m\u001b[38;5;241;43m*\u001b[39;49m\u001b[43margs\u001b[49m\u001b[43m,\u001b[49m\u001b[43m \u001b[49m\u001b[38;5;241;43m*\u001b[39;49m\u001b[38;5;241;43m*\u001b[39;49m\u001b[43mkwargs\u001b[49m\u001b[43m)\u001b[49m\n",
      "File \u001b[0;32m/opt/conda/lib/python3.12/site-packages/torch/nn/modules/module.py:1747\u001b[0m, in \u001b[0;36mModule._call_impl\u001b[0;34m(self, *args, **kwargs)\u001b[0m\n\u001b[1;32m   1742\u001b[0m \u001b[38;5;66;03m# If we don't have any hooks, we want to skip the rest of the logic in\u001b[39;00m\n\u001b[1;32m   1743\u001b[0m \u001b[38;5;66;03m# this function, and just call forward.\u001b[39;00m\n\u001b[1;32m   1744\u001b[0m \u001b[38;5;28;01mif\u001b[39;00m \u001b[38;5;129;01mnot\u001b[39;00m (\u001b[38;5;28mself\u001b[39m\u001b[38;5;241m.\u001b[39m_backward_hooks \u001b[38;5;129;01mor\u001b[39;00m \u001b[38;5;28mself\u001b[39m\u001b[38;5;241m.\u001b[39m_backward_pre_hooks \u001b[38;5;129;01mor\u001b[39;00m \u001b[38;5;28mself\u001b[39m\u001b[38;5;241m.\u001b[39m_forward_hooks \u001b[38;5;129;01mor\u001b[39;00m \u001b[38;5;28mself\u001b[39m\u001b[38;5;241m.\u001b[39m_forward_pre_hooks\n\u001b[1;32m   1745\u001b[0m         \u001b[38;5;129;01mor\u001b[39;00m _global_backward_pre_hooks \u001b[38;5;129;01mor\u001b[39;00m _global_backward_hooks\n\u001b[1;32m   1746\u001b[0m         \u001b[38;5;129;01mor\u001b[39;00m _global_forward_hooks \u001b[38;5;129;01mor\u001b[39;00m _global_forward_pre_hooks):\n\u001b[0;32m-> 1747\u001b[0m     \u001b[38;5;28;01mreturn\u001b[39;00m \u001b[43mforward_call\u001b[49m\u001b[43m(\u001b[49m\u001b[38;5;241;43m*\u001b[39;49m\u001b[43margs\u001b[49m\u001b[43m,\u001b[49m\u001b[43m \u001b[49m\u001b[38;5;241;43m*\u001b[39;49m\u001b[38;5;241;43m*\u001b[39;49m\u001b[43mkwargs\u001b[49m\u001b[43m)\u001b[49m\n\u001b[1;32m   1749\u001b[0m result \u001b[38;5;241m=\u001b[39m \u001b[38;5;28;01mNone\u001b[39;00m\n\u001b[1;32m   1750\u001b[0m called_always_called_hooks \u001b[38;5;241m=\u001b[39m \u001b[38;5;28mset\u001b[39m()\n",
      "File \u001b[0;32m/opt/conda/lib/python3.12/site-packages/torch/nn/modules/normalization.py:217\u001b[0m, in \u001b[0;36mLayerNorm.forward\u001b[0;34m(self, input)\u001b[0m\n\u001b[1;32m    216\u001b[0m \u001b[38;5;28;01mdef\u001b[39;00m \u001b[38;5;21mforward\u001b[39m(\u001b[38;5;28mself\u001b[39m, \u001b[38;5;28minput\u001b[39m: Tensor) \u001b[38;5;241m-\u001b[39m\u001b[38;5;241m>\u001b[39m Tensor:\n\u001b[0;32m--> 217\u001b[0m     \u001b[38;5;28;01mreturn\u001b[39;00m \u001b[43mF\u001b[49m\u001b[38;5;241;43m.\u001b[39;49m\u001b[43mlayer_norm\u001b[49m\u001b[43m(\u001b[49m\n\u001b[1;32m    218\u001b[0m \u001b[43m        \u001b[49m\u001b[38;5;28;43minput\u001b[39;49m\u001b[43m,\u001b[49m\u001b[43m \u001b[49m\u001b[38;5;28;43mself\u001b[39;49m\u001b[38;5;241;43m.\u001b[39;49m\u001b[43mnormalized_shape\u001b[49m\u001b[43m,\u001b[49m\u001b[43m \u001b[49m\u001b[38;5;28;43mself\u001b[39;49m\u001b[38;5;241;43m.\u001b[39;49m\u001b[43mweight\u001b[49m\u001b[43m,\u001b[49m\u001b[43m \u001b[49m\u001b[38;5;28;43mself\u001b[39;49m\u001b[38;5;241;43m.\u001b[39;49m\u001b[43mbias\u001b[49m\u001b[43m,\u001b[49m\u001b[43m \u001b[49m\u001b[38;5;28;43mself\u001b[39;49m\u001b[38;5;241;43m.\u001b[39;49m\u001b[43meps\u001b[49m\n\u001b[1;32m    219\u001b[0m \u001b[43m    \u001b[49m\u001b[43m)\u001b[49m\n",
      "File \u001b[0;32m/opt/conda/lib/python3.12/site-packages/torch/nn/functional.py:2900\u001b[0m, in \u001b[0;36mlayer_norm\u001b[0;34m(input, normalized_shape, weight, bias, eps)\u001b[0m\n\u001b[1;32m   2890\u001b[0m \u001b[38;5;28;01mif\u001b[39;00m has_torch_function_variadic(\u001b[38;5;28minput\u001b[39m, weight, bias):\n\u001b[1;32m   2891\u001b[0m     \u001b[38;5;28;01mreturn\u001b[39;00m handle_torch_function(\n\u001b[1;32m   2892\u001b[0m         layer_norm,\n\u001b[1;32m   2893\u001b[0m         (\u001b[38;5;28minput\u001b[39m, weight, bias),\n\u001b[0;32m   (...)\u001b[0m\n\u001b[1;32m   2898\u001b[0m         eps\u001b[38;5;241m=\u001b[39meps,\n\u001b[1;32m   2899\u001b[0m     )\n\u001b[0;32m-> 2900\u001b[0m \u001b[38;5;28;01mreturn\u001b[39;00m \u001b[43mtorch\u001b[49m\u001b[38;5;241;43m.\u001b[39;49m\u001b[43mlayer_norm\u001b[49m\u001b[43m(\u001b[49m\n\u001b[1;32m   2901\u001b[0m \u001b[43m    \u001b[49m\u001b[38;5;28;43minput\u001b[39;49m\u001b[43m,\u001b[49m\u001b[43m \u001b[49m\u001b[43mnormalized_shape\u001b[49m\u001b[43m,\u001b[49m\u001b[43m \u001b[49m\u001b[43mweight\u001b[49m\u001b[43m,\u001b[49m\u001b[43m \u001b[49m\u001b[43mbias\u001b[49m\u001b[43m,\u001b[49m\u001b[43m \u001b[49m\u001b[43meps\u001b[49m\u001b[43m,\u001b[49m\u001b[43m \u001b[49m\u001b[43mtorch\u001b[49m\u001b[38;5;241;43m.\u001b[39;49m\u001b[43mbackends\u001b[49m\u001b[38;5;241;43m.\u001b[39;49m\u001b[43mcudnn\u001b[49m\u001b[38;5;241;43m.\u001b[39;49m\u001b[43menabled\u001b[49m\n\u001b[1;32m   2902\u001b[0m \u001b[43m\u001b[49m\u001b[43m)\u001b[49m\n",
      "\u001b[0;31mRuntimeError\u001b[0m: Given normalized_shape=[13], expected input with shape [*, 13], but got input of size[1, 80, 3]"
     ]
    },
    {
     "data": {
      "text/html": [
       "<table width=\"100%\"><tr><td style=\"text-align:left;\"><button class=\"stack-trace-btn\" onclick=\"window.open('https://google.com/search?sendquery=1&q=RuntimeError%3A+Given+normalized_shape%3D%5B13%5D%2C+expected+input+with+shape+%5B*%2C+13%5D%2C+but+got+input+of+size%5B1%2C+80%2C+3%5D+site:stackoverflow.com', '_blank');\">Search Stack Overflow</button></td><td style=\"text-align:right;\"><button class=\"stack-trace-btn\" onclick=\"window.open('https://www.bing.com/chat?sendquery=1&q=Please+help+me+with+the+following+error%3A%0A---------------------------------------------------------------------------%0ARuntimeError++++++++++++++++++++++++++++++Traceback+%28most+recent+call+last%29%0ACell+In%5B85%5D%2C+line+4%0A++++++1+%23+change+this+T+parameter+to+simulate+shorter+time+series%0A++++++2+T+%3D+80%0A----%3E+4+log_class_probabilities%2C+probabilitiy_stopping+%3D+model%28X%5B%3AT%5D.unsqueeze%280%29%29%0A++++++6+%23+visualize%0A++++++7+fig%2C+axs+%3D+plt.subplots%282%2C1%2C+figsize%3D%2816%2C6%29%29%0A%0AFile+%2Fopt%2Fconda%2Flib%2Fpython3.12%2Fsite-packages%2Ftorch%2Fnn%2Fmodules%2Fmodule.py%3A1736%2C+in+Module._wrapped_call_impl%28self%2C+*args%2C+**kwargs%29%0A+++1734+++++return+self._compiled_call_impl%28*args%2C+**kwargs%29++%23+type%3A+ignore%5Bmisc%5D%0A+++1735+else%3A%0A-%3E+1736+++++return+self._call_impl%28*args%2C+**kwargs%29%0A%0AFile+%2Fopt%2Fconda%2Flib%2Fpython3.12%2Fsite-packages%2Ftorch%2Fnn%2Fmodules%2Fmodule.py%3A1747%2C+in+Module._call_impl%28self%2C+*args%2C+**kwargs%29%0A+++1742+%23+If+we+don%27t+have+any+hooks%2C+we+want+to+skip+the+rest+of+the+logic+in%0A+++1743+%23+this+function%2C+and+just+call+forward.%0A+++1744+if+not+%28self._backward_hooks+or+self._backward_pre_hooks+or+self._forward_hooks+or+self._forward_pre_hooks%0A+++1745+++++++++or+_global_backward_pre_hooks+or+_global_backward_hooks%0A+++1746+++++++++or+_global_forward_hooks+or+_global_forward_pre_hooks%29%3A%0A-%3E+1747+++++return+forward_call%28*args%2C+**kwargs%29%0A+++1749+result+%3D+None%0A+++1750+called_always_called_hooks+%3D+set%28%29%0A%0AFile+%2Fmedia%2Fstorage%2Fusers%2Fgo98kef%2FELECTS%2FELECTS%2FELECTS_early_time_series%2Fearlyrnn.py%3A27%2C+in+EarlyRNN.forward%28self%2C+x%29%0A+++++26+def+forward%28self%2C+x%29%3A%0A---%3E+27+++++x+%3D+self.intransforms%28x%29%0A+++++29+++++outputs%2C+last_state_list+%3D+self.backbone%28x%29%0A+++++31+++++log_class_probabilities+%3D+self.classification_head%28outputs%29%0A%0AFile+%2Fopt%2Fconda%2Flib%2Fpython3.12%2Fsite-packages%2Ftorch%2Fnn%2Fmodules%2Fmodule.py%3A1736%2C+in+Module._wrapped_call_impl%28self%2C+*args%2C+**kwargs%29%0A+++1734+++++return+self._compiled_call_impl%28*args%2C+**kwargs%29++%23+type%3A+ignore%5Bmisc%5D%0A+++1735+else%3A%0A-%3E+1736+++++return+self._call_impl%28*args%2C+**kwargs%29%0A%0AFile+%2Fopt%2Fconda%2Flib%2Fpython3.12%2Fsite-packages%2Ftorch%2Fnn%2Fmodules%2Fmodule.py%3A1747%2C+in+Module._call_impl%28self%2C+*args%2C+**kwargs%29%0A+++1742+%23+If+we+don%27t+have+any+hooks%2C+we+want+to+skip+the+rest+of+the+logic+in%0A+++1743+%23+this+function%2C+and+just+call+forward.%0A+++1744+if+not+%28self._backward_hooks+or+self._backward_pre_hooks+or+self._forward_hooks+or+self._forward_pre_hooks%0A+++1745+++++++++or+_global_backward_pre_hooks+or+_global_backward_hooks%0A+++1746+++++++++or+_global_forward_hooks+or+_global_forward_pre_hooks%29%3A%0A-%3E+1747+++++return+forward_call%28*args%2C+**kwargs%29%0A+++1749+result+%3D+None%0A+++1750+called_always_called_hooks+%3D+set%28%29%0A%0AFile+%2Fopt%2Fconda%2Flib%2Fpython3.12%2Fsite-packages%2Ftorch%2Fnn%2Fmodules%2Fcontainer.py%3A250%2C+in+Sequential.forward%28self%2C+input%29%0A++++248+def+forward%28self%2C+input%29%3A%0A++++249+++++for+module+in+self%3A%0A--%3E+250+++++++++input+%3D+module%28input%29%0A++++251+++++return+input%0A%0AFile+%2Fopt%2Fconda%2Flib%2Fpython3.12%2Fsite-packages%2Ftorch%2Fnn%2Fmodules%2Fmodule.py%3A1736%2C+in+Module._wrapped_call_impl%28self%2C+*args%2C+**kwargs%29%0A+++1734+++++return+self._compiled_call_impl%28*args%2C+**kwargs%29++%23+type%3A+ignore%5Bmisc%5D%0A+++1735+else%3A%0A-%3E+1736+++++return+self._call_impl%28*args%2C+**kwargs%29%0A%0AFile+%2Fopt%2Fconda%2Flib%2Fpython3.12%2Fsite-packages%2Ftorch%2Fnn%2Fmodules%2Fmodule.py%3A1747%2C+in+Module._call_impl%28self%2C+*args%2C+**kwargs%29%0A+++1742+%23+If+we+don%27t+have+any+hooks%2C+we+want+to+skip+the+rest+of+the+logic+in%0A+++1743+%23+this+function%2C+and+just+call+forward.%0A+++1744+if+not+%28self._backward_hooks+or+self._backward_pre_hooks+or+self._forward_hooks+or+self._forward_pre_hooks%0A+++1745+++++++++or+_global_backward_pre_hooks+or+_global_backward_hooks%0A+++1746+++++++++or+_global_forward_hooks+or+_global_forward_pre_hooks%29%3A%0A-%3E+1747+++++return+forward_call%28*args%2C+**kwargs%29%0A+++1749+result+%3D+None%0A+++1750+called_always_called_hooks+%3D+set%28%29%0A%0AFile+%2Fopt%2Fconda%2Flib%2Fpython3.12%2Fsite-packages%2Ftorch%2Fnn%2Fmodules%2Fnormalization.py%3A217%2C+in+LayerNorm.forward%28self%2C+input%29%0A++++216+def+forward%28self%2C+input%3A+Tensor%29+-%3E+Tensor%3A%0A--%3E+217+++++return+F.layer_norm%28%0A++++218+++++++++input%2C+self.normalized_shape%2C+self.weight%2C+self.bias%2C+self.eps%0A++++219+++++%29%0A%0AFile+%2Fopt%2Fconda%2Flib%2Fpython3.12%2Fsite-packages%2Ftorch%2Fnn%2Ffunctional.py%3A2900%2C+in+layer_norm%28input%2C+normalized_shape%2C+weight%2C+bias%2C+eps%29%0A+++2890+if+has_torch_function_variadic%28input%2C+weight%2C+bias%29%3A%0A+++2891+++++return+handle_torch_function%28%0A+++2892+++++++++layer_norm%2C%0A+++2893+++++++++%28input%2C+weight%2C+bias%29%2C%0A+++%28...%29%0A+++2898+++++++++eps%3Deps%2C%0A+++2899+++++%29%0A-%3E+2900+return+torch.layer_norm%28%0A+++2901+++++input%2C+normalized_shape%2C+weight%2C+bias%2C+eps%2C+torch.backends.cudnn.enabled%0A+++2902+%29%0A%0ARuntimeError%3A+Given+normalized_shape%3D%5B13%5D%2C+expected+input+with+shape+%5B*%2C+13%5D%2C+but+got+input+of+size%5B1%2C+80%2C+3%5D', '_blank');\">Ask Bing Chat</button></td></tr></table>"
      ]
     },
     "metadata": {},
     "output_type": "display_data"
    }
   ],
   "source": [
    "# change this T parameter to simulate shorter time series\n",
    "T = 80\n",
    "\n",
    "log_class_probabilities, probabilitiy_stopping = model(X[:T].unsqueeze(0))\n",
    "\n",
    "# visualize\n",
    "fig, axs = plt.subplots(2,1, figsize=(16,6))\n",
    "ax = axs[0]\n",
    "ax.plot(log_class_probabilities[0].exp().detach().numpy())\n",
    "ax.set_ylim(0,1)\n",
    "ax.legend(CLASSES, loc=1)\n",
    "ax.set_title(f\"classification probabilities (correct class = {CLASSES[y[0]]})\")\n",
    "ax = axs[1]\n",
    "ax.bar(x = np.arange(probabilitiy_stopping.shape[1]), height = probabilitiy_stopping[0].detach().numpy())\n",
    "ax.set_title(\"stopping probability\")\n",
    "ax.set_ylim(0,1)\n",
    "sns.despine(offset=0.2)"
   ]
  },
  {
   "cell_type": "code",
   "execution_count": null,
   "id": "30f7ffb3",
   "metadata": {},
   "outputs": [],
   "source": []
  }
 ],
 "metadata": {
  "kernelspec": {
   "display_name": "venv",
   "language": "python",
   "name": "python3"
  },
  "language_info": {
   "codemirror_mode": {
    "name": "ipython",
    "version": 3
   },
   "file_extension": ".py",
   "mimetype": "text/x-python",
   "name": "python",
   "nbconvert_exporter": "python",
   "pygments_lexer": "ipython3",
   "version": "3.10.12"
  }
 },
 "nbformat": 4,
 "nbformat_minor": 5
}
